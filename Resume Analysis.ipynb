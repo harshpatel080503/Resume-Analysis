{
 "cells": [
  {
   "cell_type": "markdown",
   "id": "7f309f97",
   "metadata": {},
   "source": [
    "# Introduction"
   ]
  },
  {
   "cell_type": "markdown",
   "id": "a9b3489a",
   "metadata": {},
   "source": [
    "In this project, we are going to use spacy for entity recognition on 200 Resume and experiment around various NLP tools for text analysis. The main purpose of this project is to help recruiters go throwing hundreds of applications within a few minutes. We have also added skills match feature so that hiring managers can follow a metric that will help them to decide whether they should move to the interview stage or not. We will be using two datasets; the first contains resume texts and the second contains skills that we will use to create an entity ruler."
   ]
  },
  {
   "cell_type": "markdown",
   "id": "4d3adbb1",
   "metadata": {},
   "source": [
    "# Dataset"
   ]
  },
  {
   "cell_type": "markdown",
   "id": "4b853ddb",
   "metadata": {},
   "source": [
    "A collection of 2400+ Resume Examples taken from livecareer.com for categorizing a given resume into any of the labels defined in the dataset:https://www.kaggle.com/snehaanbhawal/resume-dataset"
   ]
  },
  {
   "cell_type": "markdown",
   "id": "15d60284",
   "metadata": {},
   "source": [
    "# Inside the csv"
   ]
  },
  {
   "cell_type": "markdown",
   "id": "588a16bf",
   "metadata": {},
   "source": [
    "•ID: Unique identifier and file name for the respective pdf.\n",
    "\n",
    "•Resume_str : Contains the resume text only in string format.\n",
    "\n",
    "•Resume_html : Contains the resume data in html format as present while web scrapping.\n",
    "\n",
    "•Category : Category of the job the resume was used to apply."
   ]
  },
  {
   "cell_type": "markdown",
   "id": "18fd615d",
   "metadata": {},
   "source": [
    "# present categories"
   ]
  },
  {
   "cell_type": "markdown",
   "id": "e67f0f82",
   "metadata": {},
   "source": [
    "HR, Designer, Information-Technology, Teacher, Advocate, Business-Development, Healthcare, Fitness,\n",
    "Agriculture, BPO, Sales, Consultant, Digital-Media, Automobile, Chef, Finance, Apparel, Engineering,\n",
    "Accountant, Construction, Public-Relations, Banking, Arts, Aviation"
   ]
  },
  {
   "cell_type": "code",
   "execution_count": 36,
   "id": "b0f92ff5",
   "metadata": {},
   "outputs": [
    {
     "name": "stderr",
     "output_type": "stream",
     "text": [
      "[nltk_data] Downloading package stopwords to\n",
      "[nltk_data]     C:\\Users\\harsh\\AppData\\Roaming\\nltk_data...\n",
      "[nltk_data]   Package stopwords is already up-to-date!\n",
      "[nltk_data] Downloading package wordnet to\n",
      "[nltk_data]     C:\\Users\\harsh\\AppData\\Roaming\\nltk_data...\n",
      "[nltk_data]   Package wordnet is already up-to-date!\n"
     ]
    }
   ],
   "source": [
    "#spacy\n",
    "import spacy\n",
    "from spacy.pipeline import EntityRuler\n",
    "from spacy.lang.en import English\n",
    "from spacy.tokens import Doc\n",
    "\n",
    "#gensim\n",
    "import gensim\n",
    "from gensim import corpora\n",
    "\n",
    "#Visualization\n",
    "from spacy import displacy\n",
    "import pyLDAvis.gensim_models\n",
    "from wordcloud import WordCloud\n",
    "import plotly.express as px\n",
    "import matplotlib.pyplot as plt\n",
    "\n",
    "#Data loading/ Data manipulation\n",
    "import pandas as pd\n",
    "import numpy as np\n",
    "import jsonlines\n",
    "\n",
    "#nltk\n",
    "import re\n",
    "import nltk\n",
    "from nltk.corpus import stopwords\n",
    "from nltk.stem import WordNetLemmatizer\n",
    "nltk.download(['stopwords','wordnet'])\n",
    "\n",
    "#warning\n",
    "import warnings \n",
    "warnings.filterwarnings('ignore')"
   ]
  },
  {
   "cell_type": "markdown",
   "id": "b2566ad2",
   "metadata": {},
   "source": [
    "# Loading"
   ]
  },
  {
   "cell_type": "markdown",
   "id": "4404a5e7",
   "metadata": {},
   "source": [
    "In this section, we are going to load the spaCy model, Resume Dataset, and Jobzilla skills dataset directly into the entity ruler."
   ]
  },
  {
   "cell_type": "markdown",
   "id": "b09357f0",
   "metadata": {},
   "source": [
    "# Resume Dataset"
   ]
  },
  {
   "cell_type": "markdown",
   "id": "dcd52fe2",
   "metadata": {},
   "source": [
    "Using Pandas read_csv to read dataset containing text data about Resume.\n",
    "\n",
    "•we are going to randomized Job categories so that 200 samples contain various job categories instead of one.\n",
    "\n",
    "•we are going to limit our number of samples to 200 as processing 2400+ takes time."
   ]
  },
  {
   "cell_type": "code",
   "execution_count": 37,
   "id": "241ccc48",
   "metadata": {
    "scrolled": true
   },
   "outputs": [
    {
     "data": {
      "text/html": [
       "<div>\n",
       "<style scoped>\n",
       "    .dataframe tbody tr th:only-of-type {\n",
       "        vertical-align: middle;\n",
       "    }\n",
       "\n",
       "    .dataframe tbody tr th {\n",
       "        vertical-align: top;\n",
       "    }\n",
       "\n",
       "    .dataframe thead th {\n",
       "        text-align: right;\n",
       "    }\n",
       "</style>\n",
       "<table border=\"1\" class=\"dataframe\">\n",
       "  <thead>\n",
       "    <tr style=\"text-align: right;\">\n",
       "      <th></th>\n",
       "      <th>ID</th>\n",
       "      <th>Resume_str</th>\n",
       "      <th>Resume_html</th>\n",
       "      <th>Category</th>\n",
       "    </tr>\n",
       "  </thead>\n",
       "  <tbody>\n",
       "    <tr>\n",
       "      <th>553</th>\n",
       "      <td>24946537</td>\n",
       "      <td>MULTIMEDIA SALES CONSULTANT         P...</td>\n",
       "      <td>&lt;div class=\"skn-cbg1 fontsize fontface vmargin...</td>\n",
       "      <td>ADVOCATE</td>\n",
       "    </tr>\n",
       "    <tr>\n",
       "      <th>657</th>\n",
       "      <td>91467795</td>\n",
       "      <td>BUSINESS DEVELOPMENT CONSULTANT      ...</td>\n",
       "      <td>&lt;div class=\"fontsize fontface vmargins hmargin...</td>\n",
       "      <td>BUSINESS-DEVELOPMENT</td>\n",
       "    </tr>\n",
       "    <tr>\n",
       "      <th>2454</th>\n",
       "      <td>22442947</td>\n",
       "      <td>PASSENGER SERVICE CONCOURSE MANAGER  ...</td>\n",
       "      <td>&lt;div class=\"fontsize fontface vmargins hmargin...</td>\n",
       "      <td>AVIATION</td>\n",
       "    </tr>\n",
       "    <tr>\n",
       "      <th>311</th>\n",
       "      <td>26746496</td>\n",
       "      <td>DATABASE PROGRAMMER/ANALYST (.NET DEV...</td>\n",
       "      <td>&lt;div class=\"fontsize fontface vmargins hmargin...</td>\n",
       "      <td>INFORMATION-TECHNOLOGY</td>\n",
       "    </tr>\n",
       "    <tr>\n",
       "      <th>174</th>\n",
       "      <td>14743911</td>\n",
       "      <td>TECHNICAL TRAINER/ INSTRUCTIONAL DESI...</td>\n",
       "      <td>&lt;div class=\"fontsize fontface vmargins hmargin...</td>\n",
       "      <td>DESIGNER</td>\n",
       "    </tr>\n",
       "  </tbody>\n",
       "</table>\n",
       "</div>"
      ],
      "text/plain": [
       "            ID                                         Resume_str  \\\n",
       "553   24946537           MULTIMEDIA SALES CONSULTANT         P...   \n",
       "657   91467795           BUSINESS DEVELOPMENT CONSULTANT      ...   \n",
       "2454  22442947           PASSENGER SERVICE CONCOURSE MANAGER  ...   \n",
       "311   26746496           DATABASE PROGRAMMER/ANALYST (.NET DEV...   \n",
       "174   14743911           TECHNICAL TRAINER/ INSTRUCTIONAL DESI...   \n",
       "\n",
       "                                            Resume_html  \\\n",
       "553   <div class=\"skn-cbg1 fontsize fontface vmargin...   \n",
       "657   <div class=\"fontsize fontface vmargins hmargin...   \n",
       "2454  <div class=\"fontsize fontface vmargins hmargin...   \n",
       "311   <div class=\"fontsize fontface vmargins hmargin...   \n",
       "174   <div class=\"fontsize fontface vmargins hmargin...   \n",
       "\n",
       "                    Category  \n",
       "553                 ADVOCATE  \n",
       "657     BUSINESS-DEVELOPMENT  \n",
       "2454                AVIATION  \n",
       "311   INFORMATION-TECHNOLOGY  \n",
       "174                 DESIGNER  "
      ]
     },
     "execution_count": 37,
     "metadata": {},
     "output_type": "execute_result"
    }
   ],
   "source": [
    "df = pd.read_csv(\"E:/Data Science/Resume Analysis/Resume/Resume.csv\")\n",
    "df = df.reindex(np.random.permutation(df.index))\n",
    "data = df.copy().iloc[0:200]\n",
    "data.head()"
   ]
  },
  {
   "cell_type": "markdown",
   "id": "71b86c54",
   "metadata": {},
   "source": [
    "# Loading spaCy model"
   ]
  },
  {
   "cell_type": "markdown",
   "id": "9698bcb6",
   "metadata": {},
   "source": [
    "•You can download spaCy model using python -m spacy en_core_web_lg\n",
    "\n",
    "•Then load spacy model into nlp."
   ]
  },
  {
   "cell_type": "code",
   "execution_count": 38,
   "id": "dbb09087",
   "metadata": {},
   "outputs": [],
   "source": [
    "nlp = spacy.load(\"en_core_web_sm\")\n",
    "skill_pattern_path = \"E:/Data Science/Resume Analysis/jz_skill_patterns.jsonl\""
   ]
  },
  {
   "cell_type": "markdown",
   "id": "4423f39d",
   "metadata": {},
   "source": [
    "# Entity Ruler"
   ]
  },
  {
   "cell_type": "markdown",
   "id": "f39739cd",
   "metadata": {},
   "source": [
    "To create an entity ruler we need to add a pipeline and then load the .jsonl file containing skills into ruler. As you can see we have successfully added a new pipeline entity_ruler. Entity ruler helps us add additional rules to highlight various categories within the text, such as skills and job description in our case."
   ]
  },
  {
   "cell_type": "code",
   "execution_count": 39,
   "id": "eba8ef65",
   "metadata": {},
   "outputs": [
    {
     "data": {
      "text/plain": [
       "['tok2vec',\n",
       " 'tagger',\n",
       " 'parser',\n",
       " 'attribute_ruler',\n",
       " 'lemmatizer',\n",
       " 'ner',\n",
       " 'entity_ruler']"
      ]
     },
     "execution_count": 39,
     "metadata": {},
     "output_type": "execute_result"
    }
   ],
   "source": [
    "ruler = nlp.add_pipe(\"entity_ruler\")\n",
    "ruler.from_disk(skill_pattern_path)\n",
    "nlp.pipe_names"
   ]
  },
  {
   "cell_type": "markdown",
   "id": "9912d30a",
   "metadata": {},
   "source": [
    "# Skills "
   ]
  },
  {
   "cell_type": "markdown",
   "id": "0aa04fa1",
   "metadata": {},
   "source": [
    "We will create two python functions to extract all the skills within a resume and create an array containing all the skills. Later we are going to apply this function to our dataset and create a new feature called skill. This will help us visualize trends and patterns within the dataset.\n",
    "\n",
    "•get_skills is going to extract skills from a single text.\n",
    "\n",
    "•unique_skills will remove duplicates."
   ]
  },
  {
   "cell_type": "code",
   "execution_count": 40,
   "id": "0675cf94",
   "metadata": {},
   "outputs": [],
   "source": [
    "def get_skills(text):\n",
    "    doc = nlp(text)\n",
    "    myset = []\n",
    "    subset = []\n",
    "    for ent in doc.ents:\n",
    "        if ent.label_ == \"SKILL\":\n",
    "            subset.append(ent.text)\n",
    "    myset.append(subset)\n",
    "    return subset\n",
    "\n",
    "\n",
    "def unique_skills(x):\n",
    "    return list(set(x))"
   ]
  },
  {
   "cell_type": "markdown",
   "id": "adbeb536",
   "metadata": {},
   "source": [
    "# Cleaning Resume Text"
   ]
  },
  {
   "cell_type": "markdown",
   "id": "d8057c03",
   "metadata": {},
   "source": [
    "We are going to use nltk library to clean our dataset in a few steps:\n",
    "\n",
    "•We are going to use regex to remove hyperlinks, special characters, or punctuations.\n",
    "\n",
    "•Lowering text\n",
    "\n",
    "•Splitting text into array based on space\n",
    "\n",
    "•Lemmatizing text to its base form for normalizations\n",
    "\n",
    "•Removing English stopwords\n",
    "\n",
    "•Appending the results into an array."
   ]
  },
  {
   "cell_type": "code",
   "execution_count": 41,
   "id": "b7d79027",
   "metadata": {},
   "outputs": [],
   "source": [
    "clean = []\n",
    "for i in range(data.shape[0]):\n",
    "    review = re.sub(\n",
    "        '(@[A-Za-z0-9]+)|([^0-9A-Za-z \\t])|(\\w+:\\/\\/\\S+)|^rt|http.+?\"',\n",
    "        \" \",\n",
    "        data[\"Resume_str\"].iloc[i],\n",
    "    )\n",
    "    review = review.lower()\n",
    "    review = review.split()\n",
    "    lm = WordNetLemmatizer()\n",
    "    review = [\n",
    "        lm.lemmatize(word)\n",
    "        for word in review\n",
    "        if not word in set(stopwords.words(\"english\"))\n",
    "    ]\n",
    "    review = \" \".join(review)\n",
    "    clean.append(review)"
   ]
  },
  {
   "cell_type": "markdown",
   "id": "c97c518b",
   "metadata": {},
   "source": [
    "# Applying functions"
   ]
  },
  {
   "cell_type": "markdown",
   "id": "173efdb7",
   "metadata": {},
   "source": [
    "In this section, we are going to apply all the functions we have created previously\n",
    "\n",
    "•creating Clean_Resume columns and adding cleaning Resume data.\n",
    "\n",
    "•creating skills columns, lowering text, and applying the get_skills function.\n",
    "\n",
    "•removing duplicates from skills columns.\n",
    "\n",
    "As you can see below that we have cleaned the resume and skills columns."
   ]
  },
  {
   "cell_type": "code",
   "execution_count": 42,
   "id": "d24ae536",
   "metadata": {},
   "outputs": [
    {
     "data": {
      "text/html": [
       "<div>\n",
       "<style scoped>\n",
       "    .dataframe tbody tr th:only-of-type {\n",
       "        vertical-align: middle;\n",
       "    }\n",
       "\n",
       "    .dataframe tbody tr th {\n",
       "        vertical-align: top;\n",
       "    }\n",
       "\n",
       "    .dataframe thead th {\n",
       "        text-align: right;\n",
       "    }\n",
       "</style>\n",
       "<table border=\"1\" class=\"dataframe\">\n",
       "  <thead>\n",
       "    <tr style=\"text-align: right;\">\n",
       "      <th></th>\n",
       "      <th>ID</th>\n",
       "      <th>Resume_str</th>\n",
       "      <th>Resume_html</th>\n",
       "      <th>Category</th>\n",
       "      <th>Clean_Resume</th>\n",
       "      <th>skills</th>\n",
       "    </tr>\n",
       "  </thead>\n",
       "  <tbody>\n",
       "    <tr>\n",
       "      <th>553</th>\n",
       "      <td>24946537</td>\n",
       "      <td>MULTIMEDIA SALES CONSULTANT         P...</td>\n",
       "      <td>&lt;div class=\"skn-cbg1 fontsize fontface vmargin...</td>\n",
       "      <td>ADVOCATE</td>\n",
       "      <td>multimedia sale consultant professional summar...</td>\n",
       "      <td>[medium, specification, database, documentatio...</td>\n",
       "    </tr>\n",
       "    <tr>\n",
       "      <th>657</th>\n",
       "      <td>91467795</td>\n",
       "      <td>BUSINESS DEVELOPMENT CONSULTANT      ...</td>\n",
       "      <td>&lt;div class=\"fontsize fontface vmargins hmargin...</td>\n",
       "      <td>BUSINESS-DEVELOPMENT</td>\n",
       "      <td>business development consultant summary experi...</td>\n",
       "      <td>[medium, twitter, database, support, marketing...</td>\n",
       "    </tr>\n",
       "    <tr>\n",
       "      <th>2454</th>\n",
       "      <td>22442947</td>\n",
       "      <td>PASSENGER SERVICE CONCOURSE MANAGER  ...</td>\n",
       "      <td>&lt;div class=\"fontsize fontface vmargins hmargin...</td>\n",
       "      <td>AVIATION</td>\n",
       "      <td>passenger service concourse manager summary de...</td>\n",
       "      <td>[support, concourse, sorting, schedule, passen...</td>\n",
       "    </tr>\n",
       "    <tr>\n",
       "      <th>311</th>\n",
       "      <td>26746496</td>\n",
       "      <td>DATABASE PROGRAMMER/ANALYST (.NET DEV...</td>\n",
       "      <td>&lt;div class=\"fontsize fontface vmargins hmargin...</td>\n",
       "      <td>INFORMATION-TECHNOLOGY</td>\n",
       "      <td>database programmer analyst net developer summ...</td>\n",
       "      <td>[ajax, user interface, database, data warehous...</td>\n",
       "    </tr>\n",
       "    <tr>\n",
       "      <th>174</th>\n",
       "      <td>14743911</td>\n",
       "      <td>TECHNICAL TRAINER/ INSTRUCTIONAL DESI...</td>\n",
       "      <td>&lt;div class=\"fontsize fontface vmargins hmargin...</td>\n",
       "      <td>DESIGNER</td>\n",
       "      <td>technical trainer instructional designer profe...</td>\n",
       "      <td>[design, schedule]</td>\n",
       "    </tr>\n",
       "  </tbody>\n",
       "</table>\n",
       "</div>"
      ],
      "text/plain": [
       "            ID                                         Resume_str  \\\n",
       "553   24946537           MULTIMEDIA SALES CONSULTANT         P...   \n",
       "657   91467795           BUSINESS DEVELOPMENT CONSULTANT      ...   \n",
       "2454  22442947           PASSENGER SERVICE CONCOURSE MANAGER  ...   \n",
       "311   26746496           DATABASE PROGRAMMER/ANALYST (.NET DEV...   \n",
       "174   14743911           TECHNICAL TRAINER/ INSTRUCTIONAL DESI...   \n",
       "\n",
       "                                            Resume_html  \\\n",
       "553   <div class=\"skn-cbg1 fontsize fontface vmargin...   \n",
       "657   <div class=\"fontsize fontface vmargins hmargin...   \n",
       "2454  <div class=\"fontsize fontface vmargins hmargin...   \n",
       "311   <div class=\"fontsize fontface vmargins hmargin...   \n",
       "174   <div class=\"fontsize fontface vmargins hmargin...   \n",
       "\n",
       "                    Category  \\\n",
       "553                 ADVOCATE   \n",
       "657     BUSINESS-DEVELOPMENT   \n",
       "2454                AVIATION   \n",
       "311   INFORMATION-TECHNOLOGY   \n",
       "174                 DESIGNER   \n",
       "\n",
       "                                           Clean_Resume  \\\n",
       "553   multimedia sale consultant professional summar...   \n",
       "657   business development consultant summary experi...   \n",
       "2454  passenger service concourse manager summary de...   \n",
       "311   database programmer analyst net developer summ...   \n",
       "174   technical trainer instructional designer profe...   \n",
       "\n",
       "                                                 skills  \n",
       "553   [medium, specification, database, documentatio...  \n",
       "657   [medium, twitter, database, support, marketing...  \n",
       "2454  [support, concourse, sorting, schedule, passen...  \n",
       "311   [ajax, user interface, database, data warehous...  \n",
       "174                                  [design, schedule]  "
      ]
     },
     "execution_count": 42,
     "metadata": {},
     "output_type": "execute_result"
    }
   ],
   "source": [
    "data[\"Clean_Resume\"] = clean\n",
    "data[\"skills\"] = data[\"Clean_Resume\"].str.lower().apply(get_skills)\n",
    "data[\"skills\"] = data[\"skills\"].apply(unique_skills)\n",
    "data.head()"
   ]
  },
  {
   "cell_type": "markdown",
   "id": "5208dde3",
   "metadata": {},
   "source": [
    "# Visualization"
   ]
  },
  {
   "cell_type": "markdown",
   "id": "9a1e4fa1",
   "metadata": {},
   "source": [
    "Now that we have everything we want, we are going to visualize Job distributions and skill distributions."
   ]
  },
  {
   "cell_type": "markdown",
   "id": "c42ff2a1",
   "metadata": {},
   "source": [
    "# Jobs Distribution"
   ]
  },
  {
   "cell_type": "markdown",
   "id": "9c2de380",
   "metadata": {},
   "source": [
    "As we can see our random 200 samples contain a variety of job categories. Accountants, Business development, and Advocates are the top categories."
   ]
  },
  {
   "cell_type": "code",
   "execution_count": 43,
   "id": "2d1490b8",
   "metadata": {},
   "outputs": [
    {
     "data": {
      "application/vnd.plotly.v1+json": {
       "config": {
        "plotlyServerURL": "https://plot.ly"
       },
       "data": [
        {
         "alignmentgroup": "True",
         "bingroup": "x",
         "hovertemplate": "Category=%{x}<br>count=%{y}<extra></extra>",
         "legendgroup": "",
         "marker": {
          "color": "#636efa",
          "pattern": {
           "shape": ""
          }
         },
         "name": "",
         "offsetgroup": "",
         "orientation": "v",
         "showlegend": false,
         "type": "histogram",
         "x": [
          "ADVOCATE",
          "BUSINESS-DEVELOPMENT",
          "AVIATION",
          "INFORMATION-TECHNOLOGY",
          "DESIGNER",
          "DESIGNER",
          "FITNESS",
          "APPAREL",
          "INFORMATION-TECHNOLOGY",
          "ADVOCATE",
          "ADVOCATE",
          "HEALTHCARE",
          "HEALTHCARE",
          "HEALTHCARE",
          "AVIATION",
          "CONSTRUCTION",
          "SALES",
          "CONSULTANT",
          "CONSTRUCTION",
          "FINANCE",
          "APPAREL",
          "BPO",
          "CHEF",
          "BUSINESS-DEVELOPMENT",
          "TEACHER",
          "INFORMATION-TECHNOLOGY",
          "ENGINEERING",
          "SALES",
          "TEACHER",
          "ACCOUNTANT",
          "DIGITAL-MEDIA",
          "ADVOCATE",
          "AVIATION",
          "HEALTHCARE",
          "BANKING",
          "FINANCE",
          "DESIGNER",
          "BUSINESS-DEVELOPMENT",
          "ARTS",
          "CONSULTANT",
          "CONSULTANT",
          "HR",
          "ADVOCATE",
          "BUSINESS-DEVELOPMENT",
          "ENGINEERING",
          "SALES",
          "CONSULTANT",
          "SALES",
          "INFORMATION-TECHNOLOGY",
          "PUBLIC-RELATIONS",
          "ARTS",
          "BUSINESS-DEVELOPMENT",
          "AVIATION",
          "FINANCE",
          "BUSINESS-DEVELOPMENT",
          "FITNESS",
          "BUSINESS-DEVELOPMENT",
          "ACCOUNTANT",
          "BANKING",
          "SALES",
          "PUBLIC-RELATIONS",
          "FINANCE",
          "BPO",
          "BUSINESS-DEVELOPMENT",
          "ENGINEERING",
          "BUSINESS-DEVELOPMENT",
          "PUBLIC-RELATIONS",
          "AUTOMOBILE",
          "TEACHER",
          "PUBLIC-RELATIONS",
          "FITNESS",
          "TEACHER",
          "CHEF",
          "APPAREL",
          "ENGINEERING",
          "ADVOCATE",
          "HR",
          "DIGITAL-MEDIA",
          "CONSTRUCTION",
          "ENGINEERING",
          "HR",
          "HEALTHCARE",
          "FINANCE",
          "PUBLIC-RELATIONS",
          "INFORMATION-TECHNOLOGY",
          "CHEF",
          "AVIATION",
          "FINANCE",
          "CHEF",
          "AGRICULTURE",
          "ACCOUNTANT",
          "AUTOMOBILE",
          "HR",
          "DESIGNER",
          "PUBLIC-RELATIONS",
          "AUTOMOBILE",
          "AUTOMOBILE",
          "FITNESS",
          "ACCOUNTANT",
          "DESIGNER",
          "BPO",
          "DESIGNER",
          "CHEF",
          "FINANCE",
          "BPO",
          "CONSULTANT",
          "BUSINESS-DEVELOPMENT",
          "DESIGNER",
          "CONSULTANT",
          "DIGITAL-MEDIA",
          "ACCOUNTANT",
          "AGRICULTURE",
          "PUBLIC-RELATIONS",
          "HR",
          "ARTS",
          "BUSINESS-DEVELOPMENT",
          "CONSULTANT",
          "CONSTRUCTION",
          "INFORMATION-TECHNOLOGY",
          "AGRICULTURE",
          "INFORMATION-TECHNOLOGY",
          "ADVOCATE",
          "BPO",
          "PUBLIC-RELATIONS",
          "HEALTHCARE",
          "FINANCE",
          "BPO",
          "FINANCE",
          "CONSTRUCTION",
          "PUBLIC-RELATIONS",
          "HEALTHCARE",
          "CONSTRUCTION",
          "FINANCE",
          "BUSINESS-DEVELOPMENT",
          "TEACHER",
          "ENGINEERING",
          "TEACHER",
          "CONSULTANT",
          "APPAREL",
          "DIGITAL-MEDIA",
          "PUBLIC-RELATIONS",
          "CONSULTANT",
          "AUTOMOBILE",
          "ACCOUNTANT",
          "ACCOUNTANT",
          "DIGITAL-MEDIA",
          "ADVOCATE",
          "BANKING",
          "AUTOMOBILE",
          "AGRICULTURE",
          "AVIATION",
          "ARTS",
          "DESIGNER",
          "HEALTHCARE",
          "ACCOUNTANT",
          "HEALTHCARE",
          "FITNESS",
          "AVIATION",
          "HEALTHCARE",
          "FITNESS",
          "ARTS",
          "ACCOUNTANT",
          "BANKING",
          "ENGINEERING",
          "ACCOUNTANT",
          "DIGITAL-MEDIA",
          "ADVOCATE",
          "AVIATION",
          "AVIATION",
          "BUSINESS-DEVELOPMENT",
          "ADVOCATE",
          "TEACHER",
          "DESIGNER",
          "HR",
          "ADVOCATE",
          "APPAREL",
          "CONSULTANT",
          "HR",
          "CONSULTANT",
          "ENGINEERING",
          "CONSULTANT",
          "ACCOUNTANT",
          "DESIGNER",
          "CHEF",
          "AUTOMOBILE",
          "TEACHER",
          "INFORMATION-TECHNOLOGY",
          "ENGINEERING",
          "AVIATION",
          "ARTS",
          "ENGINEERING",
          "DIGITAL-MEDIA",
          "ADVOCATE",
          "CONSULTANT",
          "DIGITAL-MEDIA",
          "CHEF",
          "ENGINEERING",
          "AVIATION",
          "CONSULTANT",
          "PUBLIC-RELATIONS"
         ],
         "xaxis": "x",
         "yaxis": "y"
        }
       ],
       "layout": {
        "barmode": "relative",
        "legend": {
         "tracegroupgap": 0
        },
        "template": {
         "data": {
          "bar": [
           {
            "error_x": {
             "color": "#2a3f5f"
            },
            "error_y": {
             "color": "#2a3f5f"
            },
            "marker": {
             "line": {
              "color": "#E5ECF6",
              "width": 0.5
             },
             "pattern": {
              "fillmode": "overlay",
              "size": 10,
              "solidity": 0.2
             }
            },
            "type": "bar"
           }
          ],
          "barpolar": [
           {
            "marker": {
             "line": {
              "color": "#E5ECF6",
              "width": 0.5
             },
             "pattern": {
              "fillmode": "overlay",
              "size": 10,
              "solidity": 0.2
             }
            },
            "type": "barpolar"
           }
          ],
          "carpet": [
           {
            "aaxis": {
             "endlinecolor": "#2a3f5f",
             "gridcolor": "white",
             "linecolor": "white",
             "minorgridcolor": "white",
             "startlinecolor": "#2a3f5f"
            },
            "baxis": {
             "endlinecolor": "#2a3f5f",
             "gridcolor": "white",
             "linecolor": "white",
             "minorgridcolor": "white",
             "startlinecolor": "#2a3f5f"
            },
            "type": "carpet"
           }
          ],
          "choropleth": [
           {
            "colorbar": {
             "outlinewidth": 0,
             "ticks": ""
            },
            "type": "choropleth"
           }
          ],
          "contour": [
           {
            "colorbar": {
             "outlinewidth": 0,
             "ticks": ""
            },
            "colorscale": [
             [
              0,
              "#0d0887"
             ],
             [
              0.1111111111111111,
              "#46039f"
             ],
             [
              0.2222222222222222,
              "#7201a8"
             ],
             [
              0.3333333333333333,
              "#9c179e"
             ],
             [
              0.4444444444444444,
              "#bd3786"
             ],
             [
              0.5555555555555556,
              "#d8576b"
             ],
             [
              0.6666666666666666,
              "#ed7953"
             ],
             [
              0.7777777777777778,
              "#fb9f3a"
             ],
             [
              0.8888888888888888,
              "#fdca26"
             ],
             [
              1,
              "#f0f921"
             ]
            ],
            "type": "contour"
           }
          ],
          "contourcarpet": [
           {
            "colorbar": {
             "outlinewidth": 0,
             "ticks": ""
            },
            "type": "contourcarpet"
           }
          ],
          "heatmap": [
           {
            "colorbar": {
             "outlinewidth": 0,
             "ticks": ""
            },
            "colorscale": [
             [
              0,
              "#0d0887"
             ],
             [
              0.1111111111111111,
              "#46039f"
             ],
             [
              0.2222222222222222,
              "#7201a8"
             ],
             [
              0.3333333333333333,
              "#9c179e"
             ],
             [
              0.4444444444444444,
              "#bd3786"
             ],
             [
              0.5555555555555556,
              "#d8576b"
             ],
             [
              0.6666666666666666,
              "#ed7953"
             ],
             [
              0.7777777777777778,
              "#fb9f3a"
             ],
             [
              0.8888888888888888,
              "#fdca26"
             ],
             [
              1,
              "#f0f921"
             ]
            ],
            "type": "heatmap"
           }
          ],
          "heatmapgl": [
           {
            "colorbar": {
             "outlinewidth": 0,
             "ticks": ""
            },
            "colorscale": [
             [
              0,
              "#0d0887"
             ],
             [
              0.1111111111111111,
              "#46039f"
             ],
             [
              0.2222222222222222,
              "#7201a8"
             ],
             [
              0.3333333333333333,
              "#9c179e"
             ],
             [
              0.4444444444444444,
              "#bd3786"
             ],
             [
              0.5555555555555556,
              "#d8576b"
             ],
             [
              0.6666666666666666,
              "#ed7953"
             ],
             [
              0.7777777777777778,
              "#fb9f3a"
             ],
             [
              0.8888888888888888,
              "#fdca26"
             ],
             [
              1,
              "#f0f921"
             ]
            ],
            "type": "heatmapgl"
           }
          ],
          "histogram": [
           {
            "marker": {
             "pattern": {
              "fillmode": "overlay",
              "size": 10,
              "solidity": 0.2
             }
            },
            "type": "histogram"
           }
          ],
          "histogram2d": [
           {
            "colorbar": {
             "outlinewidth": 0,
             "ticks": ""
            },
            "colorscale": [
             [
              0,
              "#0d0887"
             ],
             [
              0.1111111111111111,
              "#46039f"
             ],
             [
              0.2222222222222222,
              "#7201a8"
             ],
             [
              0.3333333333333333,
              "#9c179e"
             ],
             [
              0.4444444444444444,
              "#bd3786"
             ],
             [
              0.5555555555555556,
              "#d8576b"
             ],
             [
              0.6666666666666666,
              "#ed7953"
             ],
             [
              0.7777777777777778,
              "#fb9f3a"
             ],
             [
              0.8888888888888888,
              "#fdca26"
             ],
             [
              1,
              "#f0f921"
             ]
            ],
            "type": "histogram2d"
           }
          ],
          "histogram2dcontour": [
           {
            "colorbar": {
             "outlinewidth": 0,
             "ticks": ""
            },
            "colorscale": [
             [
              0,
              "#0d0887"
             ],
             [
              0.1111111111111111,
              "#46039f"
             ],
             [
              0.2222222222222222,
              "#7201a8"
             ],
             [
              0.3333333333333333,
              "#9c179e"
             ],
             [
              0.4444444444444444,
              "#bd3786"
             ],
             [
              0.5555555555555556,
              "#d8576b"
             ],
             [
              0.6666666666666666,
              "#ed7953"
             ],
             [
              0.7777777777777778,
              "#fb9f3a"
             ],
             [
              0.8888888888888888,
              "#fdca26"
             ],
             [
              1,
              "#f0f921"
             ]
            ],
            "type": "histogram2dcontour"
           }
          ],
          "mesh3d": [
           {
            "colorbar": {
             "outlinewidth": 0,
             "ticks": ""
            },
            "type": "mesh3d"
           }
          ],
          "parcoords": [
           {
            "line": {
             "colorbar": {
              "outlinewidth": 0,
              "ticks": ""
             }
            },
            "type": "parcoords"
           }
          ],
          "pie": [
           {
            "automargin": true,
            "type": "pie"
           }
          ],
          "scatter": [
           {
            "fillpattern": {
             "fillmode": "overlay",
             "size": 10,
             "solidity": 0.2
            },
            "type": "scatter"
           }
          ],
          "scatter3d": [
           {
            "line": {
             "colorbar": {
              "outlinewidth": 0,
              "ticks": ""
             }
            },
            "marker": {
             "colorbar": {
              "outlinewidth": 0,
              "ticks": ""
             }
            },
            "type": "scatter3d"
           }
          ],
          "scattercarpet": [
           {
            "marker": {
             "colorbar": {
              "outlinewidth": 0,
              "ticks": ""
             }
            },
            "type": "scattercarpet"
           }
          ],
          "scattergeo": [
           {
            "marker": {
             "colorbar": {
              "outlinewidth": 0,
              "ticks": ""
             }
            },
            "type": "scattergeo"
           }
          ],
          "scattergl": [
           {
            "marker": {
             "colorbar": {
              "outlinewidth": 0,
              "ticks": ""
             }
            },
            "type": "scattergl"
           }
          ],
          "scattermapbox": [
           {
            "marker": {
             "colorbar": {
              "outlinewidth": 0,
              "ticks": ""
             }
            },
            "type": "scattermapbox"
           }
          ],
          "scatterpolar": [
           {
            "marker": {
             "colorbar": {
              "outlinewidth": 0,
              "ticks": ""
             }
            },
            "type": "scatterpolar"
           }
          ],
          "scatterpolargl": [
           {
            "marker": {
             "colorbar": {
              "outlinewidth": 0,
              "ticks": ""
             }
            },
            "type": "scatterpolargl"
           }
          ],
          "scatterternary": [
           {
            "marker": {
             "colorbar": {
              "outlinewidth": 0,
              "ticks": ""
             }
            },
            "type": "scatterternary"
           }
          ],
          "surface": [
           {
            "colorbar": {
             "outlinewidth": 0,
             "ticks": ""
            },
            "colorscale": [
             [
              0,
              "#0d0887"
             ],
             [
              0.1111111111111111,
              "#46039f"
             ],
             [
              0.2222222222222222,
              "#7201a8"
             ],
             [
              0.3333333333333333,
              "#9c179e"
             ],
             [
              0.4444444444444444,
              "#bd3786"
             ],
             [
              0.5555555555555556,
              "#d8576b"
             ],
             [
              0.6666666666666666,
              "#ed7953"
             ],
             [
              0.7777777777777778,
              "#fb9f3a"
             ],
             [
              0.8888888888888888,
              "#fdca26"
             ],
             [
              1,
              "#f0f921"
             ]
            ],
            "type": "surface"
           }
          ],
          "table": [
           {
            "cells": {
             "fill": {
              "color": "#EBF0F8"
             },
             "line": {
              "color": "white"
             }
            },
            "header": {
             "fill": {
              "color": "#C8D4E3"
             },
             "line": {
              "color": "white"
             }
            },
            "type": "table"
           }
          ]
         },
         "layout": {
          "annotationdefaults": {
           "arrowcolor": "#2a3f5f",
           "arrowhead": 0,
           "arrowwidth": 1
          },
          "autotypenumbers": "strict",
          "coloraxis": {
           "colorbar": {
            "outlinewidth": 0,
            "ticks": ""
           }
          },
          "colorscale": {
           "diverging": [
            [
             0,
             "#8e0152"
            ],
            [
             0.1,
             "#c51b7d"
            ],
            [
             0.2,
             "#de77ae"
            ],
            [
             0.3,
             "#f1b6da"
            ],
            [
             0.4,
             "#fde0ef"
            ],
            [
             0.5,
             "#f7f7f7"
            ],
            [
             0.6,
             "#e6f5d0"
            ],
            [
             0.7,
             "#b8e186"
            ],
            [
             0.8,
             "#7fbc41"
            ],
            [
             0.9,
             "#4d9221"
            ],
            [
             1,
             "#276419"
            ]
           ],
           "sequential": [
            [
             0,
             "#0d0887"
            ],
            [
             0.1111111111111111,
             "#46039f"
            ],
            [
             0.2222222222222222,
             "#7201a8"
            ],
            [
             0.3333333333333333,
             "#9c179e"
            ],
            [
             0.4444444444444444,
             "#bd3786"
            ],
            [
             0.5555555555555556,
             "#d8576b"
            ],
            [
             0.6666666666666666,
             "#ed7953"
            ],
            [
             0.7777777777777778,
             "#fb9f3a"
            ],
            [
             0.8888888888888888,
             "#fdca26"
            ],
            [
             1,
             "#f0f921"
            ]
           ],
           "sequentialminus": [
            [
             0,
             "#0d0887"
            ],
            [
             0.1111111111111111,
             "#46039f"
            ],
            [
             0.2222222222222222,
             "#7201a8"
            ],
            [
             0.3333333333333333,
             "#9c179e"
            ],
            [
             0.4444444444444444,
             "#bd3786"
            ],
            [
             0.5555555555555556,
             "#d8576b"
            ],
            [
             0.6666666666666666,
             "#ed7953"
            ],
            [
             0.7777777777777778,
             "#fb9f3a"
            ],
            [
             0.8888888888888888,
             "#fdca26"
            ],
            [
             1,
             "#f0f921"
            ]
           ]
          },
          "colorway": [
           "#636efa",
           "#EF553B",
           "#00cc96",
           "#ab63fa",
           "#FFA15A",
           "#19d3f3",
           "#FF6692",
           "#B6E880",
           "#FF97FF",
           "#FECB52"
          ],
          "font": {
           "color": "#2a3f5f"
          },
          "geo": {
           "bgcolor": "white",
           "lakecolor": "white",
           "landcolor": "#E5ECF6",
           "showlakes": true,
           "showland": true,
           "subunitcolor": "white"
          },
          "hoverlabel": {
           "align": "left"
          },
          "hovermode": "closest",
          "mapbox": {
           "style": "light"
          },
          "paper_bgcolor": "white",
          "plot_bgcolor": "#E5ECF6",
          "polar": {
           "angularaxis": {
            "gridcolor": "white",
            "linecolor": "white",
            "ticks": ""
           },
           "bgcolor": "#E5ECF6",
           "radialaxis": {
            "gridcolor": "white",
            "linecolor": "white",
            "ticks": ""
           }
          },
          "scene": {
           "xaxis": {
            "backgroundcolor": "#E5ECF6",
            "gridcolor": "white",
            "gridwidth": 2,
            "linecolor": "white",
            "showbackground": true,
            "ticks": "",
            "zerolinecolor": "white"
           },
           "yaxis": {
            "backgroundcolor": "#E5ECF6",
            "gridcolor": "white",
            "gridwidth": 2,
            "linecolor": "white",
            "showbackground": true,
            "ticks": "",
            "zerolinecolor": "white"
           },
           "zaxis": {
            "backgroundcolor": "#E5ECF6",
            "gridcolor": "white",
            "gridwidth": 2,
            "linecolor": "white",
            "showbackground": true,
            "ticks": "",
            "zerolinecolor": "white"
           }
          },
          "shapedefaults": {
           "line": {
            "color": "#2a3f5f"
           }
          },
          "ternary": {
           "aaxis": {
            "gridcolor": "white",
            "linecolor": "white",
            "ticks": ""
           },
           "baxis": {
            "gridcolor": "white",
            "linecolor": "white",
            "ticks": ""
           },
           "bgcolor": "#E5ECF6",
           "caxis": {
            "gridcolor": "white",
            "linecolor": "white",
            "ticks": ""
           }
          },
          "title": {
           "x": 0.05
          },
          "xaxis": {
           "automargin": true,
           "gridcolor": "white",
           "linecolor": "white",
           "ticks": "",
           "title": {
            "standoff": 15
           },
           "zerolinecolor": "white",
           "zerolinewidth": 2
          },
          "yaxis": {
           "automargin": true,
           "gridcolor": "white",
           "linecolor": "white",
           "ticks": "",
           "title": {
            "standoff": 15
           },
           "zerolinecolor": "white",
           "zerolinewidth": 2
          }
         }
        },
        "title": {
         "text": "Distribution of Jobs Categories"
        },
        "xaxis": {
         "anchor": "y",
         "categoryorder": "total descending",
         "domain": [
          0,
          1
         ],
         "title": {
          "text": "Category"
         }
        },
        "yaxis": {
         "anchor": "x",
         "domain": [
          0,
          1
         ],
         "title": {
          "text": "count"
         }
        }
       }
      },
      "text/html": [
       "<div>                            <div id=\"b21baef1-608a-4fcf-8265-823a5a6f2a1a\" class=\"plotly-graph-div\" style=\"height:525px; width:100%;\"></div>            <script type=\"text/javascript\">                require([\"plotly\"], function(Plotly) {                    window.PLOTLYENV=window.PLOTLYENV || {};                                    if (document.getElementById(\"b21baef1-608a-4fcf-8265-823a5a6f2a1a\")) {                    Plotly.newPlot(                        \"b21baef1-608a-4fcf-8265-823a5a6f2a1a\",                        [{\"alignmentgroup\":\"True\",\"bingroup\":\"x\",\"hovertemplate\":\"Category=%{x}<br>count=%{y}<extra></extra>\",\"legendgroup\":\"\",\"marker\":{\"color\":\"#636efa\",\"pattern\":{\"shape\":\"\"}},\"name\":\"\",\"offsetgroup\":\"\",\"orientation\":\"v\",\"showlegend\":false,\"x\":[\"ADVOCATE\",\"BUSINESS-DEVELOPMENT\",\"AVIATION\",\"INFORMATION-TECHNOLOGY\",\"DESIGNER\",\"DESIGNER\",\"FITNESS\",\"APPAREL\",\"INFORMATION-TECHNOLOGY\",\"ADVOCATE\",\"ADVOCATE\",\"HEALTHCARE\",\"HEALTHCARE\",\"HEALTHCARE\",\"AVIATION\",\"CONSTRUCTION\",\"SALES\",\"CONSULTANT\",\"CONSTRUCTION\",\"FINANCE\",\"APPAREL\",\"BPO\",\"CHEF\",\"BUSINESS-DEVELOPMENT\",\"TEACHER\",\"INFORMATION-TECHNOLOGY\",\"ENGINEERING\",\"SALES\",\"TEACHER\",\"ACCOUNTANT\",\"DIGITAL-MEDIA\",\"ADVOCATE\",\"AVIATION\",\"HEALTHCARE\",\"BANKING\",\"FINANCE\",\"DESIGNER\",\"BUSINESS-DEVELOPMENT\",\"ARTS\",\"CONSULTANT\",\"CONSULTANT\",\"HR\",\"ADVOCATE\",\"BUSINESS-DEVELOPMENT\",\"ENGINEERING\",\"SALES\",\"CONSULTANT\",\"SALES\",\"INFORMATION-TECHNOLOGY\",\"PUBLIC-RELATIONS\",\"ARTS\",\"BUSINESS-DEVELOPMENT\",\"AVIATION\",\"FINANCE\",\"BUSINESS-DEVELOPMENT\",\"FITNESS\",\"BUSINESS-DEVELOPMENT\",\"ACCOUNTANT\",\"BANKING\",\"SALES\",\"PUBLIC-RELATIONS\",\"FINANCE\",\"BPO\",\"BUSINESS-DEVELOPMENT\",\"ENGINEERING\",\"BUSINESS-DEVELOPMENT\",\"PUBLIC-RELATIONS\",\"AUTOMOBILE\",\"TEACHER\",\"PUBLIC-RELATIONS\",\"FITNESS\",\"TEACHER\",\"CHEF\",\"APPAREL\",\"ENGINEERING\",\"ADVOCATE\",\"HR\",\"DIGITAL-MEDIA\",\"CONSTRUCTION\",\"ENGINEERING\",\"HR\",\"HEALTHCARE\",\"FINANCE\",\"PUBLIC-RELATIONS\",\"INFORMATION-TECHNOLOGY\",\"CHEF\",\"AVIATION\",\"FINANCE\",\"CHEF\",\"AGRICULTURE\",\"ACCOUNTANT\",\"AUTOMOBILE\",\"HR\",\"DESIGNER\",\"PUBLIC-RELATIONS\",\"AUTOMOBILE\",\"AUTOMOBILE\",\"FITNESS\",\"ACCOUNTANT\",\"DESIGNER\",\"BPO\",\"DESIGNER\",\"CHEF\",\"FINANCE\",\"BPO\",\"CONSULTANT\",\"BUSINESS-DEVELOPMENT\",\"DESIGNER\",\"CONSULTANT\",\"DIGITAL-MEDIA\",\"ACCOUNTANT\",\"AGRICULTURE\",\"PUBLIC-RELATIONS\",\"HR\",\"ARTS\",\"BUSINESS-DEVELOPMENT\",\"CONSULTANT\",\"CONSTRUCTION\",\"INFORMATION-TECHNOLOGY\",\"AGRICULTURE\",\"INFORMATION-TECHNOLOGY\",\"ADVOCATE\",\"BPO\",\"PUBLIC-RELATIONS\",\"HEALTHCARE\",\"FINANCE\",\"BPO\",\"FINANCE\",\"CONSTRUCTION\",\"PUBLIC-RELATIONS\",\"HEALTHCARE\",\"CONSTRUCTION\",\"FINANCE\",\"BUSINESS-DEVELOPMENT\",\"TEACHER\",\"ENGINEERING\",\"TEACHER\",\"CONSULTANT\",\"APPAREL\",\"DIGITAL-MEDIA\",\"PUBLIC-RELATIONS\",\"CONSULTANT\",\"AUTOMOBILE\",\"ACCOUNTANT\",\"ACCOUNTANT\",\"DIGITAL-MEDIA\",\"ADVOCATE\",\"BANKING\",\"AUTOMOBILE\",\"AGRICULTURE\",\"AVIATION\",\"ARTS\",\"DESIGNER\",\"HEALTHCARE\",\"ACCOUNTANT\",\"HEALTHCARE\",\"FITNESS\",\"AVIATION\",\"HEALTHCARE\",\"FITNESS\",\"ARTS\",\"ACCOUNTANT\",\"BANKING\",\"ENGINEERING\",\"ACCOUNTANT\",\"DIGITAL-MEDIA\",\"ADVOCATE\",\"AVIATION\",\"AVIATION\",\"BUSINESS-DEVELOPMENT\",\"ADVOCATE\",\"TEACHER\",\"DESIGNER\",\"HR\",\"ADVOCATE\",\"APPAREL\",\"CONSULTANT\",\"HR\",\"CONSULTANT\",\"ENGINEERING\",\"CONSULTANT\",\"ACCOUNTANT\",\"DESIGNER\",\"CHEF\",\"AUTOMOBILE\",\"TEACHER\",\"INFORMATION-TECHNOLOGY\",\"ENGINEERING\",\"AVIATION\",\"ARTS\",\"ENGINEERING\",\"DIGITAL-MEDIA\",\"ADVOCATE\",\"CONSULTANT\",\"DIGITAL-MEDIA\",\"CHEF\",\"ENGINEERING\",\"AVIATION\",\"CONSULTANT\",\"PUBLIC-RELATIONS\"],\"xaxis\":\"x\",\"yaxis\":\"y\",\"type\":\"histogram\"}],                        {\"template\":{\"data\":{\"histogram2dcontour\":[{\"type\":\"histogram2dcontour\",\"colorbar\":{\"outlinewidth\":0,\"ticks\":\"\"},\"colorscale\":[[0.0,\"#0d0887\"],[0.1111111111111111,\"#46039f\"],[0.2222222222222222,\"#7201a8\"],[0.3333333333333333,\"#9c179e\"],[0.4444444444444444,\"#bd3786\"],[0.5555555555555556,\"#d8576b\"],[0.6666666666666666,\"#ed7953\"],[0.7777777777777778,\"#fb9f3a\"],[0.8888888888888888,\"#fdca26\"],[1.0,\"#f0f921\"]]}],\"choropleth\":[{\"type\":\"choropleth\",\"colorbar\":{\"outlinewidth\":0,\"ticks\":\"\"}}],\"histogram2d\":[{\"type\":\"histogram2d\",\"colorbar\":{\"outlinewidth\":0,\"ticks\":\"\"},\"colorscale\":[[0.0,\"#0d0887\"],[0.1111111111111111,\"#46039f\"],[0.2222222222222222,\"#7201a8\"],[0.3333333333333333,\"#9c179e\"],[0.4444444444444444,\"#bd3786\"],[0.5555555555555556,\"#d8576b\"],[0.6666666666666666,\"#ed7953\"],[0.7777777777777778,\"#fb9f3a\"],[0.8888888888888888,\"#fdca26\"],[1.0,\"#f0f921\"]]}],\"heatmap\":[{\"type\":\"heatmap\",\"colorbar\":{\"outlinewidth\":0,\"ticks\":\"\"},\"colorscale\":[[0.0,\"#0d0887\"],[0.1111111111111111,\"#46039f\"],[0.2222222222222222,\"#7201a8\"],[0.3333333333333333,\"#9c179e\"],[0.4444444444444444,\"#bd3786\"],[0.5555555555555556,\"#d8576b\"],[0.6666666666666666,\"#ed7953\"],[0.7777777777777778,\"#fb9f3a\"],[0.8888888888888888,\"#fdca26\"],[1.0,\"#f0f921\"]]}],\"heatmapgl\":[{\"type\":\"heatmapgl\",\"colorbar\":{\"outlinewidth\":0,\"ticks\":\"\"},\"colorscale\":[[0.0,\"#0d0887\"],[0.1111111111111111,\"#46039f\"],[0.2222222222222222,\"#7201a8\"],[0.3333333333333333,\"#9c179e\"],[0.4444444444444444,\"#bd3786\"],[0.5555555555555556,\"#d8576b\"],[0.6666666666666666,\"#ed7953\"],[0.7777777777777778,\"#fb9f3a\"],[0.8888888888888888,\"#fdca26\"],[1.0,\"#f0f921\"]]}],\"contourcarpet\":[{\"type\":\"contourcarpet\",\"colorbar\":{\"outlinewidth\":0,\"ticks\":\"\"}}],\"contour\":[{\"type\":\"contour\",\"colorbar\":{\"outlinewidth\":0,\"ticks\":\"\"},\"colorscale\":[[0.0,\"#0d0887\"],[0.1111111111111111,\"#46039f\"],[0.2222222222222222,\"#7201a8\"],[0.3333333333333333,\"#9c179e\"],[0.4444444444444444,\"#bd3786\"],[0.5555555555555556,\"#d8576b\"],[0.6666666666666666,\"#ed7953\"],[0.7777777777777778,\"#fb9f3a\"],[0.8888888888888888,\"#fdca26\"],[1.0,\"#f0f921\"]]}],\"surface\":[{\"type\":\"surface\",\"colorbar\":{\"outlinewidth\":0,\"ticks\":\"\"},\"colorscale\":[[0.0,\"#0d0887\"],[0.1111111111111111,\"#46039f\"],[0.2222222222222222,\"#7201a8\"],[0.3333333333333333,\"#9c179e\"],[0.4444444444444444,\"#bd3786\"],[0.5555555555555556,\"#d8576b\"],[0.6666666666666666,\"#ed7953\"],[0.7777777777777778,\"#fb9f3a\"],[0.8888888888888888,\"#fdca26\"],[1.0,\"#f0f921\"]]}],\"mesh3d\":[{\"type\":\"mesh3d\",\"colorbar\":{\"outlinewidth\":0,\"ticks\":\"\"}}],\"scatter\":[{\"fillpattern\":{\"fillmode\":\"overlay\",\"size\":10,\"solidity\":0.2},\"type\":\"scatter\"}],\"parcoords\":[{\"type\":\"parcoords\",\"line\":{\"colorbar\":{\"outlinewidth\":0,\"ticks\":\"\"}}}],\"scatterpolargl\":[{\"type\":\"scatterpolargl\",\"marker\":{\"colorbar\":{\"outlinewidth\":0,\"ticks\":\"\"}}}],\"bar\":[{\"error_x\":{\"color\":\"#2a3f5f\"},\"error_y\":{\"color\":\"#2a3f5f\"},\"marker\":{\"line\":{\"color\":\"#E5ECF6\",\"width\":0.5},\"pattern\":{\"fillmode\":\"overlay\",\"size\":10,\"solidity\":0.2}},\"type\":\"bar\"}],\"scattergeo\":[{\"type\":\"scattergeo\",\"marker\":{\"colorbar\":{\"outlinewidth\":0,\"ticks\":\"\"}}}],\"scatterpolar\":[{\"type\":\"scatterpolar\",\"marker\":{\"colorbar\":{\"outlinewidth\":0,\"ticks\":\"\"}}}],\"histogram\":[{\"marker\":{\"pattern\":{\"fillmode\":\"overlay\",\"size\":10,\"solidity\":0.2}},\"type\":\"histogram\"}],\"scattergl\":[{\"type\":\"scattergl\",\"marker\":{\"colorbar\":{\"outlinewidth\":0,\"ticks\":\"\"}}}],\"scatter3d\":[{\"type\":\"scatter3d\",\"line\":{\"colorbar\":{\"outlinewidth\":0,\"ticks\":\"\"}},\"marker\":{\"colorbar\":{\"outlinewidth\":0,\"ticks\":\"\"}}}],\"scattermapbox\":[{\"type\":\"scattermapbox\",\"marker\":{\"colorbar\":{\"outlinewidth\":0,\"ticks\":\"\"}}}],\"scatterternary\":[{\"type\":\"scatterternary\",\"marker\":{\"colorbar\":{\"outlinewidth\":0,\"ticks\":\"\"}}}],\"scattercarpet\":[{\"type\":\"scattercarpet\",\"marker\":{\"colorbar\":{\"outlinewidth\":0,\"ticks\":\"\"}}}],\"carpet\":[{\"aaxis\":{\"endlinecolor\":\"#2a3f5f\",\"gridcolor\":\"white\",\"linecolor\":\"white\",\"minorgridcolor\":\"white\",\"startlinecolor\":\"#2a3f5f\"},\"baxis\":{\"endlinecolor\":\"#2a3f5f\",\"gridcolor\":\"white\",\"linecolor\":\"white\",\"minorgridcolor\":\"white\",\"startlinecolor\":\"#2a3f5f\"},\"type\":\"carpet\"}],\"table\":[{\"cells\":{\"fill\":{\"color\":\"#EBF0F8\"},\"line\":{\"color\":\"white\"}},\"header\":{\"fill\":{\"color\":\"#C8D4E3\"},\"line\":{\"color\":\"white\"}},\"type\":\"table\"}],\"barpolar\":[{\"marker\":{\"line\":{\"color\":\"#E5ECF6\",\"width\":0.5},\"pattern\":{\"fillmode\":\"overlay\",\"size\":10,\"solidity\":0.2}},\"type\":\"barpolar\"}],\"pie\":[{\"automargin\":true,\"type\":\"pie\"}]},\"layout\":{\"autotypenumbers\":\"strict\",\"colorway\":[\"#636efa\",\"#EF553B\",\"#00cc96\",\"#ab63fa\",\"#FFA15A\",\"#19d3f3\",\"#FF6692\",\"#B6E880\",\"#FF97FF\",\"#FECB52\"],\"font\":{\"color\":\"#2a3f5f\"},\"hovermode\":\"closest\",\"hoverlabel\":{\"align\":\"left\"},\"paper_bgcolor\":\"white\",\"plot_bgcolor\":\"#E5ECF6\",\"polar\":{\"bgcolor\":\"#E5ECF6\",\"angularaxis\":{\"gridcolor\":\"white\",\"linecolor\":\"white\",\"ticks\":\"\"},\"radialaxis\":{\"gridcolor\":\"white\",\"linecolor\":\"white\",\"ticks\":\"\"}},\"ternary\":{\"bgcolor\":\"#E5ECF6\",\"aaxis\":{\"gridcolor\":\"white\",\"linecolor\":\"white\",\"ticks\":\"\"},\"baxis\":{\"gridcolor\":\"white\",\"linecolor\":\"white\",\"ticks\":\"\"},\"caxis\":{\"gridcolor\":\"white\",\"linecolor\":\"white\",\"ticks\":\"\"}},\"coloraxis\":{\"colorbar\":{\"outlinewidth\":0,\"ticks\":\"\"}},\"colorscale\":{\"sequential\":[[0.0,\"#0d0887\"],[0.1111111111111111,\"#46039f\"],[0.2222222222222222,\"#7201a8\"],[0.3333333333333333,\"#9c179e\"],[0.4444444444444444,\"#bd3786\"],[0.5555555555555556,\"#d8576b\"],[0.6666666666666666,\"#ed7953\"],[0.7777777777777778,\"#fb9f3a\"],[0.8888888888888888,\"#fdca26\"],[1.0,\"#f0f921\"]],\"sequentialminus\":[[0.0,\"#0d0887\"],[0.1111111111111111,\"#46039f\"],[0.2222222222222222,\"#7201a8\"],[0.3333333333333333,\"#9c179e\"],[0.4444444444444444,\"#bd3786\"],[0.5555555555555556,\"#d8576b\"],[0.6666666666666666,\"#ed7953\"],[0.7777777777777778,\"#fb9f3a\"],[0.8888888888888888,\"#fdca26\"],[1.0,\"#f0f921\"]],\"diverging\":[[0,\"#8e0152\"],[0.1,\"#c51b7d\"],[0.2,\"#de77ae\"],[0.3,\"#f1b6da\"],[0.4,\"#fde0ef\"],[0.5,\"#f7f7f7\"],[0.6,\"#e6f5d0\"],[0.7,\"#b8e186\"],[0.8,\"#7fbc41\"],[0.9,\"#4d9221\"],[1,\"#276419\"]]},\"xaxis\":{\"gridcolor\":\"white\",\"linecolor\":\"white\",\"ticks\":\"\",\"title\":{\"standoff\":15},\"zerolinecolor\":\"white\",\"automargin\":true,\"zerolinewidth\":2},\"yaxis\":{\"gridcolor\":\"white\",\"linecolor\":\"white\",\"ticks\":\"\",\"title\":{\"standoff\":15},\"zerolinecolor\":\"white\",\"automargin\":true,\"zerolinewidth\":2},\"scene\":{\"xaxis\":{\"backgroundcolor\":\"#E5ECF6\",\"gridcolor\":\"white\",\"linecolor\":\"white\",\"showbackground\":true,\"ticks\":\"\",\"zerolinecolor\":\"white\",\"gridwidth\":2},\"yaxis\":{\"backgroundcolor\":\"#E5ECF6\",\"gridcolor\":\"white\",\"linecolor\":\"white\",\"showbackground\":true,\"ticks\":\"\",\"zerolinecolor\":\"white\",\"gridwidth\":2},\"zaxis\":{\"backgroundcolor\":\"#E5ECF6\",\"gridcolor\":\"white\",\"linecolor\":\"white\",\"showbackground\":true,\"ticks\":\"\",\"zerolinecolor\":\"white\",\"gridwidth\":2}},\"shapedefaults\":{\"line\":{\"color\":\"#2a3f5f\"}},\"annotationdefaults\":{\"arrowcolor\":\"#2a3f5f\",\"arrowhead\":0,\"arrowwidth\":1},\"geo\":{\"bgcolor\":\"white\",\"landcolor\":\"#E5ECF6\",\"subunitcolor\":\"white\",\"showland\":true,\"showlakes\":true,\"lakecolor\":\"white\"},\"title\":{\"x\":0.05},\"mapbox\":{\"style\":\"light\"}}},\"xaxis\":{\"anchor\":\"y\",\"domain\":[0.0,1.0],\"title\":{\"text\":\"Category\"},\"categoryorder\":\"total descending\"},\"yaxis\":{\"anchor\":\"x\",\"domain\":[0.0,1.0],\"title\":{\"text\":\"count\"}},\"legend\":{\"tracegroupgap\":0},\"title\":{\"text\":\"Distribution of Jobs Categories\"},\"barmode\":\"relative\"},                        {\"responsive\": true}                    ).then(function(){\n",
       "                            \n",
       "var gd = document.getElementById('b21baef1-608a-4fcf-8265-823a5a6f2a1a');\n",
       "var x = new MutationObserver(function (mutations, observer) {{\n",
       "        var display = window.getComputedStyle(gd).display;\n",
       "        if (!display || display === 'none') {{\n",
       "            console.log([gd, 'removed!']);\n",
       "            Plotly.purge(gd);\n",
       "            observer.disconnect();\n",
       "        }}\n",
       "}});\n",
       "\n",
       "// Listen for the removal of the full notebook cells\n",
       "var notebookContainer = gd.closest('#notebook-container');\n",
       "if (notebookContainer) {{\n",
       "    x.observe(notebookContainer, {childList: true});\n",
       "}}\n",
       "\n",
       "// Listen for the clearing of the current output cell\n",
       "var outputEl = gd.closest('.output');\n",
       "if (outputEl) {{\n",
       "    x.observe(outputEl, {childList: true});\n",
       "}}\n",
       "\n",
       "                        })                };                });            </script>        </div>"
      ]
     },
     "metadata": {},
     "output_type": "display_data"
    }
   ],
   "source": [
    "fig = px.histogram(data, x=\"Category\", title=\"Distribution of Jobs Categories\").update_xaxes(categoryorder=\"total descending\")\n",
    "fig.show()"
   ]
  },
  {
   "cell_type": "markdown",
   "id": "34947abf",
   "metadata": {},
   "source": [
    "# Skill"
   ]
  },
  {
   "cell_type": "markdown",
   "id": "fdf6bbe6",
   "metadata": {},
   "source": [
    "As we can observe INFORMATION-TECHNOLOGY job category's skills distributions.\n",
    "\n",
    "Top Skills\n",
    "\n",
    "•Software\n",
    "\n",
    "•Support\n",
    "\n",
    "•Business\n",
    "\n",
    "If you are looking to improve your chance of getting hired by a software company try focusing on software engineering, Support, and Business skills."
   ]
  },
  {
   "cell_type": "code",
   "execution_count": 44,
   "id": "559a6d97",
   "metadata": {},
   "outputs": [],
   "source": [
    "Job_cat = data[\"Category\"].unique()\n",
    "Job_cat = np.append(Job_cat, \"ALL\")"
   ]
  },
  {
   "cell_type": "code",
   "execution_count": 45,
   "id": "969d1053",
   "metadata": {},
   "outputs": [
    {
     "data": {
      "application/vnd.plotly.v1+json": {
       "config": {
        "plotlyServerURL": "https://plot.ly"
       },
       "data": [
        {
         "alignmentgroup": "True",
         "bingroup": "x",
         "hovertemplate": "Skills=%{x}<br>count=%{y}<extra></extra>",
         "legendgroup": "",
         "marker": {
          "color": "#636efa",
          "pattern": {
           "shape": ""
          }
         },
         "name": "",
         "offsetgroup": "",
         "orientation": "v",
         "showlegend": false,
         "type": "histogram",
         "x": [
          "ajax",
          "user interface",
          "database",
          "data warehouse",
          "sorting",
          "web service",
          "mobile",
          "framework",
          "mysql",
          "security",
          "library",
          "design",
          "business",
          "data retrieval",
          "authentication",
          "computer engineering",
          "eclipse",
          "data model",
          "schedule",
          "asp net",
          "java",
          "javascript",
          "software",
          "front end",
          "support",
          "server",
          "jquery",
          "text editor",
          "file system",
          "visual studio",
          "operating system",
          "data access",
          "engineering",
          "bootstrap",
          "database",
          "documentation",
          "release",
          "testing",
          "oracle",
          "perl",
          "tracking system",
          "security",
          "design",
          "business",
          "terminal",
          "debugging",
          "specification",
          "visual basic",
          "schedule",
          "composer",
          "data validation",
          "linux",
          "workflow",
          "java",
          "project management",
          "software",
          "support",
          "algorithm",
          "deployment",
          "user interface",
          "database",
          "documentation",
          "release",
          "chrome",
          "testing",
          "collaboration",
          "task management",
          "help desk",
          "certificate",
          "security",
          "design",
          "monitoring",
          "specification",
          "google",
          "component",
          "schedule",
          "linux",
          "project management",
          "software",
          "material",
          "visual inspection",
          "support",
          "server",
          "operating system",
          "engineering",
          "data management",
          "computer network",
          "documentation",
          "access control",
          "mobile",
          "workload",
          "collaboration",
          "help desk",
          "business administration",
          "security",
          "performance metric",
          "design",
          "finance",
          "business",
          "wireless",
          "workflow",
          "project management",
          "material",
          "software",
          "support",
          "server",
          "resource allocation",
          "deployment",
          "computer hardware",
          "user interface",
          "support",
          "server",
          "documentation",
          "engineering",
          "security",
          "design",
          "finance",
          "software",
          "devise",
          "collaboration",
          "telephony",
          "computer science",
          "support",
          "server",
          "release",
          "operating system",
          "security",
          "accounting",
          "business process",
          "design",
          "finance",
          "business",
          "project management",
          "software",
          "collaboration",
          "material",
          "support",
          "operating system",
          "component",
          "schedule",
          "testing",
          "security",
          "business",
          "project management",
          "software",
          "content management",
          "wireless",
          "wordpress",
          "support",
          "help desk",
          "server",
          "wireless network",
          "centos",
          "drupal",
          "android",
          "security",
          "fusion",
          "design",
          "monitoring",
          "project management",
          "software"
         ],
         "xaxis": "x",
         "yaxis": "y"
        }
       ],
       "layout": {
        "barmode": "relative",
        "legend": {
         "tracegroupgap": 0
        },
        "template": {
         "data": {
          "bar": [
           {
            "error_x": {
             "color": "#2a3f5f"
            },
            "error_y": {
             "color": "#2a3f5f"
            },
            "marker": {
             "line": {
              "color": "#E5ECF6",
              "width": 0.5
             },
             "pattern": {
              "fillmode": "overlay",
              "size": 10,
              "solidity": 0.2
             }
            },
            "type": "bar"
           }
          ],
          "barpolar": [
           {
            "marker": {
             "line": {
              "color": "#E5ECF6",
              "width": 0.5
             },
             "pattern": {
              "fillmode": "overlay",
              "size": 10,
              "solidity": 0.2
             }
            },
            "type": "barpolar"
           }
          ],
          "carpet": [
           {
            "aaxis": {
             "endlinecolor": "#2a3f5f",
             "gridcolor": "white",
             "linecolor": "white",
             "minorgridcolor": "white",
             "startlinecolor": "#2a3f5f"
            },
            "baxis": {
             "endlinecolor": "#2a3f5f",
             "gridcolor": "white",
             "linecolor": "white",
             "minorgridcolor": "white",
             "startlinecolor": "#2a3f5f"
            },
            "type": "carpet"
           }
          ],
          "choropleth": [
           {
            "colorbar": {
             "outlinewidth": 0,
             "ticks": ""
            },
            "type": "choropleth"
           }
          ],
          "contour": [
           {
            "colorbar": {
             "outlinewidth": 0,
             "ticks": ""
            },
            "colorscale": [
             [
              0,
              "#0d0887"
             ],
             [
              0.1111111111111111,
              "#46039f"
             ],
             [
              0.2222222222222222,
              "#7201a8"
             ],
             [
              0.3333333333333333,
              "#9c179e"
             ],
             [
              0.4444444444444444,
              "#bd3786"
             ],
             [
              0.5555555555555556,
              "#d8576b"
             ],
             [
              0.6666666666666666,
              "#ed7953"
             ],
             [
              0.7777777777777778,
              "#fb9f3a"
             ],
             [
              0.8888888888888888,
              "#fdca26"
             ],
             [
              1,
              "#f0f921"
             ]
            ],
            "type": "contour"
           }
          ],
          "contourcarpet": [
           {
            "colorbar": {
             "outlinewidth": 0,
             "ticks": ""
            },
            "type": "contourcarpet"
           }
          ],
          "heatmap": [
           {
            "colorbar": {
             "outlinewidth": 0,
             "ticks": ""
            },
            "colorscale": [
             [
              0,
              "#0d0887"
             ],
             [
              0.1111111111111111,
              "#46039f"
             ],
             [
              0.2222222222222222,
              "#7201a8"
             ],
             [
              0.3333333333333333,
              "#9c179e"
             ],
             [
              0.4444444444444444,
              "#bd3786"
             ],
             [
              0.5555555555555556,
              "#d8576b"
             ],
             [
              0.6666666666666666,
              "#ed7953"
             ],
             [
              0.7777777777777778,
              "#fb9f3a"
             ],
             [
              0.8888888888888888,
              "#fdca26"
             ],
             [
              1,
              "#f0f921"
             ]
            ],
            "type": "heatmap"
           }
          ],
          "heatmapgl": [
           {
            "colorbar": {
             "outlinewidth": 0,
             "ticks": ""
            },
            "colorscale": [
             [
              0,
              "#0d0887"
             ],
             [
              0.1111111111111111,
              "#46039f"
             ],
             [
              0.2222222222222222,
              "#7201a8"
             ],
             [
              0.3333333333333333,
              "#9c179e"
             ],
             [
              0.4444444444444444,
              "#bd3786"
             ],
             [
              0.5555555555555556,
              "#d8576b"
             ],
             [
              0.6666666666666666,
              "#ed7953"
             ],
             [
              0.7777777777777778,
              "#fb9f3a"
             ],
             [
              0.8888888888888888,
              "#fdca26"
             ],
             [
              1,
              "#f0f921"
             ]
            ],
            "type": "heatmapgl"
           }
          ],
          "histogram": [
           {
            "marker": {
             "pattern": {
              "fillmode": "overlay",
              "size": 10,
              "solidity": 0.2
             }
            },
            "type": "histogram"
           }
          ],
          "histogram2d": [
           {
            "colorbar": {
             "outlinewidth": 0,
             "ticks": ""
            },
            "colorscale": [
             [
              0,
              "#0d0887"
             ],
             [
              0.1111111111111111,
              "#46039f"
             ],
             [
              0.2222222222222222,
              "#7201a8"
             ],
             [
              0.3333333333333333,
              "#9c179e"
             ],
             [
              0.4444444444444444,
              "#bd3786"
             ],
             [
              0.5555555555555556,
              "#d8576b"
             ],
             [
              0.6666666666666666,
              "#ed7953"
             ],
             [
              0.7777777777777778,
              "#fb9f3a"
             ],
             [
              0.8888888888888888,
              "#fdca26"
             ],
             [
              1,
              "#f0f921"
             ]
            ],
            "type": "histogram2d"
           }
          ],
          "histogram2dcontour": [
           {
            "colorbar": {
             "outlinewidth": 0,
             "ticks": ""
            },
            "colorscale": [
             [
              0,
              "#0d0887"
             ],
             [
              0.1111111111111111,
              "#46039f"
             ],
             [
              0.2222222222222222,
              "#7201a8"
             ],
             [
              0.3333333333333333,
              "#9c179e"
             ],
             [
              0.4444444444444444,
              "#bd3786"
             ],
             [
              0.5555555555555556,
              "#d8576b"
             ],
             [
              0.6666666666666666,
              "#ed7953"
             ],
             [
              0.7777777777777778,
              "#fb9f3a"
             ],
             [
              0.8888888888888888,
              "#fdca26"
             ],
             [
              1,
              "#f0f921"
             ]
            ],
            "type": "histogram2dcontour"
           }
          ],
          "mesh3d": [
           {
            "colorbar": {
             "outlinewidth": 0,
             "ticks": ""
            },
            "type": "mesh3d"
           }
          ],
          "parcoords": [
           {
            "line": {
             "colorbar": {
              "outlinewidth": 0,
              "ticks": ""
             }
            },
            "type": "parcoords"
           }
          ],
          "pie": [
           {
            "automargin": true,
            "type": "pie"
           }
          ],
          "scatter": [
           {
            "fillpattern": {
             "fillmode": "overlay",
             "size": 10,
             "solidity": 0.2
            },
            "type": "scatter"
           }
          ],
          "scatter3d": [
           {
            "line": {
             "colorbar": {
              "outlinewidth": 0,
              "ticks": ""
             }
            },
            "marker": {
             "colorbar": {
              "outlinewidth": 0,
              "ticks": ""
             }
            },
            "type": "scatter3d"
           }
          ],
          "scattercarpet": [
           {
            "marker": {
             "colorbar": {
              "outlinewidth": 0,
              "ticks": ""
             }
            },
            "type": "scattercarpet"
           }
          ],
          "scattergeo": [
           {
            "marker": {
             "colorbar": {
              "outlinewidth": 0,
              "ticks": ""
             }
            },
            "type": "scattergeo"
           }
          ],
          "scattergl": [
           {
            "marker": {
             "colorbar": {
              "outlinewidth": 0,
              "ticks": ""
             }
            },
            "type": "scattergl"
           }
          ],
          "scattermapbox": [
           {
            "marker": {
             "colorbar": {
              "outlinewidth": 0,
              "ticks": ""
             }
            },
            "type": "scattermapbox"
           }
          ],
          "scatterpolar": [
           {
            "marker": {
             "colorbar": {
              "outlinewidth": 0,
              "ticks": ""
             }
            },
            "type": "scatterpolar"
           }
          ],
          "scatterpolargl": [
           {
            "marker": {
             "colorbar": {
              "outlinewidth": 0,
              "ticks": ""
             }
            },
            "type": "scatterpolargl"
           }
          ],
          "scatterternary": [
           {
            "marker": {
             "colorbar": {
              "outlinewidth": 0,
              "ticks": ""
             }
            },
            "type": "scatterternary"
           }
          ],
          "surface": [
           {
            "colorbar": {
             "outlinewidth": 0,
             "ticks": ""
            },
            "colorscale": [
             [
              0,
              "#0d0887"
             ],
             [
              0.1111111111111111,
              "#46039f"
             ],
             [
              0.2222222222222222,
              "#7201a8"
             ],
             [
              0.3333333333333333,
              "#9c179e"
             ],
             [
              0.4444444444444444,
              "#bd3786"
             ],
             [
              0.5555555555555556,
              "#d8576b"
             ],
             [
              0.6666666666666666,
              "#ed7953"
             ],
             [
              0.7777777777777778,
              "#fb9f3a"
             ],
             [
              0.8888888888888888,
              "#fdca26"
             ],
             [
              1,
              "#f0f921"
             ]
            ],
            "type": "surface"
           }
          ],
          "table": [
           {
            "cells": {
             "fill": {
              "color": "#EBF0F8"
             },
             "line": {
              "color": "white"
             }
            },
            "header": {
             "fill": {
              "color": "#C8D4E3"
             },
             "line": {
              "color": "white"
             }
            },
            "type": "table"
           }
          ]
         },
         "layout": {
          "annotationdefaults": {
           "arrowcolor": "#2a3f5f",
           "arrowhead": 0,
           "arrowwidth": 1
          },
          "autotypenumbers": "strict",
          "coloraxis": {
           "colorbar": {
            "outlinewidth": 0,
            "ticks": ""
           }
          },
          "colorscale": {
           "diverging": [
            [
             0,
             "#8e0152"
            ],
            [
             0.1,
             "#c51b7d"
            ],
            [
             0.2,
             "#de77ae"
            ],
            [
             0.3,
             "#f1b6da"
            ],
            [
             0.4,
             "#fde0ef"
            ],
            [
             0.5,
             "#f7f7f7"
            ],
            [
             0.6,
             "#e6f5d0"
            ],
            [
             0.7,
             "#b8e186"
            ],
            [
             0.8,
             "#7fbc41"
            ],
            [
             0.9,
             "#4d9221"
            ],
            [
             1,
             "#276419"
            ]
           ],
           "sequential": [
            [
             0,
             "#0d0887"
            ],
            [
             0.1111111111111111,
             "#46039f"
            ],
            [
             0.2222222222222222,
             "#7201a8"
            ],
            [
             0.3333333333333333,
             "#9c179e"
            ],
            [
             0.4444444444444444,
             "#bd3786"
            ],
            [
             0.5555555555555556,
             "#d8576b"
            ],
            [
             0.6666666666666666,
             "#ed7953"
            ],
            [
             0.7777777777777778,
             "#fb9f3a"
            ],
            [
             0.8888888888888888,
             "#fdca26"
            ],
            [
             1,
             "#f0f921"
            ]
           ],
           "sequentialminus": [
            [
             0,
             "#0d0887"
            ],
            [
             0.1111111111111111,
             "#46039f"
            ],
            [
             0.2222222222222222,
             "#7201a8"
            ],
            [
             0.3333333333333333,
             "#9c179e"
            ],
            [
             0.4444444444444444,
             "#bd3786"
            ],
            [
             0.5555555555555556,
             "#d8576b"
            ],
            [
             0.6666666666666666,
             "#ed7953"
            ],
            [
             0.7777777777777778,
             "#fb9f3a"
            ],
            [
             0.8888888888888888,
             "#fdca26"
            ],
            [
             1,
             "#f0f921"
            ]
           ]
          },
          "colorway": [
           "#636efa",
           "#EF553B",
           "#00cc96",
           "#ab63fa",
           "#FFA15A",
           "#19d3f3",
           "#FF6692",
           "#B6E880",
           "#FF97FF",
           "#FECB52"
          ],
          "font": {
           "color": "#2a3f5f"
          },
          "geo": {
           "bgcolor": "white",
           "lakecolor": "white",
           "landcolor": "#E5ECF6",
           "showlakes": true,
           "showland": true,
           "subunitcolor": "white"
          },
          "hoverlabel": {
           "align": "left"
          },
          "hovermode": "closest",
          "mapbox": {
           "style": "light"
          },
          "paper_bgcolor": "white",
          "plot_bgcolor": "#E5ECF6",
          "polar": {
           "angularaxis": {
            "gridcolor": "white",
            "linecolor": "white",
            "ticks": ""
           },
           "bgcolor": "#E5ECF6",
           "radialaxis": {
            "gridcolor": "white",
            "linecolor": "white",
            "ticks": ""
           }
          },
          "scene": {
           "xaxis": {
            "backgroundcolor": "#E5ECF6",
            "gridcolor": "white",
            "gridwidth": 2,
            "linecolor": "white",
            "showbackground": true,
            "ticks": "",
            "zerolinecolor": "white"
           },
           "yaxis": {
            "backgroundcolor": "#E5ECF6",
            "gridcolor": "white",
            "gridwidth": 2,
            "linecolor": "white",
            "showbackground": true,
            "ticks": "",
            "zerolinecolor": "white"
           },
           "zaxis": {
            "backgroundcolor": "#E5ECF6",
            "gridcolor": "white",
            "gridwidth": 2,
            "linecolor": "white",
            "showbackground": true,
            "ticks": "",
            "zerolinecolor": "white"
           }
          },
          "shapedefaults": {
           "line": {
            "color": "#2a3f5f"
           }
          },
          "ternary": {
           "aaxis": {
            "gridcolor": "white",
            "linecolor": "white",
            "ticks": ""
           },
           "baxis": {
            "gridcolor": "white",
            "linecolor": "white",
            "ticks": ""
           },
           "bgcolor": "#E5ECF6",
           "caxis": {
            "gridcolor": "white",
            "linecolor": "white",
            "ticks": ""
           }
          },
          "title": {
           "x": 0.05
          },
          "xaxis": {
           "automargin": true,
           "gridcolor": "white",
           "linecolor": "white",
           "ticks": "",
           "title": {
            "standoff": 15
           },
           "zerolinecolor": "white",
           "zerolinewidth": 2
          },
          "yaxis": {
           "automargin": true,
           "gridcolor": "white",
           "linecolor": "white",
           "ticks": "",
           "title": {
            "standoff": 15
           },
           "zerolinecolor": "white",
           "zerolinewidth": 2
          }
         }
        },
        "title": {
         "text": "INFORMATION-TECHNOLOGY Distribution of Skills"
        },
        "xaxis": {
         "anchor": "y",
         "categoryorder": "total descending",
         "domain": [
          0,
          1
         ],
         "title": {
          "text": "Skills"
         }
        },
        "yaxis": {
         "anchor": "x",
         "domain": [
          0,
          1
         ],
         "title": {
          "text": "count"
         }
        }
       }
      },
      "text/html": [
       "<div>                            <div id=\"d71b5d9a-43fd-4954-82a9-6607d82668b7\" class=\"plotly-graph-div\" style=\"height:525px; width:100%;\"></div>            <script type=\"text/javascript\">                require([\"plotly\"], function(Plotly) {                    window.PLOTLYENV=window.PLOTLYENV || {};                                    if (document.getElementById(\"d71b5d9a-43fd-4954-82a9-6607d82668b7\")) {                    Plotly.newPlot(                        \"d71b5d9a-43fd-4954-82a9-6607d82668b7\",                        [{\"alignmentgroup\":\"True\",\"bingroup\":\"x\",\"hovertemplate\":\"Skills=%{x}<br>count=%{y}<extra></extra>\",\"legendgroup\":\"\",\"marker\":{\"color\":\"#636efa\",\"pattern\":{\"shape\":\"\"}},\"name\":\"\",\"offsetgroup\":\"\",\"orientation\":\"v\",\"showlegend\":false,\"x\":[\"ajax\",\"user interface\",\"database\",\"data warehouse\",\"sorting\",\"web service\",\"mobile\",\"framework\",\"mysql\",\"security\",\"library\",\"design\",\"business\",\"data retrieval\",\"authentication\",\"computer engineering\",\"eclipse\",\"data model\",\"schedule\",\"asp net\",\"java\",\"javascript\",\"software\",\"front end\",\"support\",\"server\",\"jquery\",\"text editor\",\"file system\",\"visual studio\",\"operating system\",\"data access\",\"engineering\",\"bootstrap\",\"database\",\"documentation\",\"release\",\"testing\",\"oracle\",\"perl\",\"tracking system\",\"security\",\"design\",\"business\",\"terminal\",\"debugging\",\"specification\",\"visual basic\",\"schedule\",\"composer\",\"data validation\",\"linux\",\"workflow\",\"java\",\"project management\",\"software\",\"support\",\"algorithm\",\"deployment\",\"user interface\",\"database\",\"documentation\",\"release\",\"chrome\",\"testing\",\"collaboration\",\"task management\",\"help desk\",\"certificate\",\"security\",\"design\",\"monitoring\",\"specification\",\"google\",\"component\",\"schedule\",\"linux\",\"project management\",\"software\",\"material\",\"visual inspection\",\"support\",\"server\",\"operating system\",\"engineering\",\"data management\",\"computer network\",\"documentation\",\"access control\",\"mobile\",\"workload\",\"collaboration\",\"help desk\",\"business administration\",\"security\",\"performance metric\",\"design\",\"finance\",\"business\",\"wireless\",\"workflow\",\"project management\",\"material\",\"software\",\"support\",\"server\",\"resource allocation\",\"deployment\",\"computer hardware\",\"user interface\",\"support\",\"server\",\"documentation\",\"engineering\",\"security\",\"design\",\"finance\",\"software\",\"devise\",\"collaboration\",\"telephony\",\"computer science\",\"support\",\"server\",\"release\",\"operating system\",\"security\",\"accounting\",\"business process\",\"design\",\"finance\",\"business\",\"project management\",\"software\",\"collaboration\",\"material\",\"support\",\"operating system\",\"component\",\"schedule\",\"testing\",\"security\",\"business\",\"project management\",\"software\",\"content management\",\"wireless\",\"wordpress\",\"support\",\"help desk\",\"server\",\"wireless network\",\"centos\",\"drupal\",\"android\",\"security\",\"fusion\",\"design\",\"monitoring\",\"project management\",\"software\"],\"xaxis\":\"x\",\"yaxis\":\"y\",\"type\":\"histogram\"}],                        {\"template\":{\"data\":{\"histogram2dcontour\":[{\"type\":\"histogram2dcontour\",\"colorbar\":{\"outlinewidth\":0,\"ticks\":\"\"},\"colorscale\":[[0.0,\"#0d0887\"],[0.1111111111111111,\"#46039f\"],[0.2222222222222222,\"#7201a8\"],[0.3333333333333333,\"#9c179e\"],[0.4444444444444444,\"#bd3786\"],[0.5555555555555556,\"#d8576b\"],[0.6666666666666666,\"#ed7953\"],[0.7777777777777778,\"#fb9f3a\"],[0.8888888888888888,\"#fdca26\"],[1.0,\"#f0f921\"]]}],\"choropleth\":[{\"type\":\"choropleth\",\"colorbar\":{\"outlinewidth\":0,\"ticks\":\"\"}}],\"histogram2d\":[{\"type\":\"histogram2d\",\"colorbar\":{\"outlinewidth\":0,\"ticks\":\"\"},\"colorscale\":[[0.0,\"#0d0887\"],[0.1111111111111111,\"#46039f\"],[0.2222222222222222,\"#7201a8\"],[0.3333333333333333,\"#9c179e\"],[0.4444444444444444,\"#bd3786\"],[0.5555555555555556,\"#d8576b\"],[0.6666666666666666,\"#ed7953\"],[0.7777777777777778,\"#fb9f3a\"],[0.8888888888888888,\"#fdca26\"],[1.0,\"#f0f921\"]]}],\"heatmap\":[{\"type\":\"heatmap\",\"colorbar\":{\"outlinewidth\":0,\"ticks\":\"\"},\"colorscale\":[[0.0,\"#0d0887\"],[0.1111111111111111,\"#46039f\"],[0.2222222222222222,\"#7201a8\"],[0.3333333333333333,\"#9c179e\"],[0.4444444444444444,\"#bd3786\"],[0.5555555555555556,\"#d8576b\"],[0.6666666666666666,\"#ed7953\"],[0.7777777777777778,\"#fb9f3a\"],[0.8888888888888888,\"#fdca26\"],[1.0,\"#f0f921\"]]}],\"heatmapgl\":[{\"type\":\"heatmapgl\",\"colorbar\":{\"outlinewidth\":0,\"ticks\":\"\"},\"colorscale\":[[0.0,\"#0d0887\"],[0.1111111111111111,\"#46039f\"],[0.2222222222222222,\"#7201a8\"],[0.3333333333333333,\"#9c179e\"],[0.4444444444444444,\"#bd3786\"],[0.5555555555555556,\"#d8576b\"],[0.6666666666666666,\"#ed7953\"],[0.7777777777777778,\"#fb9f3a\"],[0.8888888888888888,\"#fdca26\"],[1.0,\"#f0f921\"]]}],\"contourcarpet\":[{\"type\":\"contourcarpet\",\"colorbar\":{\"outlinewidth\":0,\"ticks\":\"\"}}],\"contour\":[{\"type\":\"contour\",\"colorbar\":{\"outlinewidth\":0,\"ticks\":\"\"},\"colorscale\":[[0.0,\"#0d0887\"],[0.1111111111111111,\"#46039f\"],[0.2222222222222222,\"#7201a8\"],[0.3333333333333333,\"#9c179e\"],[0.4444444444444444,\"#bd3786\"],[0.5555555555555556,\"#d8576b\"],[0.6666666666666666,\"#ed7953\"],[0.7777777777777778,\"#fb9f3a\"],[0.8888888888888888,\"#fdca26\"],[1.0,\"#f0f921\"]]}],\"surface\":[{\"type\":\"surface\",\"colorbar\":{\"outlinewidth\":0,\"ticks\":\"\"},\"colorscale\":[[0.0,\"#0d0887\"],[0.1111111111111111,\"#46039f\"],[0.2222222222222222,\"#7201a8\"],[0.3333333333333333,\"#9c179e\"],[0.4444444444444444,\"#bd3786\"],[0.5555555555555556,\"#d8576b\"],[0.6666666666666666,\"#ed7953\"],[0.7777777777777778,\"#fb9f3a\"],[0.8888888888888888,\"#fdca26\"],[1.0,\"#f0f921\"]]}],\"mesh3d\":[{\"type\":\"mesh3d\",\"colorbar\":{\"outlinewidth\":0,\"ticks\":\"\"}}],\"scatter\":[{\"fillpattern\":{\"fillmode\":\"overlay\",\"size\":10,\"solidity\":0.2},\"type\":\"scatter\"}],\"parcoords\":[{\"type\":\"parcoords\",\"line\":{\"colorbar\":{\"outlinewidth\":0,\"ticks\":\"\"}}}],\"scatterpolargl\":[{\"type\":\"scatterpolargl\",\"marker\":{\"colorbar\":{\"outlinewidth\":0,\"ticks\":\"\"}}}],\"bar\":[{\"error_x\":{\"color\":\"#2a3f5f\"},\"error_y\":{\"color\":\"#2a3f5f\"},\"marker\":{\"line\":{\"color\":\"#E5ECF6\",\"width\":0.5},\"pattern\":{\"fillmode\":\"overlay\",\"size\":10,\"solidity\":0.2}},\"type\":\"bar\"}],\"scattergeo\":[{\"type\":\"scattergeo\",\"marker\":{\"colorbar\":{\"outlinewidth\":0,\"ticks\":\"\"}}}],\"scatterpolar\":[{\"type\":\"scatterpolar\",\"marker\":{\"colorbar\":{\"outlinewidth\":0,\"ticks\":\"\"}}}],\"histogram\":[{\"marker\":{\"pattern\":{\"fillmode\":\"overlay\",\"size\":10,\"solidity\":0.2}},\"type\":\"histogram\"}],\"scattergl\":[{\"type\":\"scattergl\",\"marker\":{\"colorbar\":{\"outlinewidth\":0,\"ticks\":\"\"}}}],\"scatter3d\":[{\"type\":\"scatter3d\",\"line\":{\"colorbar\":{\"outlinewidth\":0,\"ticks\":\"\"}},\"marker\":{\"colorbar\":{\"outlinewidth\":0,\"ticks\":\"\"}}}],\"scattermapbox\":[{\"type\":\"scattermapbox\",\"marker\":{\"colorbar\":{\"outlinewidth\":0,\"ticks\":\"\"}}}],\"scatterternary\":[{\"type\":\"scatterternary\",\"marker\":{\"colorbar\":{\"outlinewidth\":0,\"ticks\":\"\"}}}],\"scattercarpet\":[{\"type\":\"scattercarpet\",\"marker\":{\"colorbar\":{\"outlinewidth\":0,\"ticks\":\"\"}}}],\"carpet\":[{\"aaxis\":{\"endlinecolor\":\"#2a3f5f\",\"gridcolor\":\"white\",\"linecolor\":\"white\",\"minorgridcolor\":\"white\",\"startlinecolor\":\"#2a3f5f\"},\"baxis\":{\"endlinecolor\":\"#2a3f5f\",\"gridcolor\":\"white\",\"linecolor\":\"white\",\"minorgridcolor\":\"white\",\"startlinecolor\":\"#2a3f5f\"},\"type\":\"carpet\"}],\"table\":[{\"cells\":{\"fill\":{\"color\":\"#EBF0F8\"},\"line\":{\"color\":\"white\"}},\"header\":{\"fill\":{\"color\":\"#C8D4E3\"},\"line\":{\"color\":\"white\"}},\"type\":\"table\"}],\"barpolar\":[{\"marker\":{\"line\":{\"color\":\"#E5ECF6\",\"width\":0.5},\"pattern\":{\"fillmode\":\"overlay\",\"size\":10,\"solidity\":0.2}},\"type\":\"barpolar\"}],\"pie\":[{\"automargin\":true,\"type\":\"pie\"}]},\"layout\":{\"autotypenumbers\":\"strict\",\"colorway\":[\"#636efa\",\"#EF553B\",\"#00cc96\",\"#ab63fa\",\"#FFA15A\",\"#19d3f3\",\"#FF6692\",\"#B6E880\",\"#FF97FF\",\"#FECB52\"],\"font\":{\"color\":\"#2a3f5f\"},\"hovermode\":\"closest\",\"hoverlabel\":{\"align\":\"left\"},\"paper_bgcolor\":\"white\",\"plot_bgcolor\":\"#E5ECF6\",\"polar\":{\"bgcolor\":\"#E5ECF6\",\"angularaxis\":{\"gridcolor\":\"white\",\"linecolor\":\"white\",\"ticks\":\"\"},\"radialaxis\":{\"gridcolor\":\"white\",\"linecolor\":\"white\",\"ticks\":\"\"}},\"ternary\":{\"bgcolor\":\"#E5ECF6\",\"aaxis\":{\"gridcolor\":\"white\",\"linecolor\":\"white\",\"ticks\":\"\"},\"baxis\":{\"gridcolor\":\"white\",\"linecolor\":\"white\",\"ticks\":\"\"},\"caxis\":{\"gridcolor\":\"white\",\"linecolor\":\"white\",\"ticks\":\"\"}},\"coloraxis\":{\"colorbar\":{\"outlinewidth\":0,\"ticks\":\"\"}},\"colorscale\":{\"sequential\":[[0.0,\"#0d0887\"],[0.1111111111111111,\"#46039f\"],[0.2222222222222222,\"#7201a8\"],[0.3333333333333333,\"#9c179e\"],[0.4444444444444444,\"#bd3786\"],[0.5555555555555556,\"#d8576b\"],[0.6666666666666666,\"#ed7953\"],[0.7777777777777778,\"#fb9f3a\"],[0.8888888888888888,\"#fdca26\"],[1.0,\"#f0f921\"]],\"sequentialminus\":[[0.0,\"#0d0887\"],[0.1111111111111111,\"#46039f\"],[0.2222222222222222,\"#7201a8\"],[0.3333333333333333,\"#9c179e\"],[0.4444444444444444,\"#bd3786\"],[0.5555555555555556,\"#d8576b\"],[0.6666666666666666,\"#ed7953\"],[0.7777777777777778,\"#fb9f3a\"],[0.8888888888888888,\"#fdca26\"],[1.0,\"#f0f921\"]],\"diverging\":[[0,\"#8e0152\"],[0.1,\"#c51b7d\"],[0.2,\"#de77ae\"],[0.3,\"#f1b6da\"],[0.4,\"#fde0ef\"],[0.5,\"#f7f7f7\"],[0.6,\"#e6f5d0\"],[0.7,\"#b8e186\"],[0.8,\"#7fbc41\"],[0.9,\"#4d9221\"],[1,\"#276419\"]]},\"xaxis\":{\"gridcolor\":\"white\",\"linecolor\":\"white\",\"ticks\":\"\",\"title\":{\"standoff\":15},\"zerolinecolor\":\"white\",\"automargin\":true,\"zerolinewidth\":2},\"yaxis\":{\"gridcolor\":\"white\",\"linecolor\":\"white\",\"ticks\":\"\",\"title\":{\"standoff\":15},\"zerolinecolor\":\"white\",\"automargin\":true,\"zerolinewidth\":2},\"scene\":{\"xaxis\":{\"backgroundcolor\":\"#E5ECF6\",\"gridcolor\":\"white\",\"linecolor\":\"white\",\"showbackground\":true,\"ticks\":\"\",\"zerolinecolor\":\"white\",\"gridwidth\":2},\"yaxis\":{\"backgroundcolor\":\"#E5ECF6\",\"gridcolor\":\"white\",\"linecolor\":\"white\",\"showbackground\":true,\"ticks\":\"\",\"zerolinecolor\":\"white\",\"gridwidth\":2},\"zaxis\":{\"backgroundcolor\":\"#E5ECF6\",\"gridcolor\":\"white\",\"linecolor\":\"white\",\"showbackground\":true,\"ticks\":\"\",\"zerolinecolor\":\"white\",\"gridwidth\":2}},\"shapedefaults\":{\"line\":{\"color\":\"#2a3f5f\"}},\"annotationdefaults\":{\"arrowcolor\":\"#2a3f5f\",\"arrowhead\":0,\"arrowwidth\":1},\"geo\":{\"bgcolor\":\"white\",\"landcolor\":\"#E5ECF6\",\"subunitcolor\":\"white\",\"showland\":true,\"showlakes\":true,\"lakecolor\":\"white\"},\"title\":{\"x\":0.05},\"mapbox\":{\"style\":\"light\"}}},\"xaxis\":{\"anchor\":\"y\",\"domain\":[0.0,1.0],\"title\":{\"text\":\"Skills\"},\"categoryorder\":\"total descending\"},\"yaxis\":{\"anchor\":\"x\",\"domain\":[0.0,1.0],\"title\":{\"text\":\"count\"}},\"legend\":{\"tracegroupgap\":0},\"title\":{\"text\":\"INFORMATION-TECHNOLOGY Distribution of Skills\"},\"barmode\":\"relative\"},                        {\"responsive\": true}                    ).then(function(){\n",
       "                            \n",
       "var gd = document.getElementById('d71b5d9a-43fd-4954-82a9-6607d82668b7');\n",
       "var x = new MutationObserver(function (mutations, observer) {{\n",
       "        var display = window.getComputedStyle(gd).display;\n",
       "        if (!display || display === 'none') {{\n",
       "            console.log([gd, 'removed!']);\n",
       "            Plotly.purge(gd);\n",
       "            observer.disconnect();\n",
       "        }}\n",
       "}});\n",
       "\n",
       "// Listen for the removal of the full notebook cells\n",
       "var notebookContainer = gd.closest('#notebook-container');\n",
       "if (notebookContainer) {{\n",
       "    x.observe(notebookContainer, {childList: true});\n",
       "}}\n",
       "\n",
       "// Listen for the clearing of the current output cell\n",
       "var outputEl = gd.closest('.output');\n",
       "if (outputEl) {{\n",
       "    x.observe(outputEl, {childList: true});\n",
       "}}\n",
       "\n",
       "                        })                };                });            </script>        </div>"
      ]
     },
     "metadata": {},
     "output_type": "display_data"
    }
   ],
   "source": [
    "Job_Category = \"INFORMATION-TECHNOLOGY\"\n",
    "#Job_Category = \"BPO\",\"APPAREL\",\"CONSULTANT\",\"BANKING\",\"AGRICULTURE\",\"AUTOMOBILE\",\"INFORMATION-TECHNOLOGY\",\"TEACHER\",\"SALES\",\"HEALTHCARE\",\"CHEF\",\"FITNESS\",\"DIGITAL-MEDIA\",\"CONSTRUCTION\",\"HR\",\"BUSINESS-DEVELOPMENT\",\"ADVOCATE\",\"ARTS\",\"ENGINEERING\",\"ACCOUNTANT\",\"PUBLIC-RELATIONS\"\n",
    "Total_skills = []\n",
    "if Job_Category != \"ALL\":\n",
    "    fltr = data[data[\"Category\"] == Job_Category][\"skills\"]\n",
    "    for x in fltr:\n",
    "        for i in x:\n",
    "            Total_skills.append(i)\n",
    "else:\n",
    "    fltr = data[\"skills\"]\n",
    "    for x in fltr:\n",
    "        for i in x:\n",
    "            Total_skills.append(i)\n",
    "            \n",
    "fig = px.histogram(\n",
    "    x=Total_skills,\n",
    "    labels={\"x\":\"Skills\"},\n",
    "    title=f\"{Job_Category} Distribution of Skills\",\n",
    ").update_xaxes(categoryorder=\"total descending\")\n",
    "fig.show()"
   ]
  },
  {
   "cell_type": "markdown",
   "id": "cd512e91",
   "metadata": {},
   "source": [
    "# Most used Words"
   ]
  },
  {
   "cell_type": "markdown",
   "id": "205a5119",
   "metadata": {},
   "source": [
    "In this part, we are going to display the most used words in the Resume filter by job category. In Information technology, the most words used are system, network, and database. We can also discover more patterns by exploring the word cloud below."
   ]
  },
  {
   "cell_type": "code",
   "execution_count": 46,
   "id": "470e9568",
   "metadata": {},
   "outputs": [
    {
     "data": {
      "text/plain": [
       "Text(0.5, 1.0, 'Most Used Words in INFORMATION-TECHNOLOGY Resume')"
      ]
     },
     "execution_count": 46,
     "metadata": {},
     "output_type": "execute_result"
    },
    {
     "data": {
      "image/png": "[encoded data removed]",
      "text/plain": [
       "<Figure size 800x800 with 1 Axes>"
      ]
     },
     "metadata": {},
     "output_type": "display_data"
    }
   ],
   "source": [
    "text = \"\"\n",
    "for i in data[data[\"Category\"] == Job_Category][\"Clean_Resume\"].values:\n",
    "    text += i + \" \"\n",
    "    \n",
    "plt.figure(figsize=(8,8))\n",
    "\n",
    "x , y = np.ogrid[ :300, :300]\n",
    "\n",
    "mask = (x-150)**2 + (y-150)**2 > 130**2\n",
    "mask = 255*mask.astype(int)\n",
    "\n",
    "wc = WordCloud(\n",
    "    width = 800,\n",
    "    height = 800,\n",
    "    background_color=\"white\",\n",
    "    min_font_size=6,\n",
    "    repeat=True,\n",
    "    mask=mask,\n",
    ")\n",
    "wc.generate(text)\n",
    "\n",
    "plt.axis(\"off\")\n",
    "plt.imshow(wc, interpolation=\"bilinear\")\n",
    "plt.title(f\"Most Used Words in {Job_Category} Resume\", fontsize=20)"
   ]
  },
  {
   "cell_type": "markdown",
   "id": "25feb869",
   "metadata": {},
   "source": [
    "# Entity Recognition"
   ]
  },
  {
   "cell_type": "markdown",
   "id": "fcb35995",
   "metadata": {},
   "source": [
    "We can also display various entities within our raw text by using spaCy displacy.render. I am in love with this function as it is an amazing way to look at your entire document and discover SKILL or GEP within your Resume."
   ]
  },
  {
   "cell_type": "code",
   "execution_count": 47,
   "id": "e1ee5b9f",
   "metadata": {
    "scrolled": false
   },
   "outputs": [
    {
     "data": {
      "text/html": [
       "<span class=\"tex2jax_ignore\"><div class=\"entities\" style=\"line-height: 2.5; direction: ltr\">         \n",
       "<mark class=\"entity\" style=\"background: #ddd; padding: 0.45em 0.6em; margin: 0 0.25em; line-height: 1; border-radius: 0.35em;\">\n",
       "    MULTIMEDIA\n",
       "    <span style=\"font-size: 0.8em; font-weight: bold; line-height: 1; border-radius: 0.35em; vertical-align: middle; margin-left: 0.5rem\">SKILL</span>\n",
       "</mark>\n",
       " SALES CONSULTANT         Professional Summary      Experienced \n",
       "<mark class=\"entity\" style=\"background: #ddd; padding: 0.45em 0.6em; margin: 0 0.25em; line-height: 1; border-radius: 0.35em;\">\n",
       "    Marketing\n",
       "    <span style=\"font-size: 0.8em; font-weight: bold; line-height: 1; border-radius: 0.35em; vertical-align: middle; margin-left: 0.5rem\">SKILL</span>\n",
       "</mark>\n",
       "/Sales Consultant looking to leverage \n",
       "<mark class=\"entity\" style=\"background: #bfe1d9; padding: 0.45em 0.6em; margin: 0 0.25em; line-height: 1; border-radius: 0.35em;\">\n",
       "    35 years\n",
       "    <span style=\"font-size: 0.8em; font-weight: bold; line-height: 1; border-radius: 0.35em; vertical-align: middle; margin-left: 0.5rem\">DATE</span>\n",
       "</mark>\n",
       " of \n",
       "<mark class=\"entity\" style=\"background: #ddd; padding: 0.45em 0.6em; margin: 0 0.25em; line-height: 1; border-radius: 0.35em;\">\n",
       "    marketing\n",
       "    <span style=\"font-size: 0.8em; font-weight: bold; line-height: 1; border-radius: 0.35em; vertical-align: middle; margin-left: 0.5rem\">SKILL</span>\n",
       "</mark>\n",
       "/sales/production, into a professional Consultant role in the \n",
       "<mark class=\"entity\" style=\"background: #feca74; padding: 0.45em 0.6em; margin: 0 0.25em; line-height: 1; border-radius: 0.35em;\">\n",
       "    Baton Rouge\n",
       "    <span style=\"font-size: 0.8em; font-weight: bold; line-height: 1; border-radius: 0.35em; vertical-align: middle; margin-left: 0.5rem\">GPE</span>\n",
       "</mark>\n",
       " area. Strong analytical and problem-solving abilities with outstanding team management skills. Track record of achieving exceptional results in reaching goals and maintaining strong relationships with customer base.        Skills          Persuasive negotiator  Highly organized  \n",
       "<mark class=\"entity\" style=\"background: #7aecec; padding: 0.45em 0.6em; margin: 0 0.25em; line-height: 1; border-radius: 0.35em;\">\n",
       "    Analytical  Excellent\n",
       "    <span style=\"font-size: 0.8em; font-weight: bold; line-height: 1; border-radius: 0.35em; vertical-align: middle; margin-left: 0.5rem\">ORG</span>\n",
       "</mark>\n",
       " work ethic  Strategic account development  Enthusiastic about networking  Strong interpersonal skills      Detailed-oriented  Resolution-oriented  Energetic and \n",
       "<mark class=\"entity\" style=\"background: #c887fb; padding: 0.45em 0.6em; margin: 0 0.25em; line-height: 1; border-radius: 0.35em;\">\n",
       "    Driven\n",
       "    <span style=\"font-size: 0.8em; font-weight: bold; line-height: 1; border-radius: 0.35em; vertical-align: middle; margin-left: 0.5rem\">NORP</span>\n",
       "</mark>\n",
       "  Positive outlook  Proficient in \n",
       "<mark class=\"entity\" style=\"background: #bfeeb7; padding: 0.45em 0.6em; margin: 0 0.25em; line-height: 1; border-radius: 0.35em;\">\n",
       "    Excel\n",
       "    <span style=\"font-size: 0.8em; font-weight: bold; line-height: 1; border-radius: 0.35em; vertical-align: middle; margin-left: 0.5rem\">PRODUCT</span>\n",
       "</mark>\n",
       ", \n",
       "<mark class=\"entity\" style=\"background: #aa9cfc; padding: 0.45em 0.6em; margin: 0 0.25em; line-height: 1; border-radius: 0.35em;\">\n",
       "    Strata\n",
       "    <span style=\"font-size: 0.8em; font-weight: bold; line-height: 1; border-radius: 0.35em; vertical-align: middle; margin-left: 0.5rem\">PERSON</span>\n",
       "</mark>\n",
       ", \n",
       "<mark class=\"entity\" style=\"background: #aa9cfc; padding: 0.45em 0.6em; margin: 0 0.25em; line-height: 1; border-radius: 0.35em;\">\n",
       "    AdMall\n",
       "    <span style=\"font-size: 0.8em; font-weight: bold; line-height: 1; border-radius: 0.35em; vertical-align: middle; margin-left: 0.5rem\">PERSON</span>\n",
       "</mark>\n",
       ", Power Point, Salesforce, Mactive, Comscore  \n",
       "<mark class=\"entity\" style=\"background: #7aecec; padding: 0.45em 0.6em; margin: 0 0.25em; line-height: 1; border-radius: 0.35em;\">\n",
       "    Google Analytics            Work History      Multimedia Sales Consultant\n",
       "    <span style=\"font-size: 0.8em; font-weight: bold; line-height: 1; border-radius: 0.35em; vertical-align: middle; margin-left: 0.5rem\">ORG</span>\n",
       "</mark>\n",
       "   ,     09/2018   to   06/2019     Company Name   –   City  ,   State       Worked with clients to understand requirements and provide exceptional \n",
       "<mark class=\"entity\" style=\"background: #ddd; padding: 0.45em 0.6em; margin: 0 0.25em; line-height: 1; border-radius: 0.35em;\">\n",
       "    advertising\n",
       "    <span style=\"font-size: 0.8em; font-weight: bold; line-height: 1; border-radius: 0.35em; vertical-align: middle; margin-left: 0.5rem\">SKILL</span>\n",
       "</mark>\n",
       " service    Evaluated inventory and delivery needs, optimizing strategies to meet customer demands    Assessed client needs to determine and suggest relevant product solutions in alignment with client budgets and schedules    Forged and nurtured impactful relationships with customers to cultivate loyalty, boosting customer satisfaction    Stayed knowledgeable on latest digital platform, including SEO, SEM, OTT, \n",
       "<mark class=\"entity\" style=\"background: #7aecec; padding: 0.45em 0.6em; margin: 0 0.25em; line-height: 1; border-radius: 0.35em;\">\n",
       "    PPC\n",
       "    <span style=\"font-size: 0.8em; font-weight: bold; line-height: 1; border-radius: 0.35em; vertical-align: middle; margin-left: 0.5rem\">ORG</span>\n",
       "</mark>\n",
       " innovations and technological advancements through various training methods          \n",
       "<mark class=\"entity\" style=\"background: #ddd; padding: 0.45em 0.6em; margin: 0 0.25em; line-height: 1; border-radius: 0.35em;\">\n",
       "    Multimedia\n",
       "    <span style=\"font-size: 0.8em; font-weight: bold; line-height: 1; border-radius: 0.35em; vertical-align: middle; margin-left: 0.5rem\">SKILL</span>\n",
       "</mark>\n",
       " Sales Consultant  ,     06/2017   to   08/2018     Company Name   –   City  ,   State       Performed initial client assessment and analysis to begin research process    Delivered a high level of service to clients to both maintain and extend the relationships for future \n",
       "<mark class=\"entity\" style=\"background: #ddd; padding: 0.45em 0.6em; margin: 0 0.25em; line-height: 1; border-radius: 0.35em;\">\n",
       "    business\n",
       "    <span style=\"font-size: 0.8em; font-weight: bold; line-height: 1; border-radius: 0.35em; vertical-align: middle; margin-left: 0.5rem\">SKILL</span>\n",
       "</mark>\n",
       " opportunities    Built and strengthened relationships with new and existing accounts to drive revenue growth    Solved customer challenges by offering relevant print and digital products and services    Effectively communicated with clients using well-developed interpersonal skills, which helped to improve relationships and rapport    Monitored service after the sale and implemented quick and effective problem resolutions    Identified new \n",
       "<mark class=\"entity\" style=\"background: #ddd; padding: 0.45em 0.6em; margin: 0 0.25em; line-height: 1; border-radius: 0.35em;\">\n",
       "    business\n",
       "    <span style=\"font-size: 0.8em; font-weight: bold; line-height: 1; border-radius: 0.35em; vertical-align: middle; margin-left: 0.5rem\">SKILL</span>\n",
       "</mark>\n",
       " opportunities through cold calling, networking, \n",
       "<mark class=\"entity\" style=\"background: #ddd; padding: 0.45em 0.6em; margin: 0 0.25em; line-height: 1; border-radius: 0.35em;\">\n",
       "    marketing\n",
       "    <span style=\"font-size: 0.8em; font-weight: bold; line-height: 1; border-radius: 0.35em; vertical-align: middle; margin-left: 0.5rem\">SKILL</span>\n",
       "</mark>\n",
       " and prospective \n",
       "<mark class=\"entity\" style=\"background: #ddd; padding: 0.45em 0.6em; margin: 0 0.25em; line-height: 1; border-radius: 0.35em;\">\n",
       "    database\n",
       "    <span style=\"font-size: 0.8em; font-weight: bold; line-height: 1; border-radius: 0.35em; vertical-align: middle; margin-left: 0.5rem\">SKILL</span>\n",
       "</mark>\n",
       " leads    Asked appropriate open-ended questions to discover prospects' needs and requirements    Helped local clients expand \n",
       "<mark class=\"entity\" style=\"background: #ddd; padding: 0.45em 0.6em; margin: 0 0.25em; line-height: 1; border-radius: 0.35em;\">\n",
       "    business\n",
       "    <span style=\"font-size: 0.8em; font-weight: bold; line-height: 1; border-radius: 0.35em; vertical-align: middle; margin-left: 0.5rem\">SKILL</span>\n",
       "</mark>\n",
       " operations through targeted \n",
       "<mark class=\"entity\" style=\"background: #ddd; padding: 0.45em 0.6em; margin: 0 0.25em; line-height: 1; border-radius: 0.35em;\">\n",
       "    advertising\n",
       "    <span style=\"font-size: 0.8em; font-weight: bold; line-height: 1; border-radius: 0.35em; vertical-align: middle; margin-left: 0.5rem\">SKILL</span>\n",
       "</mark>\n",
       "          Outside Sales Executive  ,     10/2016   to   06/2017     Company Name   –   City  ,   State       Prospected and conducted face-to-face sales calls with \n",
       "<mark class=\"entity\" style=\"background: #ddd; padding: 0.45em 0.6em; margin: 0 0.25em; line-height: 1; border-radius: 0.35em;\">\n",
       "    business\n",
       "    <span style=\"font-size: 0.8em; font-weight: bold; line-height: 1; border-radius: 0.35em; vertical-align: middle; margin-left: 0.5rem\">SKILL</span>\n",
       "</mark>\n",
       " executives and directors throughout assigned territory    Attended \n",
       "<mark class=\"entity\" style=\"background: #bfe1d9; padding: 0.45em 0.6em; margin: 0 0.25em; line-height: 1; border-radius: 0.35em;\">\n",
       "    monthly\n",
       "    <span style=\"font-size: 0.8em; font-weight: bold; line-height: 1; border-radius: 0.35em; vertical-align: middle; margin-left: 0.5rem\">DATE</span>\n",
       "</mark>\n",
       " sales meetings and \n",
       "<mark class=\"entity\" style=\"background: #bfe1d9; padding: 0.45em 0.6em; margin: 0 0.25em; line-height: 1; border-radius: 0.35em;\">\n",
       "    quarterly\n",
       "    <span style=\"font-size: 0.8em; font-weight: bold; line-height: 1; border-radius: 0.35em; vertical-align: middle; margin-left: 0.5rem\">DATE</span>\n",
       "</mark>\n",
       " sales training    Negotiated prices, terms of sales and service agreements    Wrote sales contracts for orders obtained and submitted orders for processing    Met existing customers to review current services and expand sales opportunities    \n",
       "<mark class=\"entity\" style=\"background: #feca74; padding: 0.45em 0.6em; margin: 0 0.25em; line-height: 1; border-radius: 0.35em;\">\n",
       "    Maintained\n",
       "    <span style=\"font-size: 0.8em; font-weight: bold; line-height: 1; border-radius: 0.35em; vertical-align: middle; margin-left: 0.5rem\">GPE</span>\n",
       "</mark>\n",
       " knowledge of current sales and promotions, policies regarding payment and exchanges and \n",
       "<mark class=\"entity\" style=\"background: #ddd; padding: 0.45em 0.6em; margin: 0 0.25em; line-height: 1; border-radius: 0.35em;\">\n",
       "    security\n",
       "    <span style=\"font-size: 0.8em; font-weight: bold; line-height: 1; border-radius: 0.35em; vertical-align: middle; margin-left: 0.5rem\">SKILL</span>\n",
       "</mark>\n",
       " practices          Advanced \n",
       "<mark class=\"entity\" style=\"background: #ddd; padding: 0.45em 0.6em; margin: 0 0.25em; line-height: 1; border-radius: 0.35em;\">\n",
       "    Advertising\n",
       "    <span style=\"font-size: 0.8em; font-weight: bold; line-height: 1; border-radius: 0.35em; vertical-align: middle; margin-left: 0.5rem\">SKILL</span>\n",
       "</mark>\n",
       " Account Executive  ,     01/2008   to   10/2016     CompanyName   –   City  ,   \n",
       "<mark class=\"entity\" style=\"background: #7aecec; padding: 0.45em 0.6em; margin: 0 0.25em; line-height: 1; border-radius: 0.35em;\">\n",
       "    State      Prepare\n",
       "    <span style=\"font-size: 0.8em; font-weight: bold; line-height: 1; border-radius: 0.35em; vertical-align: middle; margin-left: 0.5rem\">ORG</span>\n",
       "</mark>\n",
       " and deliver sales presentations to new and existing customers to sell new \n",
       "<mark class=\"entity\" style=\"background: #ddd; padding: 0.45em 0.6em; margin: 0 0.25em; line-height: 1; border-radius: 0.35em;\">\n",
       "    advertising\n",
       "    <span style=\"font-size: 0.8em; font-weight: bold; line-height: 1; border-radius: 0.35em; vertical-align: middle; margin-left: 0.5rem\">SKILL</span>\n",
       "</mark>\n",
       " programs, and to protect and increase existing \n",
       "<mark class=\"entity\" style=\"background: #ddd; padding: 0.45em 0.6em; margin: 0 0.25em; line-height: 1; border-radius: 0.35em;\">\n",
       "    advertising\n",
       "    <span style=\"font-size: 0.8em; font-weight: bold; line-height: 1; border-radius: 0.35em; vertical-align: middle; margin-left: 0.5rem\">SKILL</span>\n",
       "</mark>\n",
       "  Prepare promotional plans, sales literature, media kits, and sales contracts, using \n",
       "<mark class=\"entity\" style=\"background: #7aecec; padding: 0.45em 0.6em; margin: 0 0.25em; line-height: 1; border-radius: 0.35em;\">\n",
       "    Power Point\n",
       "    <span style=\"font-size: 0.8em; font-weight: bold; line-height: 1; border-radius: 0.35em; vertical-align: middle; margin-left: 0.5rem\">ORG</span>\n",
       "</mark>\n",
       " and \n",
       "<mark class=\"entity\" style=\"background: #bfeeb7; padding: 0.45em 0.6em; margin: 0 0.25em; line-height: 1; border-radius: 0.35em;\">\n",
       "    Excel\n",
       "    <span style=\"font-size: 0.8em; font-weight: bold; line-height: 1; border-radius: 0.35em; vertical-align: middle; margin-left: 0.5rem\">PRODUCT</span>\n",
       "</mark>\n",
       "  Obtain and study information about client's products, needs, problems, \n",
       "<mark class=\"entity\" style=\"background: #ddd; padding: 0.45em 0.6em; margin: 0 0.25em; line-height: 1; border-radius: 0.35em;\">\n",
       "    advertising\n",
       "    <span style=\"font-size: 0.8em; font-weight: bold; line-height: 1; border-radius: 0.35em; vertical-align: middle; margin-left: 0.5rem\">SKILL</span>\n",
       "</mark>\n",
       " history, and \n",
       "<mark class=\"entity\" style=\"background: #ddd; padding: 0.45em 0.6em; margin: 0 0.25em; line-height: 1; border-radius: 0.35em;\">\n",
       "    business\n",
       "    <span style=\"font-size: 0.8em; font-weight: bold; line-height: 1; border-radius: 0.35em; vertical-align: middle; margin-left: 0.5rem\">SKILL</span>\n",
       "</mark>\n",
       " practices to offer effective sales presentations and appropriate product assistance  \n",
       "<mark class=\"entity\" style=\"background: #7aecec; padding: 0.45em 0.6em; margin: 0 0.25em; line-height: 1; border-radius: 0.35em;\">\n",
       "    Gather\n",
       "    <span style=\"font-size: 0.8em; font-weight: bold; line-height: 1; border-radius: 0.35em; vertical-align: middle; margin-left: 0.5rem\">ORG</span>\n",
       "</mark>\n",
       " all relevant \n",
       "<mark class=\"entity\" style=\"background: #ddd; padding: 0.45em 0.6em; margin: 0 0.25em; line-height: 1; border-radius: 0.35em;\">\n",
       "    material\n",
       "    <span style=\"font-size: 0.8em; font-weight: bold; line-height: 1; border-radius: 0.35em; vertical-align: middle; margin-left: 0.5rem\">SKILL</span>\n",
       "</mark>\n",
       " for bid processes, and coordinate bidding and contract approval  Managed a portfolio of \n",
       "<mark class=\"entity\" style=\"background: #e4e7d2; padding: 0.45em 0.6em; margin: 0 0.25em; line-height: 1; border-radius: 0.35em;\">\n",
       "    30\n",
       "    <span style=\"font-size: 0.8em; font-weight: bold; line-height: 1; border-radius: 0.35em; vertical-align: middle; margin-left: 0.5rem\">CARDINAL</span>\n",
       "</mark>\n",
       " accounts and $\n",
       "<mark class=\"entity\" style=\"background: #e4e7d2; padding: 0.45em 0.6em; margin: 0 0.25em; line-height: 1; border-radius: 0.35em;\">\n",
       "    40,000\n",
       "    <span style=\"font-size: 0.8em; font-weight: bold; line-height: 1; border-radius: 0.35em; vertical-align: middle; margin-left: 0.5rem\">MONEY</span>\n",
       "</mark>\n",
       " \n",
       "<mark class=\"entity\" style=\"background: #bfe1d9; padding: 0.45em 0.6em; margin: 0 0.25em; line-height: 1; border-radius: 0.35em;\">\n",
       "    monthly\n",
       "    <span style=\"font-size: 0.8em; font-weight: bold; line-height: 1; border-radius: 0.35em; vertical-align: middle; margin-left: 0.5rem\">DATE</span>\n",
       "</mark>\n",
       " average in sales  Increased sales volume in \n",
       "<mark class=\"entity\" style=\"background: #f0d0ff; padding: 0.45em 0.6em; margin: 0 0.25em; line-height: 1; border-radius: 0.35em;\">\n",
       "    Ascension Parish Market\n",
       "    <span style=\"font-size: 0.8em; font-weight: bold; line-height: 1; border-radius: 0.35em; vertical-align: middle; margin-left: 0.5rem\">WORK_OF_ART</span>\n",
       "</mark>\n",
       " from $\n",
       "<mark class=\"entity\" style=\"background: #e4e7d2; padding: 0.45em 0.6em; margin: 0 0.25em; line-height: 1; border-radius: 0.35em;\">\n",
       "    0\n",
       "    <span style=\"font-size: 0.8em; font-weight: bold; line-height: 1; border-radius: 0.35em; vertical-align: middle; margin-left: 0.5rem\">MONEY</span>\n",
       "</mark>\n",
       " sales to $\n",
       "<mark class=\"entity\" style=\"background: #e4e7d2; padding: 0.45em 0.6em; margin: 0 0.25em; line-height: 1; border-radius: 0.35em;\">\n",
       "    480,000\n",
       "    <span style=\"font-size: 0.8em; font-weight: bold; line-height: 1; border-radius: 0.35em; vertical-align: middle; margin-left: 0.5rem\">MONEY</span>\n",
       "</mark>\n",
       " sales volume  Selected the correct products based on customer needs, product specifications and applicable regulations  Built relationships with customers and the community to promote long term \n",
       "<mark class=\"entity\" style=\"background: #ddd; padding: 0.45em 0.6em; margin: 0 0.25em; line-height: 1; border-radius: 0.35em;\">\n",
       "    business\n",
       "    <span style=\"font-size: 0.8em; font-weight: bold; line-height: 1; border-radius: 0.35em; vertical-align: middle; margin-left: 0.5rem\">SKILL</span>\n",
       "</mark>\n",
       " growth  Handled all political orders in \n",
       "<mark class=\"entity\" style=\"background: #feca74; padding: 0.45em 0.6em; margin: 0 0.25em; line-height: 1; border-radius: 0.35em;\">\n",
       "    Louisiana\n",
       "    <span style=\"font-size: 0.8em; font-weight: bold; line-height: 1; border-radius: 0.35em; vertical-align: middle; margin-left: 0.5rem\">GPE</span>\n",
       "</mark>\n",
       " providing clients with estimates of the costs of \n",
       "<mark class=\"entity\" style=\"background: #ddd; padding: 0.45em 0.6em; margin: 0 0.25em; line-height: 1; border-radius: 0.35em;\">\n",
       "    advertising\n",
       "    <span style=\"font-size: 0.8em; font-weight: bold; line-height: 1; border-radius: 0.35em; vertical-align: middle; margin-left: 0.5rem\">SKILL</span>\n",
       "</mark>\n",
       " products or services  Same position and responsibilities as \n",
       "<mark class=\"entity\" style=\"background: #7aecec; padding: 0.45em 0.6em; margin: 0 0.25em; line-height: 1; border-radius: 0.35em;\">\n",
       "    Viamedia\n",
       "    <span style=\"font-size: 0.8em; font-weight: bold; line-height: 1; border-radius: 0.35em; vertical-align: middle; margin-left: 0.5rem\">ORG</span>\n",
       "</mark>\n",
       " and \n",
       "<mark class=\"entity\" style=\"background: #7aecec; padding: 0.45em 0.6em; margin: 0 0.25em; line-height: 1; border-radius: 0.35em;\">\n",
       "    Comcast\n",
       "    <span style=\"font-size: 0.8em; font-weight: bold; line-height: 1; border-radius: 0.35em; vertical-align: middle; margin-left: 0.5rem\">ORG</span>\n",
       "</mark>\n",
       " in \n",
       "<mark class=\"entity\" style=\"background: #ff9561; padding: 0.45em 0.6em; margin: 0 0.25em; line-height: 1; border-radius: 0.35em;\">\n",
       "    Southeast Regional\n",
       "    <span style=\"font-size: 0.8em; font-weight: bold; line-height: 1; border-radius: 0.35em; vertical-align: middle; margin-left: 0.5rem\">LOC</span>\n",
       "</mark>\n",
       " area  \n",
       "<mark class=\"entity\" style=\"background: #7aecec; padding: 0.45em 0.6em; margin: 0 0.25em; line-height: 1; border-radius: 0.35em;\">\n",
       "    Ad Insertion\n",
       "    <span style=\"font-size: 0.8em; font-weight: bold; line-height: 1; border-radius: 0.35em; vertical-align: middle; margin-left: 0.5rem\">ORG</span>\n",
       "</mark>\n",
       " company for \n",
       "<mark class=\"entity\" style=\"background: #7aecec; padding: 0.45em 0.6em; margin: 0 0.25em; line-height: 1; border-radius: 0.35em;\">\n",
       "    EATEL         Advertising Sales Representative\n",
       "    <span style=\"font-size: 0.8em; font-weight: bold; line-height: 1; border-radius: 0.35em; vertical-align: middle; margin-left: 0.5rem\">ORG</span>\n",
       "</mark>\n",
       "  ,     07/2006   to   \n",
       "<mark class=\"entity\" style=\"background: #e4e7d2; padding: 0.45em 0.6em; margin: 0 0.25em; line-height: 1; border-radius: 0.35em;\">\n",
       "    12/2008\n",
       "    <span style=\"font-size: 0.8em; font-weight: bold; line-height: 1; border-radius: 0.35em; vertical-align: middle; margin-left: 0.5rem\">CARDINAL</span>\n",
       "</mark>\n",
       "     Company Name   –   City  ,   \n",
       "<mark class=\"entity\" style=\"background: #7aecec; padding: 0.45em 0.6em; margin: 0 0.25em; line-height: 1; border-radius: 0.35em;\">\n",
       "    State\n",
       "    <span style=\"font-size: 0.8em; font-weight: bold; line-height: 1; border-radius: 0.35em; vertical-align: middle; margin-left: 0.5rem\">ORG</span>\n",
       "</mark>\n",
       "      Identify, develop, or evaluate \n",
       "<mark class=\"entity\" style=\"background: #ddd; padding: 0.45em 0.6em; margin: 0 0.25em; line-height: 1; border-radius: 0.35em;\">\n",
       "    marketing\n",
       "    <span style=\"font-size: 0.8em; font-weight: bold; line-height: 1; border-radius: 0.35em; vertical-align: middle; margin-left: 0.5rem\">SKILL</span>\n",
       "</mark>\n",
       " strategy, based on knowledge of establishment objectives, market characteristics, and cost and markup factors  \n",
       "<mark class=\"entity\" style=\"background: #7aecec; padding: 0.45em 0.6em; margin: 0 0.25em; line-height: 1; border-radius: 0.35em;\">\n",
       "    Negotiate\n",
       "    <span style=\"font-size: 0.8em; font-weight: bold; line-height: 1; border-radius: 0.35em; vertical-align: middle; margin-left: 0.5rem\">ORG</span>\n",
       "</mark>\n",
       " contracts with vendors or distributors to manage product distribution, establishing distribution networks or developing distribution strategies  Check figures, postings, and documents for correct entry, mathematical accuracy, and proper codes  Perform personal bookkeeping services  \n",
       "<mark class=\"entity\" style=\"background: #7aecec; padding: 0.45em 0.6em; margin: 0 0.25em; line-height: 1; border-radius: 0.35em;\">\n",
       "    Classify\n",
       "    <span style=\"font-size: 0.8em; font-weight: bold; line-height: 1; border-radius: 0.35em; vertical-align: middle; margin-left: 0.5rem\">ORG</span>\n",
       "</mark>\n",
       ", record, and summarize numerical and financial data to compile and keep financial records, using journals and ledgers or computers  As AFAE (Automotive Focused Account Executive) identify \n",
       "<mark class=\"entity\" style=\"background: #7aecec; padding: 0.45em 0.6em; margin: 0 0.25em; line-height: 1; border-radius: 0.35em;\">\n",
       "    Automotive\n",
       "    <span style=\"font-size: 0.8em; font-weight: bold; line-height: 1; border-radius: 0.35em; vertical-align: middle; margin-left: 0.5rem\">ORG</span>\n",
       "</mark>\n",
       " dealers in market to explain how specific types of \n",
       "<mark class=\"entity\" style=\"background: #ddd; padding: 0.45em 0.6em; margin: 0 0.25em; line-height: 1; border-radius: 0.35em;\">\n",
       "    advertising\n",
       "    <span style=\"font-size: 0.8em; font-weight: bold; line-height: 1; border-radius: 0.35em; vertical-align: middle; margin-left: 0.5rem\">SKILL</span>\n",
       "</mark>\n",
       " will help promote their products or services in the most effective way possible  Same position and responsibilities as \n",
       "<mark class=\"entity\" style=\"background: #aa9cfc; padding: 0.45em 0.6em; margin: 0 0.25em; line-height: 1; border-radius: 0.35em;\">\n",
       "    AdGorilla\n",
       "    <span style=\"font-size: 0.8em; font-weight: bold; line-height: 1; border-radius: 0.35em; vertical-align: middle; margin-left: 0.5rem\">PERSON</span>\n",
       "</mark>\n",
       " and \n",
       "<mark class=\"entity\" style=\"background: #7aecec; padding: 0.45em 0.6em; margin: 0 0.25em; line-height: 1; border-radius: 0.35em;\">\n",
       "    Viamedia Ad Insertion\n",
       "    <span style=\"font-size: 0.8em; font-weight: bold; line-height: 1; border-radius: 0.35em; vertical-align: middle; margin-left: 0.5rem\">ORG</span>\n",
       "</mark>\n",
       " company for \n",
       "<mark class=\"entity\" style=\"background: #7aecec; padding: 0.45em 0.6em; margin: 0 0.25em; line-height: 1; border-radius: 0.35em;\">\n",
       "    EATEL\n",
       "    <span style=\"font-size: 0.8em; font-weight: bold; line-height: 1; border-radius: 0.35em; vertical-align: middle; margin-left: 0.5rem\">ORG</span>\n",
       "</mark>\n",
       ", \n",
       "<mark class=\"entity\" style=\"background: #feca74; padding: 0.45em 0.6em; margin: 0 0.25em; line-height: 1; border-radius: 0.35em;\">\n",
       "    Bailey\n",
       "    <span style=\"font-size: 0.8em; font-weight: bold; line-height: 1; border-radius: 0.35em; vertical-align: middle; margin-left: 0.5rem\">GPE</span>\n",
       "</mark>\n",
       ", \n",
       "<mark class=\"entity\" style=\"background: #aa9cfc; padding: 0.45em 0.6em; margin: 0 0.25em; line-height: 1; border-radius: 0.35em;\">\n",
       "    Spillway\n",
       "    <span style=\"font-size: 0.8em; font-weight: bold; line-height: 1; border-radius: 0.35em; vertical-align: middle; margin-left: 0.5rem\">PERSON</span>\n",
       "</mark>\n",
       " and \n",
       "<mark class=\"entity\" style=\"background: #7aecec; padding: 0.45em 0.6em; margin: 0 0.25em; line-height: 1; border-radius: 0.35em;\">\n",
       "    Fidelity\n",
       "    <span style=\"font-size: 0.8em; font-weight: bold; line-height: 1; border-radius: 0.35em; vertical-align: middle; margin-left: 0.5rem\">ORG</span>\n",
       "</mark>\n",
       " cable HH's         \n",
       "<mark class=\"entity\" style=\"background: #ddd; padding: 0.45em 0.6em; margin: 0 0.25em; line-height: 1; border-radius: 0.35em;\">\n",
       "    Marketing\n",
       "    <span style=\"font-size: 0.8em; font-weight: bold; line-height: 1; border-radius: 0.35em; vertical-align: middle; margin-left: 0.5rem\">SKILL</span>\n",
       "</mark>\n",
       " Coordinator  ,     04/1990   to   07/1996     Company Name   –   City  ,   State       Coordinated resources to craft \n",
       "<mark class=\"entity\" style=\"background: #ddd; padding: 0.45em 0.6em; margin: 0 0.25em; line-height: 1; border-radius: 0.35em;\">\n",
       "    marketing\n",
       "    <span style=\"font-size: 0.8em; font-weight: bold; line-height: 1; border-radius: 0.35em; vertical-align: middle; margin-left: 0.5rem\">SKILL</span>\n",
       "</mark>\n",
       " plans for various projects including product launches and events    Wrote copy that maintained compliance with corporate and legal guidelines    Worked with \n",
       "<mark class=\"entity\" style=\"background: #ddd; padding: 0.45em 0.6em; margin: 0 0.25em; line-height: 1; border-radius: 0.35em;\">\n",
       "    advertising\n",
       "    <span style=\"font-size: 0.8em; font-weight: bold; line-height: 1; border-radius: 0.35em; vertical-align: middle; margin-left: 0.5rem\">SKILL</span>\n",
       "</mark>\n",
       " teams to create, deploy and optimize \n",
       "<mark class=\"entity\" style=\"background: #ddd; padding: 0.45em 0.6em; margin: 0 0.25em; line-height: 1; border-radius: 0.35em;\">\n",
       "    marketing\n",
       "    <span style=\"font-size: 0.8em; font-weight: bold; line-height: 1; border-radius: 0.35em; vertical-align: middle; margin-left: 0.5rem\">SKILL</span>\n",
       "</mark>\n",
       " initiatives for TV customers    Planned events, including tradeshows and vendor fairs, for clients and partners to attend    Built brand awareness and generated leads while managing internal and external \n",
       "<mark class=\"entity\" style=\"background: #ddd; padding: 0.45em 0.6em; margin: 0 0.25em; line-height: 1; border-radius: 0.35em;\">\n",
       "    marketing\n",
       "    <span style=\"font-size: 0.8em; font-weight: bold; line-height: 1; border-radius: 0.35em; vertical-align: middle; margin-left: 0.5rem\">SKILL</span>\n",
       "</mark>\n",
       " campaigns and programs    Proofread \n",
       "<mark class=\"entity\" style=\"background: #ddd; padding: 0.45em 0.6em; margin: 0 0.25em; line-height: 1; border-radius: 0.35em;\">\n",
       "    marketing\n",
       "    <span style=\"font-size: 0.8em; font-weight: bold; line-height: 1; border-radius: 0.35em; vertical-align: middle; margin-left: 0.5rem\">SKILL</span>\n",
       "</mark>\n",
       " \n",
       "<mark class=\"entity\" style=\"background: #ddd; padding: 0.45em 0.6em; margin: 0 0.25em; line-height: 1; border-radius: 0.35em;\">\n",
       "    documentation\n",
       "    <span style=\"font-size: 0.8em; font-weight: bold; line-height: 1; border-radius: 0.35em; vertical-align: middle; margin-left: 0.5rem\">SKILL</span>\n",
       "</mark>\n",
       " to check for spelling, grammar and \n",
       "<mark class=\"entity\" style=\"background: #ddd; padding: 0.45em 0.6em; margin: 0 0.25em; line-height: 1; border-radius: 0.35em;\">\n",
       "    syntax\n",
       "    <span style=\"font-size: 0.8em; font-weight: bold; line-height: 1; border-radius: 0.35em; vertical-align: middle; margin-left: 0.5rem\">SKILL</span>\n",
       "</mark>\n",
       " errors    Developed fresh, crisp content to diversify current promotional options          Education      Some College (No Degree)  :   \n",
       "<mark class=\"entity\" style=\"background: #ddd; padding: 0.45em 0.6em; margin: 0 0.25em; line-height: 1; border-radius: 0.35em;\">\n",
       "    Marketing\n",
       "    <span style=\"font-size: 0.8em; font-weight: bold; line-height: 1; border-radius: 0.35em; vertical-align: middle; margin-left: 0.5rem\">SKILL</span>\n",
       "</mark>\n",
       "/\n",
       "<mark class=\"entity\" style=\"background: #ddd; padding: 0.45em 0.6em; margin: 0 0.25em; line-height: 1; border-radius: 0.35em;\">\n",
       "    Accounting\n",
       "    <span style=\"font-size: 0.8em; font-weight: bold; line-height: 1; border-radius: 0.35em; vertical-align: middle; margin-left: 0.5rem\">SKILL</span>\n",
       "</mark>\n",
       "      \n",
       "<mark class=\"entity\" style=\"background: #7aecec; padding: 0.45em 0.6em; margin: 0 0.25em; line-height: 1; border-radius: 0.35em;\">\n",
       "    Louisiana State University\n",
       "    <span style=\"font-size: 0.8em; font-weight: bold; line-height: 1; border-radius: 0.35em; vertical-align: middle; margin-left: 0.5rem\">ORG</span>\n",
       "</mark>\n",
       "   -   City  ,   \n",
       "<mark class=\"entity\" style=\"background: #7aecec; padding: 0.45em 0.6em; margin: 0 0.25em; line-height: 1; border-radius: 0.35em;\">\n",
       "    State\n",
       "    <span style=\"font-size: 0.8em; font-weight: bold; line-height: 1; border-radius: 0.35em; vertical-align: middle; margin-left: 0.5rem\">ORG</span>\n",
       "</mark>\n",
       "           Affiliations      Sales and \n",
       "<mark class=\"entity\" style=\"background: #ddd; padding: 0.45em 0.6em; margin: 0 0.25em; line-height: 1; border-radius: 0.35em;\">\n",
       "    Marketing\n",
       "    <span style=\"font-size: 0.8em; font-weight: bold; line-height: 1; border-radius: 0.35em; vertical-align: middle; margin-left: 0.5rem\">SKILL</span>\n",
       "</mark>\n",
       " Executives    International Member Women in Media    American Red Cross    \n",
       "<mark class=\"entity\" style=\"background: #7aecec; padding: 0.45em 0.6em; margin: 0 0.25em; line-height: 1; border-radius: 0.35em;\">\n",
       "    BR Eye Bank\n",
       "    <span style=\"font-size: 0.8em; font-weight: bold; line-height: 1; border-radius: 0.35em; vertical-align: middle; margin-left: 0.5rem\">ORG</span>\n",
       "</mark>\n",
       " Auxiliary    Ascension Chamber of \n",
       "<mark class=\"entity\" style=\"background: #ddd; padding: 0.45em 0.6em; margin: 0 0.25em; line-height: 1; border-radius: 0.35em;\">\n",
       "    Commerce\n",
       "    <span style=\"font-size: 0.8em; font-weight: bold; line-height: 1; border-radius: 0.35em; vertical-align: middle; margin-left: 0.5rem\">SKILL</span>\n",
       "</mark>\n",
       "    BR Food Bank    \n",
       "<mark class=\"entity\" style=\"background: #7aecec; padding: 0.45em 0.6em; margin: 0 0.25em; line-height: 1; border-radius: 0.35em;\">\n",
       "    St George School &amp; Church\n",
       "    <span style=\"font-size: 0.8em; font-weight: bold; line-height: 1; border-radius: 0.35em; vertical-align: middle; margin-left: 0.5rem\">ORG</span>\n",
       "</mark>\n",
       "          Skills      Persuasive negotiator  Highly organized  \n",
       "<mark class=\"entity\" style=\"background: #7aecec; padding: 0.45em 0.6em; margin: 0 0.25em; line-height: 1; border-radius: 0.35em;\">\n",
       "    Analytical  Excellent\n",
       "    <span style=\"font-size: 0.8em; font-weight: bold; line-height: 1; border-radius: 0.35em; vertical-align: middle; margin-left: 0.5rem\">ORG</span>\n",
       "</mark>\n",
       " work ethic  Strategic account development  Enthusiastic about networking  Strong interpersonal skills    Detailed-oriented  Resolution-oriented  Energetic and \n",
       "<mark class=\"entity\" style=\"background: #c887fb; padding: 0.45em 0.6em; margin: 0 0.25em; line-height: 1; border-radius: 0.35em;\">\n",
       "    Driven\n",
       "    <span style=\"font-size: 0.8em; font-weight: bold; line-height: 1; border-radius: 0.35em; vertical-align: middle; margin-left: 0.5rem\">NORP</span>\n",
       "</mark>\n",
       "  Positive outlook  Proficient in \n",
       "<mark class=\"entity\" style=\"background: #bfeeb7; padding: 0.45em 0.6em; margin: 0 0.25em; line-height: 1; border-radius: 0.35em;\">\n",
       "    Excel\n",
       "    <span style=\"font-size: 0.8em; font-weight: bold; line-height: 1; border-radius: 0.35em; vertical-align: middle; margin-left: 0.5rem\">PRODUCT</span>\n",
       "</mark>\n",
       ", \n",
       "<mark class=\"entity\" style=\"background: #aa9cfc; padding: 0.45em 0.6em; margin: 0 0.25em; line-height: 1; border-radius: 0.35em;\">\n",
       "    Strata\n",
       "    <span style=\"font-size: 0.8em; font-weight: bold; line-height: 1; border-radius: 0.35em; vertical-align: middle; margin-left: 0.5rem\">PERSON</span>\n",
       "</mark>\n",
       ", \n",
       "<mark class=\"entity\" style=\"background: #aa9cfc; padding: 0.45em 0.6em; margin: 0 0.25em; line-height: 1; border-radius: 0.35em;\">\n",
       "    AdMall\n",
       "    <span style=\"font-size: 0.8em; font-weight: bold; line-height: 1; border-radius: 0.35em; vertical-align: middle; margin-left: 0.5rem\">PERSON</span>\n",
       "</mark>\n",
       ", Power Point, Salesforce, Mactive, Comscore  \n",
       "<mark class=\"entity\" style=\"background: #7aecec; padding: 0.45em 0.6em; margin: 0 0.25em; line-height: 1; border-radius: 0.35em;\">\n",
       "    Google Analytics        Work History      Multimedia Sales Consultant\n",
       "    <span style=\"font-size: 0.8em; font-weight: bold; line-height: 1; border-radius: 0.35em; vertical-align: middle; margin-left: 0.5rem\">ORG</span>\n",
       "</mark>\n",
       "   ,   09/2018   to   06/2019     Company Name   –   City  ,   State       Worked with clients to understand requirements and provide exceptional \n",
       "<mark class=\"entity\" style=\"background: #ddd; padding: 0.45em 0.6em; margin: 0 0.25em; line-height: 1; border-radius: 0.35em;\">\n",
       "    advertising\n",
       "    <span style=\"font-size: 0.8em; font-weight: bold; line-height: 1; border-radius: 0.35em; vertical-align: middle; margin-left: 0.5rem\">SKILL</span>\n",
       "</mark>\n",
       " service    Evaluated inventory and delivery needs, optimizing strategies to meet customer demands    Assessed client needs to determine and suggest relevant product solutions in alignment with client budgets and schedules    Forged and nurtured impactful relationships with customers to cultivate loyalty, boosting customer satisfaction    Stayed knowledgeable on latest digital platform, including SEO, SEM, OTT, \n",
       "<mark class=\"entity\" style=\"background: #7aecec; padding: 0.45em 0.6em; margin: 0 0.25em; line-height: 1; border-radius: 0.35em;\">\n",
       "    PPC\n",
       "    <span style=\"font-size: 0.8em; font-weight: bold; line-height: 1; border-radius: 0.35em; vertical-align: middle; margin-left: 0.5rem\">ORG</span>\n",
       "</mark>\n",
       " innovations and technological advancements through various training methods          \n",
       "<mark class=\"entity\" style=\"background: #ddd; padding: 0.45em 0.6em; margin: 0 0.25em; line-height: 1; border-radius: 0.35em;\">\n",
       "    Multimedia\n",
       "    <span style=\"font-size: 0.8em; font-weight: bold; line-height: 1; border-radius: 0.35em; vertical-align: middle; margin-left: 0.5rem\">SKILL</span>\n",
       "</mark>\n",
       " Sales Consultant  ,   06/2017   to   08/2018     Company Name   –   City  ,   State       Performed initial client assessment and analysis to begin research process    Delivered a high level of service to clients to both maintain and extend the relationships for future \n",
       "<mark class=\"entity\" style=\"background: #ddd; padding: 0.45em 0.6em; margin: 0 0.25em; line-height: 1; border-radius: 0.35em;\">\n",
       "    business\n",
       "    <span style=\"font-size: 0.8em; font-weight: bold; line-height: 1; border-radius: 0.35em; vertical-align: middle; margin-left: 0.5rem\">SKILL</span>\n",
       "</mark>\n",
       " opportunities    Built and strengthened relationships with new and existing accounts to drive revenue growth    Solved customer challenges by offering relevant print and digital products and services    Effectively communicated with clients using well-developed interpersonal skills, which helped to improve relationships and rapport    Monitored service after the sale and implemented quick and effective problem resolutions    Identified new \n",
       "<mark class=\"entity\" style=\"background: #ddd; padding: 0.45em 0.6em; margin: 0 0.25em; line-height: 1; border-radius: 0.35em;\">\n",
       "    business\n",
       "    <span style=\"font-size: 0.8em; font-weight: bold; line-height: 1; border-radius: 0.35em; vertical-align: middle; margin-left: 0.5rem\">SKILL</span>\n",
       "</mark>\n",
       " opportunities through cold calling, networking, \n",
       "<mark class=\"entity\" style=\"background: #ddd; padding: 0.45em 0.6em; margin: 0 0.25em; line-height: 1; border-radius: 0.35em;\">\n",
       "    marketing\n",
       "    <span style=\"font-size: 0.8em; font-weight: bold; line-height: 1; border-radius: 0.35em; vertical-align: middle; margin-left: 0.5rem\">SKILL</span>\n",
       "</mark>\n",
       " and prospective \n",
       "<mark class=\"entity\" style=\"background: #ddd; padding: 0.45em 0.6em; margin: 0 0.25em; line-height: 1; border-radius: 0.35em;\">\n",
       "    database\n",
       "    <span style=\"font-size: 0.8em; font-weight: bold; line-height: 1; border-radius: 0.35em; vertical-align: middle; margin-left: 0.5rem\">SKILL</span>\n",
       "</mark>\n",
       " leads    Asked appropriate open-ended questions to discover prospects' needs and requirements    Helped local clients expand \n",
       "<mark class=\"entity\" style=\"background: #ddd; padding: 0.45em 0.6em; margin: 0 0.25em; line-height: 1; border-radius: 0.35em;\">\n",
       "    business\n",
       "    <span style=\"font-size: 0.8em; font-weight: bold; line-height: 1; border-radius: 0.35em; vertical-align: middle; margin-left: 0.5rem\">SKILL</span>\n",
       "</mark>\n",
       " operations through targeted \n",
       "<mark class=\"entity\" style=\"background: #ddd; padding: 0.45em 0.6em; margin: 0 0.25em; line-height: 1; border-radius: 0.35em;\">\n",
       "    advertising\n",
       "    <span style=\"font-size: 0.8em; font-weight: bold; line-height: 1; border-radius: 0.35em; vertical-align: middle; margin-left: 0.5rem\">SKILL</span>\n",
       "</mark>\n",
       "          Outside Sales Executive  ,   10/2016   to   06/2017     Company Name   –   City  ,   State       Prospected and conducted face-to-face sales calls with \n",
       "<mark class=\"entity\" style=\"background: #ddd; padding: 0.45em 0.6em; margin: 0 0.25em; line-height: 1; border-radius: 0.35em;\">\n",
       "    business\n",
       "    <span style=\"font-size: 0.8em; font-weight: bold; line-height: 1; border-radius: 0.35em; vertical-align: middle; margin-left: 0.5rem\">SKILL</span>\n",
       "</mark>\n",
       " executives and directors throughout assigned territory    Attended \n",
       "<mark class=\"entity\" style=\"background: #bfe1d9; padding: 0.45em 0.6em; margin: 0 0.25em; line-height: 1; border-radius: 0.35em;\">\n",
       "    monthly\n",
       "    <span style=\"font-size: 0.8em; font-weight: bold; line-height: 1; border-radius: 0.35em; vertical-align: middle; margin-left: 0.5rem\">DATE</span>\n",
       "</mark>\n",
       " sales meetings and \n",
       "<mark class=\"entity\" style=\"background: #bfe1d9; padding: 0.45em 0.6em; margin: 0 0.25em; line-height: 1; border-radius: 0.35em;\">\n",
       "    quarterly\n",
       "    <span style=\"font-size: 0.8em; font-weight: bold; line-height: 1; border-radius: 0.35em; vertical-align: middle; margin-left: 0.5rem\">DATE</span>\n",
       "</mark>\n",
       " sales training    Negotiated prices, terms of sales and service agreements    Wrote sales contracts for orders obtained and submittedorders for processing    Met existing customers to review current services and expand sales opportunities    \n",
       "<mark class=\"entity\" style=\"background: #feca74; padding: 0.45em 0.6em; margin: 0 0.25em; line-height: 1; border-radius: 0.35em;\">\n",
       "    Maintained\n",
       "    <span style=\"font-size: 0.8em; font-weight: bold; line-height: 1; border-radius: 0.35em; vertical-align: middle; margin-left: 0.5rem\">GPE</span>\n",
       "</mark>\n",
       " knowledge of current sales and promotions, policies regarding payment and exchanges and \n",
       "<mark class=\"entity\" style=\"background: #ddd; padding: 0.45em 0.6em; margin: 0 0.25em; line-height: 1; border-radius: 0.35em;\">\n",
       "    security\n",
       "    <span style=\"font-size: 0.8em; font-weight: bold; line-height: 1; border-radius: 0.35em; vertical-align: middle; margin-left: 0.5rem\">SKILL</span>\n",
       "</mark>\n",
       " practices          Advanced \n",
       "<mark class=\"entity\" style=\"background: #ddd; padding: 0.45em 0.6em; margin: 0 0.25em; line-height: 1; border-radius: 0.35em;\">\n",
       "    Advertising\n",
       "    <span style=\"font-size: 0.8em; font-weight: bold; line-height: 1; border-radius: 0.35em; vertical-align: middle; margin-left: 0.5rem\">SKILL</span>\n",
       "</mark>\n",
       " Account Executive  ,   01/2008   to   10/2016     Company Name   –   City  ,   \n",
       "<mark class=\"entity\" style=\"background: #7aecec; padding: 0.45em 0.6em; margin: 0 0.25em; line-height: 1; border-radius: 0.35em;\">\n",
       "    State      Prepare\n",
       "    <span style=\"font-size: 0.8em; font-weight: bold; line-height: 1; border-radius: 0.35em; vertical-align: middle; margin-left: 0.5rem\">ORG</span>\n",
       "</mark>\n",
       " and deliver sales presentations to new and existing customers to sell new \n",
       "<mark class=\"entity\" style=\"background: #ddd; padding: 0.45em 0.6em; margin: 0 0.25em; line-height: 1; border-radius: 0.35em;\">\n",
       "    advertising\n",
       "    <span style=\"font-size: 0.8em; font-weight: bold; line-height: 1; border-radius: 0.35em; vertical-align: middle; margin-left: 0.5rem\">SKILL</span>\n",
       "</mark>\n",
       " programs, and to protect and increase existing \n",
       "<mark class=\"entity\" style=\"background: #ddd; padding: 0.45em 0.6em; margin: 0 0.25em; line-height: 1; border-radius: 0.35em;\">\n",
       "    advertising\n",
       "    <span style=\"font-size: 0.8em; font-weight: bold; line-height: 1; border-radius: 0.35em; vertical-align: middle; margin-left: 0.5rem\">SKILL</span>\n",
       "</mark>\n",
       "  Prepare promotional plans, sales literature, media kits, and sales contracts, using \n",
       "<mark class=\"entity\" style=\"background: #7aecec; padding: 0.45em 0.6em; margin: 0 0.25em; line-height: 1; border-radius: 0.35em;\">\n",
       "    Power Point\n",
       "    <span style=\"font-size: 0.8em; font-weight: bold; line-height: 1; border-radius: 0.35em; vertical-align: middle; margin-left: 0.5rem\">ORG</span>\n",
       "</mark>\n",
       " and \n",
       "<mark class=\"entity\" style=\"background: #bfeeb7; padding: 0.45em 0.6em; margin: 0 0.25em; line-height: 1; border-radius: 0.35em;\">\n",
       "    Excel\n",
       "    <span style=\"font-size: 0.8em; font-weight: bold; line-height: 1; border-radius: 0.35em; vertical-align: middle; margin-left: 0.5rem\">PRODUCT</span>\n",
       "</mark>\n",
       "  Obtain and study information about client's products, needs, problems, \n",
       "<mark class=\"entity\" style=\"background: #ddd; padding: 0.45em 0.6em; margin: 0 0.25em; line-height: 1; border-radius: 0.35em;\">\n",
       "    advertising\n",
       "    <span style=\"font-size: 0.8em; font-weight: bold; line-height: 1; border-radius: 0.35em; vertical-align: middle; margin-left: 0.5rem\">SKILL</span>\n",
       "</mark>\n",
       " history, and \n",
       "<mark class=\"entity\" style=\"background: #ddd; padding: 0.45em 0.6em; margin: 0 0.25em; line-height: 1; border-radius: 0.35em;\">\n",
       "    business\n",
       "    <span style=\"font-size: 0.8em; font-weight: bold; line-height: 1; border-radius: 0.35em; vertical-align: middle; margin-left: 0.5rem\">SKILL</span>\n",
       "</mark>\n",
       " practices to offer effective sales presentations and appropriate product assistance  \n",
       "<mark class=\"entity\" style=\"background: #7aecec; padding: 0.45em 0.6em; margin: 0 0.25em; line-height: 1; border-radius: 0.35em;\">\n",
       "    Gather\n",
       "    <span style=\"font-size: 0.8em; font-weight: bold; line-height: 1; border-radius: 0.35em; vertical-align: middle; margin-left: 0.5rem\">ORG</span>\n",
       "</mark>\n",
       " all relevant \n",
       "<mark class=\"entity\" style=\"background: #ddd; padding: 0.45em 0.6em; margin: 0 0.25em; line-height: 1; border-radius: 0.35em;\">\n",
       "    material\n",
       "    <span style=\"font-size: 0.8em; font-weight: bold; line-height: 1; border-radius: 0.35em; vertical-align: middle; margin-left: 0.5rem\">SKILL</span>\n",
       "</mark>\n",
       " for bid processes, and coordinate bidding and contract approval  Managed a portfolio of \n",
       "<mark class=\"entity\" style=\"background: #e4e7d2; padding: 0.45em 0.6em; margin: 0 0.25em; line-height: 1; border-radius: 0.35em;\">\n",
       "    30\n",
       "    <span style=\"font-size: 0.8em; font-weight: bold; line-height: 1; border-radius: 0.35em; vertical-align: middle; margin-left: 0.5rem\">CARDINAL</span>\n",
       "</mark>\n",
       " accounts and $\n",
       "<mark class=\"entity\" style=\"background: #e4e7d2; padding: 0.45em 0.6em; margin: 0 0.25em; line-height: 1; border-radius: 0.35em;\">\n",
       "    40,000\n",
       "    <span style=\"font-size: 0.8em; font-weight: bold; line-height: 1; border-radius: 0.35em; vertical-align: middle; margin-left: 0.5rem\">MONEY</span>\n",
       "</mark>\n",
       " \n",
       "<mark class=\"entity\" style=\"background: #bfe1d9; padding: 0.45em 0.6em; margin: 0 0.25em; line-height: 1; border-radius: 0.35em;\">\n",
       "    monthly\n",
       "    <span style=\"font-size: 0.8em; font-weight: bold; line-height: 1; border-radius: 0.35em; vertical-align: middle; margin-left: 0.5rem\">DATE</span>\n",
       "</mark>\n",
       " average in sales  Increased sales volume in \n",
       "<mark class=\"entity\" style=\"background: #f0d0ff; padding: 0.45em 0.6em; margin: 0 0.25em; line-height: 1; border-radius: 0.35em;\">\n",
       "    Ascension Parish Market\n",
       "    <span style=\"font-size: 0.8em; font-weight: bold; line-height: 1; border-radius: 0.35em; vertical-align: middle; margin-left: 0.5rem\">WORK_OF_ART</span>\n",
       "</mark>\n",
       " from $\n",
       "<mark class=\"entity\" style=\"background: #e4e7d2; padding: 0.45em 0.6em; margin: 0 0.25em; line-height: 1; border-radius: 0.35em;\">\n",
       "    0\n",
       "    <span style=\"font-size: 0.8em; font-weight: bold; line-height: 1; border-radius: 0.35em; vertical-align: middle; margin-left: 0.5rem\">MONEY</span>\n",
       "</mark>\n",
       " sales to $\n",
       "<mark class=\"entity\" style=\"background: #e4e7d2; padding: 0.45em 0.6em; margin: 0 0.25em; line-height: 1; border-radius: 0.35em;\">\n",
       "    480,000\n",
       "    <span style=\"font-size: 0.8em; font-weight: bold; line-height: 1; border-radius: 0.35em; vertical-align: middle; margin-left: 0.5rem\">MONEY</span>\n",
       "</mark>\n",
       " sales volume  Selected the correct products based on customer needs, product specifications and applicable regulations  Built relationships with customers and the community to promote long term \n",
       "<mark class=\"entity\" style=\"background: #ddd; padding: 0.45em 0.6em; margin: 0 0.25em; line-height: 1; border-radius: 0.35em;\">\n",
       "    business\n",
       "    <span style=\"font-size: 0.8em; font-weight: bold; line-height: 1; border-radius: 0.35em; vertical-align: middle; margin-left: 0.5rem\">SKILL</span>\n",
       "</mark>\n",
       " growth  Handled all political orders in \n",
       "<mark class=\"entity\" style=\"background: #feca74; padding: 0.45em 0.6em; margin: 0 0.25em; line-height: 1; border-radius: 0.35em;\">\n",
       "    Louisiana\n",
       "    <span style=\"font-size: 0.8em; font-weight: bold; line-height: 1; border-radius: 0.35em; vertical-align: middle; margin-left: 0.5rem\">GPE</span>\n",
       "</mark>\n",
       " providing clients with estimates of the costs of \n",
       "<mark class=\"entity\" style=\"background: #ddd; padding: 0.45em 0.6em; margin: 0 0.25em; line-height: 1; border-radius: 0.35em;\">\n",
       "    advertising\n",
       "    <span style=\"font-size: 0.8em; font-weight: bold; line-height: 1; border-radius: 0.35em; vertical-align: middle; margin-left: 0.5rem\">SKILL</span>\n",
       "</mark>\n",
       " products or services  Same position and responsibilities as \n",
       "<mark class=\"entity\" style=\"background: #7aecec; padding: 0.45em 0.6em; margin: 0 0.25em; line-height: 1; border-radius: 0.35em;\">\n",
       "    Viamedia\n",
       "    <span style=\"font-size: 0.8em; font-weight: bold; line-height: 1; border-radius: 0.35em; vertical-align: middle; margin-left: 0.5rem\">ORG</span>\n",
       "</mark>\n",
       " and \n",
       "<mark class=\"entity\" style=\"background: #7aecec; padding: 0.45em 0.6em; margin: 0 0.25em; line-height: 1; border-radius: 0.35em;\">\n",
       "    Comcast\n",
       "    <span style=\"font-size: 0.8em; font-weight: bold; line-height: 1; border-radius: 0.35em; vertical-align: middle; margin-left: 0.5rem\">ORG</span>\n",
       "</mark>\n",
       " in \n",
       "<mark class=\"entity\" style=\"background: #ff9561; padding: 0.45em 0.6em; margin: 0 0.25em; line-height: 1; border-radius: 0.35em;\">\n",
       "    Southeast Regional\n",
       "    <span style=\"font-size: 0.8em; font-weight: bold; line-height: 1; border-radius: 0.35em; vertical-align: middle; margin-left: 0.5rem\">LOC</span>\n",
       "</mark>\n",
       " area  \n",
       "<mark class=\"entity\" style=\"background: #7aecec; padding: 0.45em 0.6em; margin: 0 0.25em; line-height: 1; border-radius: 0.35em;\">\n",
       "    Ad Insertion\n",
       "    <span style=\"font-size: 0.8em; font-weight: bold; line-height: 1; border-radius: 0.35em; vertical-align: middle; margin-left: 0.5rem\">ORG</span>\n",
       "</mark>\n",
       " company for \n",
       "<mark class=\"entity\" style=\"background: #7aecec; padding: 0.45em 0.6em; margin: 0 0.25em; line-height: 1; border-radius: 0.35em;\">\n",
       "    EATEL         Advertising Sales Representative\n",
       "    <span style=\"font-size: 0.8em; font-weight: bold; line-height: 1; border-radius: 0.35em; vertical-align: middle; margin-left: 0.5rem\">ORG</span>\n",
       "</mark>\n",
       "  ,   07/2006   to   \n",
       "<mark class=\"entity\" style=\"background: #e4e7d2; padding: 0.45em 0.6em; margin: 0 0.25em; line-height: 1; border-radius: 0.35em;\">\n",
       "    12/2008\n",
       "    <span style=\"font-size: 0.8em; font-weight: bold; line-height: 1; border-radius: 0.35em; vertical-align: middle; margin-left: 0.5rem\">CARDINAL</span>\n",
       "</mark>\n",
       "     Company Name   –   City  ,   \n",
       "<mark class=\"entity\" style=\"background: #7aecec; padding: 0.45em 0.6em; margin: 0 0.25em; line-height: 1; border-radius: 0.35em;\">\n",
       "    State\n",
       "    <span style=\"font-size: 0.8em; font-weight: bold; line-height: 1; border-radius: 0.35em; vertical-align: middle; margin-left: 0.5rem\">ORG</span>\n",
       "</mark>\n",
       "      Identify, develop, or evaluate \n",
       "<mark class=\"entity\" style=\"background: #ddd; padding: 0.45em 0.6em; margin: 0 0.25em; line-height: 1; border-radius: 0.35em;\">\n",
       "    marketing\n",
       "    <span style=\"font-size: 0.8em; font-weight: bold; line-height: 1; border-radius: 0.35em; vertical-align: middle; margin-left: 0.5rem\">SKILL</span>\n",
       "</mark>\n",
       " strategy, based on knowledge of establishment objectives, market characteristics, and cost and markup factors  \n",
       "<mark class=\"entity\" style=\"background: #7aecec; padding: 0.45em 0.6em; margin: 0 0.25em; line-height: 1; border-radius: 0.35em;\">\n",
       "    Negotiate\n",
       "    <span style=\"font-size: 0.8em; font-weight: bold; line-height: 1; border-radius: 0.35em; vertical-align: middle; margin-left: 0.5rem\">ORG</span>\n",
       "</mark>\n",
       " contracts with vendors or distributors to manage product distribution, establishing distribution networks or developing distribution strategies  Check figures, postings, and documents for correct entry, mathematical accuracy, and proper codes  Perform personal bookkeeping services  \n",
       "<mark class=\"entity\" style=\"background: #7aecec; padding: 0.45em 0.6em; margin: 0 0.25em; line-height: 1; border-radius: 0.35em;\">\n",
       "    Classify\n",
       "    <span style=\"font-size: 0.8em; font-weight: bold; line-height: 1; border-radius: 0.35em; vertical-align: middle; margin-left: 0.5rem\">ORG</span>\n",
       "</mark>\n",
       ", record, and summarize numerical and financial data to compile and keep financial records, using journals and ledgers or computers  As AFAE (Automotive Focused Account Executive) identify \n",
       "<mark class=\"entity\" style=\"background: #7aecec; padding: 0.45em 0.6em; margin: 0 0.25em; line-height: 1; border-radius: 0.35em;\">\n",
       "    Automotive\n",
       "    <span style=\"font-size: 0.8em; font-weight: bold; line-height: 1; border-radius: 0.35em; vertical-align: middle; margin-left: 0.5rem\">ORG</span>\n",
       "</mark>\n",
       " dealers in market to explain how specific types of \n",
       "<mark class=\"entity\" style=\"background: #ddd; padding: 0.45em 0.6em; margin: 0 0.25em; line-height: 1; border-radius: 0.35em;\">\n",
       "    advertising\n",
       "    <span style=\"font-size: 0.8em; font-weight: bold; line-height: 1; border-radius: 0.35em; vertical-align: middle; margin-left: 0.5rem\">SKILL</span>\n",
       "</mark>\n",
       " will help promote their products or services in the most effective way possible  Same position and responsibilities as \n",
       "<mark class=\"entity\" style=\"background: #aa9cfc; padding: 0.45em 0.6em; margin: 0 0.25em; line-height: 1; border-radius: 0.35em;\">\n",
       "    AdGorilla\n",
       "    <span style=\"font-size: 0.8em; font-weight: bold; line-height: 1; border-radius: 0.35em; vertical-align: middle; margin-left: 0.5rem\">PERSON</span>\n",
       "</mark>\n",
       " and \n",
       "<mark class=\"entity\" style=\"background: #7aecec; padding: 0.45em 0.6em; margin: 0 0.25em; line-height: 1; border-radius: 0.35em;\">\n",
       "    Viamedia Ad Insertion\n",
       "    <span style=\"font-size: 0.8em; font-weight: bold; line-height: 1; border-radius: 0.35em; vertical-align: middle; margin-left: 0.5rem\">ORG</span>\n",
       "</mark>\n",
       " company for \n",
       "<mark class=\"entity\" style=\"background: #7aecec; padding: 0.45em 0.6em; margin: 0 0.25em; line-height: 1; border-radius: 0.35em;\">\n",
       "    EATEL\n",
       "    <span style=\"font-size: 0.8em; font-weight: bold; line-height: 1; border-radius: 0.35em; vertical-align: middle; margin-left: 0.5rem\">ORG</span>\n",
       "</mark>\n",
       ", \n",
       "<mark class=\"entity\" style=\"background: #feca74; padding: 0.45em 0.6em; margin: 0 0.25em; line-height: 1; border-radius: 0.35em;\">\n",
       "    Bailey\n",
       "    <span style=\"font-size: 0.8em; font-weight: bold; line-height: 1; border-radius: 0.35em; vertical-align: middle; margin-left: 0.5rem\">GPE</span>\n",
       "</mark>\n",
       ", \n",
       "<mark class=\"entity\" style=\"background: #aa9cfc; padding: 0.45em 0.6em; margin: 0 0.25em; line-height: 1; border-radius: 0.35em;\">\n",
       "    Spillway\n",
       "    <span style=\"font-size: 0.8em; font-weight: bold; line-height: 1; border-radius: 0.35em; vertical-align: middle; margin-left: 0.5rem\">PERSON</span>\n",
       "</mark>\n",
       " and \n",
       "<mark class=\"entity\" style=\"background: #7aecec; padding: 0.45em 0.6em; margin: 0 0.25em; line-height: 1; border-radius: 0.35em;\">\n",
       "    Fidelity\n",
       "    <span style=\"font-size: 0.8em; font-weight: bold; line-height: 1; border-radius: 0.35em; vertical-align: middle; margin-left: 0.5rem\">ORG</span>\n",
       "</mark>\n",
       " cable HH's         \n",
       "<mark class=\"entity\" style=\"background: #ddd; padding: 0.45em 0.6em; margin: 0 0.25em; line-height: 1; border-radius: 0.35em;\">\n",
       "    Marketing\n",
       "    <span style=\"font-size: 0.8em; font-weight: bold; line-height: 1; border-radius: 0.35em; vertical-align: middle; margin-left: 0.5rem\">SKILL</span>\n",
       "</mark>\n",
       " Coordinator  ,   04/1990   to   07/1996     Company Name   –   City  ,   State       Coordinated resources to craft \n",
       "<mark class=\"entity\" style=\"background: #ddd; padding: 0.45em 0.6em; margin: 0 0.25em; line-height: 1; border-radius: 0.35em;\">\n",
       "    marketing\n",
       "    <span style=\"font-size: 0.8em; font-weight: bold; line-height: 1; border-radius: 0.35em; vertical-align: middle; margin-left: 0.5rem\">SKILL</span>\n",
       "</mark>\n",
       " plans for various projects including product launches and events    Wrote copy that maintained compliance with corporate and legal guidelines    Worked with \n",
       "<mark class=\"entity\" style=\"background: #ddd; padding: 0.45em 0.6em; margin: 0 0.25em; line-height: 1; border-radius: 0.35em;\">\n",
       "    advertising\n",
       "    <span style=\"font-size: 0.8em; font-weight: bold; line-height: 1; border-radius: 0.35em; vertical-align: middle; margin-left: 0.5rem\">SKILL</span>\n",
       "</mark>\n",
       " teams to create, deploy and optimize \n",
       "<mark class=\"entity\" style=\"background: #ddd; padding: 0.45em 0.6em; margin: 0 0.25em; line-height: 1; border-radius: 0.35em;\">\n",
       "    marketing\n",
       "    <span style=\"font-size: 0.8em; font-weight: bold; line-height: 1; border-radius: 0.35em; vertical-align: middle; margin-left: 0.5rem\">SKILL</span>\n",
       "</mark>\n",
       " initiatives for TV customers    Planned events, including tradeshows and vendor fairs, for clients and partners to attend    Built brand awareness and generated leads while managing internal and external \n",
       "<mark class=\"entity\" style=\"background: #ddd; padding: 0.45em 0.6em; margin: 0 0.25em; line-height: 1; border-radius: 0.35em;\">\n",
       "    marketing\n",
       "    <span style=\"font-size: 0.8em; font-weight: bold; line-height: 1; border-radius: 0.35em; vertical-align: middle; margin-left: 0.5rem\">SKILL</span>\n",
       "</mark>\n",
       " campaigns and programs    Proofread \n",
       "<mark class=\"entity\" style=\"background: #ddd; padding: 0.45em 0.6em; margin: 0 0.25em; line-height: 1; border-radius: 0.35em;\">\n",
       "    marketing\n",
       "    <span style=\"font-size: 0.8em; font-weight: bold; line-height: 1; border-radius: 0.35em; vertical-align: middle; margin-left: 0.5rem\">SKILL</span>\n",
       "</mark>\n",
       " \n",
       "<mark class=\"entity\" style=\"background: #ddd; padding: 0.45em 0.6em; margin: 0 0.25em; line-height: 1; border-radius: 0.35em;\">\n",
       "    documentation\n",
       "    <span style=\"font-size: 0.8em; font-weight: bold; line-height: 1; border-radius: 0.35em; vertical-align: middle; margin-left: 0.5rem\">SKILL</span>\n",
       "</mark>\n",
       " to check for spelling, grammar and \n",
       "<mark class=\"entity\" style=\"background: #ddd; padding: 0.45em 0.6em; margin: 0 0.25em; line-height: 1; border-radius: 0.35em;\">\n",
       "    syntax\n",
       "    <span style=\"font-size: 0.8em; font-weight: bold; line-height: 1; border-radius: 0.35em; vertical-align: middle; margin-left: 0.5rem\">SKILL</span>\n",
       "</mark>\n",
       " errors    Developed fresh, crisp content to diversify current promotional options       </div></span>"
      ],
      "text/plain": [
       "<IPython.core.display.HTML object>"
      ]
     },
     "metadata": {},
     "output_type": "display_data"
    }
   ],
   "source": [
    "sent = nlp(data[\"Resume_str\"].iloc[0])\n",
    "displacy.render(sent, style=\"ent\", jupyter=True)"
   ]
  },
  {
   "cell_type": "markdown",
   "id": "c5a31de4",
   "metadata": {},
   "source": [
    "# Dependency Parsing"
   ]
  },
  {
   "cell_type": "markdown",
   "id": "523d49d1",
   "metadata": {},
   "source": [
    "We can also visualize dependencies by just changing style to dep as shown below. We have also limited words to 10 which includes space too. Limiting the words will make it visualize the small chunk of data and if you want to see the dependency, you can remove the filter."
   ]
  },
  {
   "cell_type": "code",
   "execution_count": 48,
   "id": "0b5a6330",
   "metadata": {},
   "outputs": [
    {
     "data": {
      "text/html": [
       "<span class=\"tex2jax_ignore\"><svg xmlns=\"http://www.w3.org/2000/svg\" xmlns:xlink=\"http://www.w3.org/1999/xlink\" xml:lang=\"en\" id=\"ef8696b680f346198731db23125fb313-0\" class=\"displacy\" width=\"950\" height=\"317.0\" direction=\"ltr\" style=\"max-width: none; height: 317.0px; color: #000000; background: #ffffff; font-family: Arial; direction: ltr\">\n",
       "<text class=\"displacy-token\" fill=\"currentColor\" text-anchor=\"middle\" y=\"227.0\">\n",
       "    <tspan class=\"displacy-word\" fill=\"currentColor\" x=\"50\">         </tspan>\n",
       "    <tspan class=\"displacy-tag\" dy=\"2em\" fill=\"currentColor\" x=\"50\">SPACE</tspan>\n",
       "</text>\n",
       "\n",
       "<text class=\"displacy-token\" fill=\"currentColor\" text-anchor=\"middle\" y=\"227.0\">\n",
       "    <tspan class=\"displacy-word\" fill=\"currentColor\" x=\"140\">MULTIMEDIA</tspan>\n",
       "    <tspan class=\"displacy-tag\" dy=\"2em\" fill=\"currentColor\" x=\"140\">PROPN</tspan>\n",
       "</text>\n",
       "\n",
       "<text class=\"displacy-token\" fill=\"currentColor\" text-anchor=\"middle\" y=\"227.0\">\n",
       "    <tspan class=\"displacy-word\" fill=\"currentColor\" x=\"230\">SALES</tspan>\n",
       "    <tspan class=\"displacy-tag\" dy=\"2em\" fill=\"currentColor\" x=\"230\">NOUN</tspan>\n",
       "</text>\n",
       "\n",
       "<text class=\"displacy-token\" fill=\"currentColor\" text-anchor=\"middle\" y=\"227.0\">\n",
       "    <tspan class=\"displacy-word\" fill=\"currentColor\" x=\"320\">CONSULTANT</tspan>\n",
       "    <tspan class=\"displacy-tag\" dy=\"2em\" fill=\"currentColor\" x=\"320\">NOUN</tspan>\n",
       "</text>\n",
       "\n",
       "<text class=\"displacy-token\" fill=\"currentColor\" text-anchor=\"middle\" y=\"227.0\">\n",
       "    <tspan class=\"displacy-word\" fill=\"currentColor\" x=\"410\">        </tspan>\n",
       "    <tspan class=\"displacy-tag\" dy=\"2em\" fill=\"currentColor\" x=\"410\">SPACE</tspan>\n",
       "</text>\n",
       "\n",
       "<text class=\"displacy-token\" fill=\"currentColor\" text-anchor=\"middle\" y=\"227.0\">\n",
       "    <tspan class=\"displacy-word\" fill=\"currentColor\" x=\"500\">Professional</tspan>\n",
       "    <tspan class=\"displacy-tag\" dy=\"2em\" fill=\"currentColor\" x=\"500\">PROPN</tspan>\n",
       "</text>\n",
       "\n",
       "<text class=\"displacy-token\" fill=\"currentColor\" text-anchor=\"middle\" y=\"227.0\">\n",
       "    <tspan class=\"displacy-word\" fill=\"currentColor\" x=\"590\">Summary</tspan>\n",
       "    <tspan class=\"displacy-tag\" dy=\"2em\" fill=\"currentColor\" x=\"590\">PROPN</tspan>\n",
       "</text>\n",
       "\n",
       "<text class=\"displacy-token\" fill=\"currentColor\" text-anchor=\"middle\" y=\"227.0\">\n",
       "    <tspan class=\"displacy-word\" fill=\"currentColor\" x=\"680\">     </tspan>\n",
       "    <tspan class=\"displacy-tag\" dy=\"2em\" fill=\"currentColor\" x=\"680\">SPACE</tspan>\n",
       "</text>\n",
       "\n",
       "<text class=\"displacy-token\" fill=\"currentColor\" text-anchor=\"middle\" y=\"227.0\">\n",
       "    <tspan class=\"displacy-word\" fill=\"currentColor\" x=\"770\">Experienced</tspan>\n",
       "    <tspan class=\"displacy-tag\" dy=\"2em\" fill=\"currentColor\" x=\"770\">PROPN</tspan>\n",
       "</text>\n",
       "\n",
       "<text class=\"displacy-token\" fill=\"currentColor\" text-anchor=\"middle\" y=\"227.0\">\n",
       "    <tspan class=\"displacy-word\" fill=\"currentColor\" x=\"860\">Marketing</tspan>\n",
       "    <tspan class=\"displacy-tag\" dy=\"2em\" fill=\"currentColor\" x=\"860\">PROPN</tspan>\n",
       "</text>\n",
       "\n",
       "<g class=\"displacy-arrow\">\n",
       "    <path class=\"displacy-arc\" id=\"arrow-ef8696b680f346198731db23125fb313-0-0\" stroke-width=\"2px\" d=\"M70,182.0 C70,137.0 125.0,137.0 125.0,182.0\" fill=\"none\" stroke=\"currentColor\"/>\n",
       "    <text dy=\"1.25em\" style=\"font-size: 0.8em; letter-spacing: 1px\">\n",
       "        <textPath xlink:href=\"#arrow-ef8696b680f346198731db23125fb313-0-0\" class=\"displacy-label\" startOffset=\"50%\" side=\"left\" fill=\"currentColor\" text-anchor=\"middle\">dep</textPath>\n",
       "    </text>\n",
       "    <path class=\"displacy-arrowhead\" d=\"M70,184.0 L62,172.0 78,172.0\" fill=\"currentColor\"/>\n",
       "</g>\n",
       "\n",
       "<g class=\"displacy-arrow\">\n",
       "    <path class=\"displacy-arc\" id=\"arrow-ef8696b680f346198731db23125fb313-0-1\" stroke-width=\"2px\" d=\"M160,182.0 C160,92.0 310.0,92.0 310.0,182.0\" fill=\"none\" stroke=\"currentColor\"/>\n",
       "    <text dy=\"1.25em\" style=\"font-size: 0.8em; letter-spacing: 1px\">\n",
       "        <textPath xlink:href=\"#arrow-ef8696b680f346198731db23125fb313-0-1\" class=\"displacy-label\" startOffset=\"50%\" side=\"left\" fill=\"currentColor\" text-anchor=\"middle\">amod</textPath>\n",
       "    </text>\n",
       "    <path class=\"displacy-arrowhead\" d=\"M160,184.0 L152,172.0 168,172.0\" fill=\"currentColor\"/>\n",
       "</g>\n",
       "\n",
       "<g class=\"displacy-arrow\">\n",
       "    <path class=\"displacy-arc\" id=\"arrow-ef8696b680f346198731db23125fb313-0-2\" stroke-width=\"2px\" d=\"M250,182.0 C250,137.0 305.0,137.0 305.0,182.0\" fill=\"none\" stroke=\"currentColor\"/>\n",
       "    <text dy=\"1.25em\" style=\"font-size: 0.8em; letter-spacing: 1px\">\n",
       "        <textPath xlink:href=\"#arrow-ef8696b680f346198731db23125fb313-0-2\" class=\"displacy-label\" startOffset=\"50%\" side=\"left\" fill=\"currentColor\" text-anchor=\"middle\">compound</textPath>\n",
       "    </text>\n",
       "    <path class=\"displacy-arrowhead\" d=\"M250,184.0 L242,172.0 258,172.0\" fill=\"currentColor\"/>\n",
       "</g>\n",
       "\n",
       "<g class=\"displacy-arrow\">\n",
       "    <path class=\"displacy-arc\" id=\"arrow-ef8696b680f346198731db23125fb313-0-3\" stroke-width=\"2px\" d=\"M340,182.0 C340,137.0 395.0,137.0 395.0,182.0\" fill=\"none\" stroke=\"currentColor\"/>\n",
       "    <text dy=\"1.25em\" style=\"font-size: 0.8em; letter-spacing: 1px\">\n",
       "        <textPath xlink:href=\"#arrow-ef8696b680f346198731db23125fb313-0-3\" class=\"displacy-label\" startOffset=\"50%\" side=\"left\" fill=\"currentColor\" text-anchor=\"middle\">dep</textPath>\n",
       "    </text>\n",
       "    <path class=\"displacy-arrowhead\" d=\"M395.0,184.0 L403.0,172.0 387.0,172.0\" fill=\"currentColor\"/>\n",
       "</g>\n",
       "\n",
       "<g class=\"displacy-arrow\">\n",
       "    <path class=\"displacy-arc\" id=\"arrow-ef8696b680f346198731db23125fb313-0-4\" stroke-width=\"2px\" d=\"M520,182.0 C520,137.0 575.0,137.0 575.0,182.0\" fill=\"none\" stroke=\"currentColor\"/>\n",
       "    <text dy=\"1.25em\" style=\"font-size: 0.8em; letter-spacing: 1px\">\n",
       "        <textPath xlink:href=\"#arrow-ef8696b680f346198731db23125fb313-0-4\" class=\"displacy-label\" startOffset=\"50%\" side=\"left\" fill=\"currentColor\" text-anchor=\"middle\">compound</textPath>\n",
       "    </text>\n",
       "    <path class=\"displacy-arrowhead\" d=\"M520,184.0 L512,172.0 528,172.0\" fill=\"currentColor\"/>\n",
       "</g>\n",
       "\n",
       "<g class=\"displacy-arrow\">\n",
       "    <path class=\"displacy-arc\" id=\"arrow-ef8696b680f346198731db23125fb313-0-5\" stroke-width=\"2px\" d=\"M610,182.0 C610,92.0 760.0,92.0 760.0,182.0\" fill=\"none\" stroke=\"currentColor\"/>\n",
       "    <text dy=\"1.25em\" style=\"font-size: 0.8em; letter-spacing: 1px\">\n",
       "        <textPath xlink:href=\"#arrow-ef8696b680f346198731db23125fb313-0-5\" class=\"displacy-label\" startOffset=\"50%\" side=\"left\" fill=\"currentColor\" text-anchor=\"middle\">compound</textPath>\n",
       "    </text>\n",
       "    <path class=\"displacy-arrowhead\" d=\"M610,184.0 L602,172.0 618,172.0\" fill=\"currentColor\"/>\n",
       "</g>\n",
       "\n",
       "<g class=\"displacy-arrow\">\n",
       "    <path class=\"displacy-arc\" id=\"arrow-ef8696b680f346198731db23125fb313-0-6\" stroke-width=\"2px\" d=\"M610,182.0 C610,137.0 665.0,137.0 665.0,182.0\" fill=\"none\" stroke=\"currentColor\"/>\n",
       "    <text dy=\"1.25em\" style=\"font-size: 0.8em; letter-spacing: 1px\">\n",
       "        <textPath xlink:href=\"#arrow-ef8696b680f346198731db23125fb313-0-6\" class=\"displacy-label\" startOffset=\"50%\" side=\"left\" fill=\"currentColor\" text-anchor=\"middle\">dep</textPath>\n",
       "    </text>\n",
       "    <path class=\"displacy-arrowhead\" d=\"M665.0,184.0 L673.0,172.0 657.0,172.0\" fill=\"currentColor\"/>\n",
       "</g>\n",
       "\n",
       "<g class=\"displacy-arrow\">\n",
       "    <path class=\"displacy-arc\" id=\"arrow-ef8696b680f346198731db23125fb313-0-7\" stroke-width=\"2px\" d=\"M340,182.0 C340,47.0 765.0,47.0 765.0,182.0\" fill=\"none\" stroke=\"currentColor\"/>\n",
       "    <text dy=\"1.25em\" style=\"font-size: 0.8em; letter-spacing: 1px\">\n",
       "        <textPath xlink:href=\"#arrow-ef8696b680f346198731db23125fb313-0-7\" class=\"displacy-label\" startOffset=\"50%\" side=\"left\" fill=\"currentColor\" text-anchor=\"middle\">dep</textPath>\n",
       "    </text>\n",
       "    <path class=\"displacy-arrowhead\" d=\"M765.0,184.0 L773.0,172.0 757.0,172.0\" fill=\"currentColor\"/>\n",
       "</g>\n",
       "\n",
       "<g class=\"displacy-arrow\">\n",
       "    <path class=\"displacy-arc\" id=\"arrow-ef8696b680f346198731db23125fb313-0-8\" stroke-width=\"2px\" d=\"M340,182.0 C340,2.0 860.0,2.0 860.0,182.0\" fill=\"none\" stroke=\"currentColor\"/>\n",
       "    <text dy=\"1.25em\" style=\"font-size: 0.8em; letter-spacing: 1px\">\n",
       "        <textPath xlink:href=\"#arrow-ef8696b680f346198731db23125fb313-0-8\" class=\"displacy-label\" startOffset=\"50%\" side=\"left\" fill=\"currentColor\" text-anchor=\"middle\">dep</textPath>\n",
       "    </text>\n",
       "    <path class=\"displacy-arrowhead\" d=\"M860.0,184.0 L868.0,172.0 852.0,172.0\" fill=\"currentColor\"/>\n",
       "</g>\n",
       "</svg></span>"
      ],
      "text/plain": [
       "<IPython.core.display.HTML object>"
      ]
     },
     "metadata": {},
     "output_type": "display_data"
    }
   ],
   "source": [
    "displacy.render(sent[0:10], style=\"dep\", jupyter=True, options={\"distance\":90})"
   ]
  },
  {
   "cell_type": "markdown",
   "id": "eac84c2e",
   "metadata": {},
   "source": [
    "# Custom Entity Recognition"
   ]
  },
  {
   "cell_type": "markdown",
   "id": "b9935b5c",
   "metadata": {},
   "source": [
    "In our case, we have added a new entity called SKILL and is displayed in gray color. I was not impressed by colors and I also wanted to add another entity called Job Description so I started experimenting with various parameters within `displace.\n",
    "\n",
    "•Adding Job-Category into entity ruler.\n",
    "\n",
    "•Adding custom colors to all categories.\n",
    "\n",
    "•Adding gradient colors to SKILL and Job-Category\n",
    "\n",
    "You can see the result below as the new highlighted texts look beautiful."
   ]
  },
  {
   "cell_type": "code",
   "execution_count": 49,
   "id": "4e29326e",
   "metadata": {},
   "outputs": [],
   "source": [
    "patterns = df.Category.unique()\n",
    "for a in patterns:\n",
    "    ruler.add_patterns([{\"label\":\"Job-Category\",\"pattern\": a}])"
   ]
  },
  {
   "cell_type": "code",
   "execution_count": 50,
   "id": "d41e64b4",
   "metadata": {
    "scrolled": false
   },
   "outputs": [
    {
     "data": {
      "text/html": [
       "<span class=\"tex2jax_ignore\"><div class=\"entities\" style=\"line-height: 2.5; direction: ltr\">         \n",
       "<mark class=\"entity\" style=\"background: #ffd966; padding: 0.45em 0.6em; margin: 0 0.25em; line-height: 1; border-radius: 0.35em;\">\n",
       "    INTERIOR\n",
       "    <span style=\"font-size: 0.8em; font-weight: bold; line-height: 1; border-radius: 0.35em; vertical-align: middle; margin-left: 0.5rem\">ORG</span>\n",
       "</mark>\n",
       " \n",
       "<mark class=\"entity\" style=\"background: linear-gradient(90deg, #aa9cfc, #fc9ce7); padding: 0.45em 0.6em; margin: 0 0.25em; line-height: 1; border-radius: 0.35em;\">\n",
       "    DESIGNER\n",
       "    <span style=\"font-size: 0.8em; font-weight: bold; line-height: 1; border-radius: 0.35em; vertical-align: middle; margin-left: 0.5rem\">Job-Category</span>\n",
       "</mark>\n",
       "       Summary     Successful \n",
       "<mark class=\"entity\" style=\"background: linear-gradient(90deg, #9BE15D, #00E3AE); padding: 0.45em 0.6em; margin: 0 0.25em; line-height: 1; border-radius: 0.35em;\">\n",
       "    Design\n",
       "    <span style=\"font-size: 0.8em; font-weight: bold; line-height: 1; border-radius: 0.35em; vertical-align: middle; margin-left: 0.5rem\">SKILL</span>\n",
       "</mark>\n",
       " Consultant with over \n",
       "<mark class=\"entity\" style=\"background: #c27ba0; padding: 0.45em 0.6em; margin: 0 0.25em; line-height: 1; border-radius: 0.35em;\">\n",
       "    26 years\n",
       "    <span style=\"font-size: 0.8em; font-weight: bold; line-height: 1; border-radius: 0.35em; vertical-align: middle; margin-left: 0.5rem\">DATE</span>\n",
       "</mark>\n",
       " of experience.  Who manages large-scale interior and exterior projects from low to high-end residential homes.  Capable Interior Designer equipped with a can-do attitude who leverages the valuable \n",
       "<mark class=\"entity\" style=\"background: linear-gradient(90deg, #9BE15D, #00E3AE); padding: 0.45em 0.6em; margin: 0 0.25em; line-height: 1; border-radius: 0.35em;\">\n",
       "    design\n",
       "    <span style=\"font-size: 0.8em; font-weight: bold; line-height: 1; border-radius: 0.35em; vertical-align: middle; margin-left: 0.5rem\">SKILL</span>\n",
       "</mark>\n",
       " insight gained from past creations.  Enthusiastic and confident demeanor enables customers to feel at ease with the \n",
       "<mark class=\"entity\" style=\"background: linear-gradient(90deg, #9BE15D, #00E3AE); padding: 0.45em 0.6em; margin: 0 0.25em; line-height: 1; border-radius: 0.35em;\">\n",
       "    design\n",
       "    <span style=\"font-size: 0.8em; font-weight: bold; line-height: 1; border-radius: 0.35em; vertical-align: middle; margin-left: 0.5rem\">SKILL</span>\n",
       "</mark>\n",
       " process.  Exhibits sophisticated taste and a unique \n",
       "<mark class=\"entity\" style=\"background: linear-gradient(90deg, #9BE15D, #00E3AE); padding: 0.45em 0.6em; margin: 0 0.25em; line-height: 1; border-radius: 0.35em;\">\n",
       "    design\n",
       "    <span style=\"font-size: 0.8em; font-weight: bold; line-height: 1; border-radius: 0.35em; vertical-align: middle; margin-left: 0.5rem\">SKILL</span>\n",
       "</mark>\n",
       " style.       Highlights         Concept development  Space planning  Color and \n",
       "<mark class=\"entity\" style=\"background: linear-gradient(90deg, #9BE15D, #00E3AE); padding: 0.45em 0.6em; margin: 0 0.25em; line-height: 1; border-radius: 0.35em;\">\n",
       "    material\n",
       "    <span style=\"font-size: 0.8em; font-weight: bold; line-height: 1; border-radius: 0.35em; vertical-align: middle; margin-left: 0.5rem\">SKILL</span>\n",
       "</mark>\n",
       " application  Strong leader      Product specifications  \n",
       "<mark class=\"entity\" style=\"background: #ffd966; padding: 0.45em 0.6em; margin: 0 0.25em; line-height: 1; border-radius: 0.35em;\">\n",
       "    Interior\n",
       "    <span style=\"font-size: 0.8em; font-weight: bold; line-height: 1; border-radius: 0.35em; vertical-align: middle; margin-left: 0.5rem\">ORG</span>\n",
       "</mark>\n",
       " architectural detailing  Proficient with furniture systems            Accomplishments      Successful Interior \n",
       "<mark class=\"entity\" style=\"background: linear-gradient(90deg, #9BE15D, #00E3AE); padding: 0.45em 0.6em; margin: 0 0.25em; line-height: 1; border-radius: 0.35em;\">\n",
       "    Design\n",
       "    <span style=\"font-size: 0.8em; font-weight: bold; line-height: 1; border-radius: 0.35em; vertical-align: middle; margin-left: 0.5rem\">SKILL</span>\n",
       "</mark>\n",
       " Consultant for \n",
       "<mark class=\"entity\" style=\"background: #c27ba0; padding: 0.45em 0.6em; margin: 0 0.25em; line-height: 1; border-radius: 0.35em;\">\n",
       "    27 years\n",
       "    <span style=\"font-size: 0.8em; font-weight: bold; line-height: 1; border-radius: 0.35em; vertical-align: middle; margin-left: 0.5rem\">DATE</span>\n",
       "</mark>\n",
       ".  Managed and supervised large-scale remodeling of.  interior and exterior projects.  Including average to high-end residential homes and historical homes .        Experience     07/2007   to   Current     Interior Designer    Company Name   -   City  ,   State      Worked with Dr \n",
       "<mark class=\"entity\" style=\"background: #f9cb9c; padding: 0.45em 0.6em; margin: 0 0.25em; line-height: 1; border-radius: 0.35em;\">\n",
       "    Vettese\n",
       "    <span style=\"font-size: 0.8em; font-weight: bold; line-height: 1; border-radius: 0.35em; vertical-align: middle; margin-left: 0.5rem\">PRODUCT</span>\n",
       "</mark>\n",
       " for \n",
       "<mark class=\"entity\" style=\"background: #c27ba0; padding: 0.45em 0.6em; margin: 0 0.25em; line-height: 1; border-radius: 0.35em;\">\n",
       "    over 18 years\n",
       "    <span style=\"font-size: 0.8em; font-weight: bold; line-height: 1; border-radius: 0.35em; vertical-align: middle; margin-left: 0.5rem\">DATE</span>\n",
       "</mark>\n",
       ".  I have done over 9 homes in the \n",
       "<mark class=\"entity\" style=\"background: #9fc5e8; padding: 0.45em 0.6em; margin: 0 0.25em; line-height: 1; border-radius: 0.35em;\">\n",
       "    US\n",
       "    <span style=\"font-size: 0.8em; font-weight: bold; line-height: 1; border-radius: 0.35em; vertical-align: middle; margin-left: 0.5rem\">GPE</span>\n",
       "</mark>\n",
       " and \n",
       "<mark class=\"entity\" style=\"background: #9fc5e8; padding: 0.45em 0.6em; margin: 0 0.25em; line-height: 1; border-radius: 0.35em;\">\n",
       "    Mexico\n",
       "    <span style=\"font-size: 0.8em; font-weight: bold; line-height: 1; border-radius: 0.35em; vertical-align: middle; margin-left: 0.5rem\">GPE</span>\n",
       "</mark>\n",
       ".  Produced content for \n",
       "<mark class=\"entity\" style=\"background: linear-gradient(90deg, #9BE15D, #00E3AE); padding: 0.45em 0.6em; margin: 0 0.25em; line-height: 1; border-radius: 0.35em;\">\n",
       "    material\n",
       "    <span style=\"font-size: 0.8em; font-weight: bold; line-height: 1; border-radius: 0.35em; vertical-align: middle; margin-left: 0.5rem\">SKILL</span>\n",
       "</mark>\n",
       " boards and \n",
       "<mark class=\"entity\" style=\"background: linear-gradient(90deg, #9BE15D, #00E3AE); padding: 0.45em 0.6em; margin: 0 0.25em; line-height: 1; border-radius: 0.35em;\">\n",
       "    specification\n",
       "    <span style=\"font-size: 0.8em; font-weight: bold; line-height: 1; border-radius: 0.35em; vertical-align: middle; margin-left: 0.5rem\">SKILL</span>\n",
       "</mark>\n",
       " binders for presentation and construction.Successfully assisted clients in choosing furnishings that were consistent with their preferences and budget.Developed interior \n",
       "<mark class=\"entity\" style=\"background: linear-gradient(90deg, #9BE15D, #00E3AE); padding: 0.45em 0.6em; margin: 0 0.25em; line-height: 1; border-radius: 0.35em;\">\n",
       "    design\n",
       "    <span style=\"font-size: 0.8em; font-weight: bold; line-height: 1; border-radius: 0.35em; vertical-align: middle; margin-left: 0.5rem\">SKILL</span>\n",
       "</mark>\n",
       " concepts and prepared interior systems and finishes.Reviewed project costs, budgets and adherence to schedules.Visited home sites when necessary to assess and fulfill customer needs.Ensured that the project vision and \n",
       "<mark class=\"entity\" style=\"background: linear-gradient(90deg, #9BE15D, #00E3AE); padding: 0.45em 0.6em; margin: 0 0.25em; line-height: 1; border-radius: 0.35em;\">\n",
       "    design\n",
       "    <span style=\"font-size: 0.8em; font-weight: bold; line-height: 1; border-radius: 0.35em; vertical-align: middle; margin-left: 0.5rem\">SKILL</span>\n",
       "</mark>\n",
       " intent were reflected.         08/2012       Company Name   -   City  ,   State      Maintained accurate specifications for each project.Ensured that the project vision and \n",
       "<mark class=\"entity\" style=\"background: linear-gradient(90deg, #9BE15D, #00E3AE); padding: 0.45em 0.6em; margin: 0 0.25em; line-height: 1; border-radius: 0.35em;\">\n",
       "    design\n",
       "    <span style=\"font-size: 0.8em; font-weight: bold; line-height: 1; border-radius: 0.35em; vertical-align: middle; margin-left: 0.5rem\">SKILL</span>\n",
       "</mark>\n",
       " intent were reflected.Visited home sites when necessary to assess and fulfill customer needs.         01/2012   to   07/2013     International Representative    Company Name   -   City  ,   \n",
       "<mark class=\"entity\" style=\"background: #ffd966; padding: 0.45em 0.6em; margin: 0 0.25em; line-height: 1; border-radius: 0.35em;\">\n",
       "    State      Introduced\n",
       "    <span style=\"font-size: 0.8em; font-weight: bold; line-height: 1; border-radius: 0.35em; vertical-align: middle; margin-left: 0.5rem\">ORG</span>\n",
       "</mark>\n",
       " sustainable homes to \n",
       "<mark class=\"entity\" style=\"background: #674ea7; padding: 0.45em 0.6em; margin: 0 0.25em; line-height: 1; border-radius: 0.35em;\">\n",
       "    third\n",
       "    <span style=\"font-size: 0.8em; font-weight: bold; line-height: 1; border-radius: 0.35em; vertical-align: middle; margin-left: 0.5rem\">ORDINAL</span>\n",
       "</mark>\n",
       " world countries.  Trained in off-the- grid home construction.  Created professional presentations to creatively communicate \n",
       "<mark class=\"entity\" style=\"background: linear-gradient(90deg, #9BE15D, #00E3AE); padding: 0.45em 0.6em; margin: 0 0.25em; line-height: 1; border-radius: 0.35em;\">\n",
       "    design\n",
       "    <span style=\"font-size: 0.8em; font-weight: bold; line-height: 1; border-radius: 0.35em; vertical-align: middle; margin-left: 0.5rem\">SKILL</span>\n",
       "</mark>\n",
       " intent and direction.          Education     \n",
       "<mark class=\"entity\" style=\"background: #c27ba0; padding: 0.45em 0.6em; margin: 0 0.25em; line-height: 1; border-radius: 0.35em;\">\n",
       "    1987\n",
       "    <span style=\"font-size: 0.8em; font-weight: bold; line-height: 1; border-radius: 0.35em; vertical-align: middle; margin-left: 0.5rem\">DATE</span>\n",
       "</mark>\n",
       "     Associate of Arts  :   Arts    Roosevelt University   -   City  ,   State  ,   \n",
       "<mark class=\"entity\" style=\"background: #ffd966; padding: 0.45em 0.6em; margin: 0 0.25em; line-height: 1; border-radius: 0.35em;\">\n",
       "    USA    Arts\n",
       "    <span style=\"font-size: 0.8em; font-weight: bold; line-height: 1; border-radius: 0.35em; vertical-align: middle; margin-left: 0.5rem\">ORG</span>\n",
       "</mark>\n",
       "       \n",
       "<mark class=\"entity\" style=\"background: #c27ba0; padding: 0.45em 0.6em; margin: 0 0.25em; line-height: 1; border-radius: 0.35em;\">\n",
       "    1985\n",
       "    <span style=\"font-size: 0.8em; font-weight: bold; line-height: 1; border-radius: 0.35em; vertical-align: middle; margin-left: 0.5rem\">DATE</span>\n",
       "</mark>\n",
       "     High School Diploma  :   General Education    Calvin Coolidge High School   -   City  ,   State  ,   USA            Skills      Budgets,  color, content, clients, direction. Graphic, interior \n",
       "<mark class=\"entity\" style=\"background: linear-gradient(90deg, #9BE15D, #00E3AE); padding: 0.45em 0.6em; margin: 0 0.25em; line-height: 1; border-radius: 0.35em;\">\n",
       "    design\n",
       "    <span style=\"font-size: 0.8em; font-weight: bold; line-height: 1; border-radius: 0.35em; vertical-align: middle; margin-left: 0.5rem\">SKILL</span>\n",
       "</mark>\n",
       ", presentations, space planning, \n",
       "<mark class=\"entity\" style=\"background: linear-gradient(90deg, #9BE15D, #00E3AE); padding: 0.45em 0.6em; margin: 0 0.25em; line-height: 1; border-radius: 0.35em;\">\n",
       "    specification\n",
       "    <span style=\"font-size: 0.8em; font-weight: bold; line-height: 1; border-radius: 0.35em; vertical-align: middle; margin-left: 0.5rem\">SKILL</span>\n",
       "</mark>\n",
       ",  and vision.    </div></span>"
      ],
      "text/plain": [
       "<IPython.core.display.HTML object>"
      ]
     },
     "metadata": {},
     "output_type": "display_data"
    }
   ],
   "source": [
    "# options=[{\"ents\": \"Job-Category\", \"colors\": \"#ff3232\"},{\"ents\": \"SKILL\", \"colors\": \"#56c426\"}]\n",
    "colors = {\n",
    "    \"Job-Category\": \"linear-gradient(90deg, #aa9cfc, #fc9ce7)\",\n",
    "    \"SKILL\": \"linear-gradient(90deg, #9BE15D, #00E3AE)\",\n",
    "    \"ORG\": \"#ffd966\",\n",
    "    \"PERSON\": \"#e06666\",\n",
    "    \"GPE\": \"#9fc5e8\",\n",
    "    \"DATE\": \"#c27ba0\",\n",
    "    \"ORDINAL\": \"#674ea7\",\n",
    "    \"PRODUCT\": \"#f9cb9c\",\n",
    "}\n",
    "options = {\n",
    "    \"ents\": [\n",
    "        \"Job-Category\",\n",
    "        \"SKILL\",\n",
    "        \"ORG\",\n",
    "        \"PERSON\",\n",
    "        \"GPE\",\n",
    "        \"DATE\",\n",
    "        \"ORDINAL\",\n",
    "        \"PRODUCT\",\n",
    "    ],\n",
    "    \"colors\": colors,\n",
    "}\n",
    "sent = nlp(data[\"Resume_str\"].iloc[5])\n",
    "displacy.render(sent, style=\"ent\", jupyter=True, options=options)"
   ]
  },
  {
   "cell_type": "markdown",
   "id": "26ee67f7",
   "metadata": {},
   "source": [
    "# Your Resume Analysis"
   ]
  },
  {
   "cell_type": "code",
   "execution_count": 51,
   "id": "ea853ee6",
   "metadata": {},
   "outputs": [],
   "source": [
    "input_resume = \"Harsh S. Patel Data Scientist I am a certified data scientist professional, who loves building machine learning models and blogs about the latest AI technologies. I am currently testing AI Products at PEC-PITC, which later gets approved for human trials. abidaliawan@tutamail.com +923456855126 Islamabad, Pakistan abidaliawan.me WORK EXPERIENCE Data Scientist Pakistan Innovation and Testing Center - PEC 04/2021 - Present, Islamabad, Pakistan Redesigned data of engineers that were mostly scattered and unavailable. Designed dashboard and data analysis report to help higher management make better decisions. Accessibility of key information has created a new culture of making data-driven decisions. Contact: Ali Raza Asif - darkslayerraza10@gmail.com Data Scientist Freelancing/Kaggle 11/2020 - Present, Islamabad, Pakistan Engineered a healthcare system. Used machine learning to detect some of the common decisions. The project has paved the way for others to use new techniques to get better results. Participated in Kaggle machine learning competitions. Learned new techniques to get a better score and finally got to 1 percent rank. Researcher / Event Organizer CREDIT 02/2017 - 07/2017, Kuala Lumpur, Malaysia Marketing for newly build research lab. Organized technical events and successfully invited the multiple company's CEO for talks. Reduced the gap between industries and educational institutes. Research on new development in the IoT sector. Created research proposal for funding. Investigated the new communication protocol for IoT devices. Contact: Dr. Tan Chye Cheah - dr.chyecheah.t@apu.edu.my EDUCATION MSc in Technology Management Staffordshire University 11/2015 - 04/2017, Postgraduate with Distinction Challenges in Implementing IoT-enabled Smart cities in Malaysia. Bachelors Electrical Telecommunication Engineering COMSATS Institute of Information Technology, Islamabad 08/2010 - 01/2014, CGPA: 3.09 Networking Satellite communications Programming/ Matlab Telecommunication Engineering SKILLS Designing Leadership Media/Marketing R/Python SQL Tableau NLP Data Analysis Machine learning Deep learning Webapp/Cloud Feature Engineering Ensembling Time Series Technology Management ACHIEVEMENTS 98th Hungry Geese Simulation Competition (08/2021) 2nd in Covid-19 vaccinations around the world (07/2021) 8th in Automatic Speech Recognition in WOLOF (06/2021) Top 10 in WiDS Datathon. (03/2021) 40th / 622 in MagNet: Model the Geomagnetic Field Hosted by NOAA (02/2021) 18th in Rock, Paper, Scissors/Designing AI Agent Competition. (02/2021) PROJECTS Goodreads Profile Analysis WebApp (09/2021) Data Analysis Web Scraping XLM Interactive Visualization Contributed in orchest.io (08/2021) Testing and Debuging Technical Article Proposing new was to Improve ML pipelines World Vaccine Update System (06/2021) Used sqlite3 for database Automated system for daily update the Kaggle DB and Analysis Interactive dashboard mRNA-Vaccine-Degradation-Prediction (06/2021) Explore our dataset and then preprocessed sequence, structure, and predicted loop type features Train deep learning GRU model Trip Advisor Data Analysis/ML (04/2021) Preprocessing Data, Exploratory Data analysis, Word clouds. Feature Engineering, Text processing. BiLSTM Model for predicting rating, evaluation, model performance. Jane Street Market Prediction (03/2021) EDA, Feature Engineering, experimenting with hyperparameters. Ensembling: Resnet, NN Embeddings, TF Simple NN model. Using simple MLP pytorch model. Achievements/Tasks Achievements/Tasks Achievements/Tasks Thesis Courses\""
   ]
  },
  {
   "cell_type": "code",
   "execution_count": 52,
   "id": "45a6c094",
   "metadata": {},
   "outputs": [
    {
     "data": {
      "text/html": [
       "<span class=\"tex2jax_ignore\"><div class=\"entities\" style=\"line-height: 2.5; direction: ltr\">\n",
       "<mark class=\"entity\" style=\"background: #e06666; padding: 0.45em 0.6em; margin: 0 0.25em; line-height: 1; border-radius: 0.35em;\">\n",
       "    Harsh S. Patel Data\n",
       "    <span style=\"font-size: 0.8em; font-weight: bold; line-height: 1; border-radius: 0.35em; vertical-align: middle; margin-left: 0.5rem\">PERSON</span>\n",
       "</mark>\n",
       " Scientist I am a certified data scientist professional, who loves building \n",
       "<mark class=\"entity\" style=\"background: linear-gradient(90deg, #9BE15D, #00E3AE); padding: 0.45em 0.6em; margin: 0 0.25em; line-height: 1; border-radius: 0.35em;\">\n",
       "    machine learning\n",
       "    <span style=\"font-size: 0.8em; font-weight: bold; line-height: 1; border-radius: 0.35em; vertical-align: middle; margin-left: 0.5rem\">SKILL</span>\n",
       "</mark>\n",
       " models and blogs about the latest \n",
       "<mark class=\"entity\" style=\"background: #ffd966; padding: 0.45em 0.6em; margin: 0 0.25em; line-height: 1; border-radius: 0.35em;\">\n",
       "    AI\n",
       "    <span style=\"font-size: 0.8em; font-weight: bold; line-height: 1; border-radius: 0.35em; vertical-align: middle; margin-left: 0.5rem\">ORG</span>\n",
       "</mark>\n",
       " technologies. I am currently \n",
       "<mark class=\"entity\" style=\"background: linear-gradient(90deg, #9BE15D, #00E3AE); padding: 0.45em 0.6em; margin: 0 0.25em; line-height: 1; border-radius: 0.35em;\">\n",
       "    testing\n",
       "    <span style=\"font-size: 0.8em; font-weight: bold; line-height: 1; border-radius: 0.35em; vertical-align: middle; margin-left: 0.5rem\">SKILL</span>\n",
       "</mark>\n",
       " \n",
       "<mark class=\"entity\" style=\"background: #ffd966; padding: 0.45em 0.6em; margin: 0 0.25em; line-height: 1; border-radius: 0.35em;\">\n",
       "    AI Products\n",
       "    <span style=\"font-size: 0.8em; font-weight: bold; line-height: 1; border-radius: 0.35em; vertical-align: middle; margin-left: 0.5rem\">ORG</span>\n",
       "</mark>\n",
       " at \n",
       "<mark class=\"entity\" style=\"background: #ffd966; padding: 0.45em 0.6em; margin: 0 0.25em; line-height: 1; border-radius: 0.35em;\">\n",
       "    PEC-PITC\n",
       "    <span style=\"font-size: 0.8em; font-weight: bold; line-height: 1; border-radius: 0.35em; vertical-align: middle; margin-left: 0.5rem\">ORG</span>\n",
       "</mark>\n",
       ", which later gets approved for human trials. abidaliawan@tutamail.com +923456855126 \n",
       "<mark class=\"entity\" style=\"background: #9fc5e8; padding: 0.45em 0.6em; margin: 0 0.25em; line-height: 1; border-radius: 0.35em;\">\n",
       "    Islamabad\n",
       "    <span style=\"font-size: 0.8em; font-weight: bold; line-height: 1; border-radius: 0.35em; vertical-align: middle; margin-left: 0.5rem\">GPE</span>\n",
       "</mark>\n",
       ", \n",
       "<mark class=\"entity\" style=\"background: #9fc5e8; padding: 0.45em 0.6em; margin: 0 0.25em; line-height: 1; border-radius: 0.35em;\">\n",
       "    Pakistan\n",
       "    <span style=\"font-size: 0.8em; font-weight: bold; line-height: 1; border-radius: 0.35em; vertical-align: middle; margin-left: 0.5rem\">GPE</span>\n",
       "</mark>\n",
       " abidaliawan.me WORK EXPERIENCE Data Scientist Pakistan Innovation and \n",
       "<mark class=\"entity\" style=\"background: linear-gradient(90deg, #9BE15D, #00E3AE); padding: 0.45em 0.6em; margin: 0 0.25em; line-height: 1; border-radius: 0.35em;\">\n",
       "    Testing\n",
       "    <span style=\"font-size: 0.8em; font-weight: bold; line-height: 1; border-radius: 0.35em; vertical-align: middle; margin-left: 0.5rem\">SKILL</span>\n",
       "</mark>\n",
       " Center - PEC 04/2021 - Present, \n",
       "<mark class=\"entity\" style=\"background: #9fc5e8; padding: 0.45em 0.6em; margin: 0 0.25em; line-height: 1; border-radius: 0.35em;\">\n",
       "    Islamabad\n",
       "    <span style=\"font-size: 0.8em; font-weight: bold; line-height: 1; border-radius: 0.35em; vertical-align: middle; margin-left: 0.5rem\">GPE</span>\n",
       "</mark>\n",
       ", \n",
       "<mark class=\"entity\" style=\"background: #9fc5e8; padding: 0.45em 0.6em; margin: 0 0.25em; line-height: 1; border-radius: 0.35em;\">\n",
       "    Pakistan\n",
       "    <span style=\"font-size: 0.8em; font-weight: bold; line-height: 1; border-radius: 0.35em; vertical-align: middle; margin-left: 0.5rem\">GPE</span>\n",
       "</mark>\n",
       " Redesigned data of engineers that were mostly scattered and unavailable. Designed dashboard and \n",
       "<mark class=\"entity\" style=\"background: linear-gradient(90deg, #9BE15D, #00E3AE); padding: 0.45em 0.6em; margin: 0 0.25em; line-height: 1; border-radius: 0.35em;\">\n",
       "    data analysis\n",
       "    <span style=\"font-size: 0.8em; font-weight: bold; line-height: 1; border-radius: 0.35em; vertical-align: middle; margin-left: 0.5rem\">SKILL</span>\n",
       "</mark>\n",
       " report to help higher management make better decisions. Accessibility of key information has created a new culture of making data-driven decisions. Contact: \n",
       "<mark class=\"entity\" style=\"background: #e06666; padding: 0.45em 0.6em; margin: 0 0.25em; line-height: 1; border-radius: 0.35em;\">\n",
       "    Ali Raza Asif - darkslayerraza10@gmail.com\n",
       "    <span style=\"font-size: 0.8em; font-weight: bold; line-height: 1; border-radius: 0.35em; vertical-align: middle; margin-left: 0.5rem\">PERSON</span>\n",
       "</mark>\n",
       " Data Scientist Freelancing/Kaggle 11/2020 - Present, \n",
       "<mark class=\"entity\" style=\"background: #9fc5e8; padding: 0.45em 0.6em; margin: 0 0.25em; line-height: 1; border-radius: 0.35em;\">\n",
       "    Islamabad\n",
       "    <span style=\"font-size: 0.8em; font-weight: bold; line-height: 1; border-radius: 0.35em; vertical-align: middle; margin-left: 0.5rem\">GPE</span>\n",
       "</mark>\n",
       ", \n",
       "<mark class=\"entity\" style=\"background: #ffd966; padding: 0.45em 0.6em; margin: 0 0.25em; line-height: 1; border-radius: 0.35em;\">\n",
       "    Pakistan Engineered\n",
       "    <span style=\"font-size: 0.8em; font-weight: bold; line-height: 1; border-radius: 0.35em; vertical-align: middle; margin-left: 0.5rem\">ORG</span>\n",
       "</mark>\n",
       " a healthcare system. Used \n",
       "<mark class=\"entity\" style=\"background: linear-gradient(90deg, #9BE15D, #00E3AE); padding: 0.45em 0.6em; margin: 0 0.25em; line-height: 1; border-radius: 0.35em;\">\n",
       "    machine learning\n",
       "    <span style=\"font-size: 0.8em; font-weight: bold; line-height: 1; border-radius: 0.35em; vertical-align: middle; margin-left: 0.5rem\">SKILL</span>\n",
       "</mark>\n",
       " to detect some of the common decisions. The project has paved the way for others to use new techniques to get better results. Participated in \n",
       "<mark class=\"entity\" style=\"background: #9fc5e8; padding: 0.45em 0.6em; margin: 0 0.25em; line-height: 1; border-radius: 0.35em;\">\n",
       "    Kaggle\n",
       "    <span style=\"font-size: 0.8em; font-weight: bold; line-height: 1; border-radius: 0.35em; vertical-align: middle; margin-left: 0.5rem\">GPE</span>\n",
       "</mark>\n",
       " \n",
       "<mark class=\"entity\" style=\"background: linear-gradient(90deg, #9BE15D, #00E3AE); padding: 0.45em 0.6em; margin: 0 0.25em; line-height: 1; border-radius: 0.35em;\">\n",
       "    machine learning\n",
       "    <span style=\"font-size: 0.8em; font-weight: bold; line-height: 1; border-radius: 0.35em; vertical-align: middle; margin-left: 0.5rem\">SKILL</span>\n",
       "</mark>\n",
       " competitions. Learned new techniques to get a better score and finally got to 1 percent rank. \n",
       "<mark class=\"entity\" style=\"background: #ffd966; padding: 0.45em 0.6em; margin: 0 0.25em; line-height: 1; border-radius: 0.35em;\">\n",
       "    Researcher / Event Organizer CREDIT 02/2017 - 07/2017\n",
       "    <span style=\"font-size: 0.8em; font-weight: bold; line-height: 1; border-radius: 0.35em; vertical-align: middle; margin-left: 0.5rem\">ORG</span>\n",
       "</mark>\n",
       ", \n",
       "<mark class=\"entity\" style=\"background: #9fc5e8; padding: 0.45em 0.6em; margin: 0 0.25em; line-height: 1; border-radius: 0.35em;\">\n",
       "    Kuala Lumpur\n",
       "    <span style=\"font-size: 0.8em; font-weight: bold; line-height: 1; border-radius: 0.35em; vertical-align: middle; margin-left: 0.5rem\">GPE</span>\n",
       "</mark>\n",
       ", \n",
       "<mark class=\"entity\" style=\"background: #ffd966; padding: 0.45em 0.6em; margin: 0 0.25em; line-height: 1; border-radius: 0.35em;\">\n",
       "    Malaysia Marketing\n",
       "    <span style=\"font-size: 0.8em; font-weight: bold; line-height: 1; border-radius: 0.35em; vertical-align: middle; margin-left: 0.5rem\">ORG</span>\n",
       "</mark>\n",
       " for newly build research lab. Organized technical events and successfully invited the multiple company's CEO for talks. Reduced the gap between industries and educational institutes. Research on new development in the IoT sector. Created research proposal for funding. Investigated the new communication protocol for \n",
       "<mark class=\"entity\" style=\"background: #ffd966; padding: 0.45em 0.6em; margin: 0 0.25em; line-height: 1; border-radius: 0.35em;\">\n",
       "    IoT\n",
       "    <span style=\"font-size: 0.8em; font-weight: bold; line-height: 1; border-radius: 0.35em; vertical-align: middle; margin-left: 0.5rem\">ORG</span>\n",
       "</mark>\n",
       " devices. Contact: Dr. \n",
       "<mark class=\"entity\" style=\"background: #e06666; padding: 0.45em 0.6em; margin: 0 0.25em; line-height: 1; border-radius: 0.35em;\">\n",
       "    Tan Chye\n",
       "    <span style=\"font-size: 0.8em; font-weight: bold; line-height: 1; border-radius: 0.35em; vertical-align: middle; margin-left: 0.5rem\">PERSON</span>\n",
       "</mark>\n",
       " Cheah - dr.chyecheah.t@apu.edu.my EDUCATION MSc in \n",
       "<mark class=\"entity\" style=\"background: #ffd966; padding: 0.45em 0.6em; margin: 0 0.25em; line-height: 1; border-radius: 0.35em;\">\n",
       "    Technology Management Staffordshire University\n",
       "    <span style=\"font-size: 0.8em; font-weight: bold; line-height: 1; border-radius: 0.35em; vertical-align: middle; margin-left: 0.5rem\">ORG</span>\n",
       "</mark>\n",
       " 11/2015 - 04/2017, Postgraduate with \n",
       "<mark class=\"entity\" style=\"background: #ffd966; padding: 0.45em 0.6em; margin: 0 0.25em; line-height: 1; border-radius: 0.35em;\">\n",
       "    Distinction Challenges in Implementing IoT\n",
       "    <span style=\"font-size: 0.8em; font-weight: bold; line-height: 1; border-radius: 0.35em; vertical-align: middle; margin-left: 0.5rem\">ORG</span>\n",
       "</mark>\n",
       "-enabled \n",
       "<mark class=\"entity\" style=\"background: #ffd966; padding: 0.45em 0.6em; margin: 0 0.25em; line-height: 1; border-radius: 0.35em;\">\n",
       "    Smart\n",
       "    <span style=\"font-size: 0.8em; font-weight: bold; line-height: 1; border-radius: 0.35em; vertical-align: middle; margin-left: 0.5rem\">ORG</span>\n",
       "</mark>\n",
       " cities in \n",
       "<mark class=\"entity\" style=\"background: #9fc5e8; padding: 0.45em 0.6em; margin: 0 0.25em; line-height: 1; border-radius: 0.35em;\">\n",
       "    Malaysia\n",
       "    <span style=\"font-size: 0.8em; font-weight: bold; line-height: 1; border-radius: 0.35em; vertical-align: middle; margin-left: 0.5rem\">GPE</span>\n",
       "</mark>\n",
       ". Bachelors Electrical Telecommunication \n",
       "<mark class=\"entity\" style=\"background: linear-gradient(90deg, #9BE15D, #00E3AE); padding: 0.45em 0.6em; margin: 0 0.25em; line-height: 1; border-radius: 0.35em;\">\n",
       "    Engineering\n",
       "    <span style=\"font-size: 0.8em; font-weight: bold; line-height: 1; border-radius: 0.35em; vertical-align: middle; margin-left: 0.5rem\">SKILL</span>\n",
       "</mark>\n",
       " COMSATS Institute of Information Technology, Islamabad 08/2010 - 01/2014, \n",
       "<mark class=\"entity\" style=\"background: #ffd966; padding: 0.45em 0.6em; margin: 0 0.25em; line-height: 1; border-radius: 0.35em;\">\n",
       "    CGPA\n",
       "    <span style=\"font-size: 0.8em; font-weight: bold; line-height: 1; border-radius: 0.35em; vertical-align: middle; margin-left: 0.5rem\">ORG</span>\n",
       "</mark>\n",
       ": 3.09 \n",
       "<mark class=\"entity\" style=\"background: #ffd966; padding: 0.45em 0.6em; margin: 0 0.25em; line-height: 1; border-radius: 0.35em;\">\n",
       "    Networking Satellite\n",
       "    <span style=\"font-size: 0.8em; font-weight: bold; line-height: 1; border-radius: 0.35em; vertical-align: middle; margin-left: 0.5rem\">ORG</span>\n",
       "</mark>\n",
       " \n",
       "<mark class=\"entity\" style=\"background: linear-gradient(90deg, #9BE15D, #00E3AE); padding: 0.45em 0.6em; margin: 0 0.25em; line-height: 1; border-radius: 0.35em;\">\n",
       "    communications\n",
       "    <span style=\"font-size: 0.8em; font-weight: bold; line-height: 1; border-radius: 0.35em; vertical-align: middle; margin-left: 0.5rem\">SKILL</span>\n",
       "</mark>\n",
       " Programming/ \n",
       "<mark class=\"entity\" style=\"background: #e06666; padding: 0.45em 0.6em; margin: 0 0.25em; line-height: 1; border-radius: 0.35em;\">\n",
       "    Matlab Telecommunication\n",
       "    <span style=\"font-size: 0.8em; font-weight: bold; line-height: 1; border-radius: 0.35em; vertical-align: middle; margin-left: 0.5rem\">PERSON</span>\n",
       "</mark>\n",
       " \n",
       "<mark class=\"entity\" style=\"background: linear-gradient(90deg, #9BE15D, #00E3AE); padding: 0.45em 0.6em; margin: 0 0.25em; line-height: 1; border-radius: 0.35em;\">\n",
       "    Engineering\n",
       "    <span style=\"font-size: 0.8em; font-weight: bold; line-height: 1; border-radius: 0.35em; vertical-align: middle; margin-left: 0.5rem\">SKILL</span>\n",
       "</mark>\n",
       " SKILLS Designing Leadership Media/\n",
       "<mark class=\"entity\" style=\"background: linear-gradient(90deg, #9BE15D, #00E3AE); padding: 0.45em 0.6em; margin: 0 0.25em; line-height: 1; border-radius: 0.35em;\">\n",
       "    Marketing\n",
       "    <span style=\"font-size: 0.8em; font-weight: bold; line-height: 1; border-radius: 0.35em; vertical-align: middle; margin-left: 0.5rem\">SKILL</span>\n",
       "</mark>\n",
       " \n",
       "<mark class=\"entity\" style=\"background: linear-gradient(90deg, #9BE15D, #00E3AE); padding: 0.45em 0.6em; margin: 0 0.25em; line-height: 1; border-radius: 0.35em;\">\n",
       "    R\n",
       "    <span style=\"font-size: 0.8em; font-weight: bold; line-height: 1; border-radius: 0.35em; vertical-align: middle; margin-left: 0.5rem\">SKILL</span>\n",
       "</mark>\n",
       "/\n",
       "<mark class=\"entity\" style=\"background: #ffd966; padding: 0.45em 0.6em; margin: 0 0.25em; line-height: 1; border-radius: 0.35em;\">\n",
       "    Python SQL Tableau\n",
       "    <span style=\"font-size: 0.8em; font-weight: bold; line-height: 1; border-radius: 0.35em; vertical-align: middle; margin-left: 0.5rem\">ORG</span>\n",
       "</mark>\n",
       " \n",
       "<mark class=\"entity\" style=\"background: #ffd966; padding: 0.45em 0.6em; margin: 0 0.25em; line-height: 1; border-radius: 0.35em;\">\n",
       "    NLP Data Analysis Machine\n",
       "    <span style=\"font-size: 0.8em; font-weight: bold; line-height: 1; border-radius: 0.35em; vertical-align: middle; margin-left: 0.5rem\">ORG</span>\n",
       "</mark>\n",
       " learning \n",
       "<mark class=\"entity\" style=\"background: linear-gradient(90deg, #9BE15D, #00E3AE); padding: 0.45em 0.6em; margin: 0 0.25em; line-height: 1; border-radius: 0.35em;\">\n",
       "    Deep learning\n",
       "    <span style=\"font-size: 0.8em; font-weight: bold; line-height: 1; border-radius: 0.35em; vertical-align: middle; margin-left: 0.5rem\">SKILL</span>\n",
       "</mark>\n",
       " Webapp/Cloud Feature \n",
       "<mark class=\"entity\" style=\"background: linear-gradient(90deg, #9BE15D, #00E3AE); padding: 0.45em 0.6em; margin: 0 0.25em; line-height: 1; border-radius: 0.35em;\">\n",
       "    Engineering\n",
       "    <span style=\"font-size: 0.8em; font-weight: bold; line-height: 1; border-radius: 0.35em; vertical-align: middle; margin-left: 0.5rem\">SKILL</span>\n",
       "</mark>\n",
       " Ensembling \n",
       "<mark class=\"entity\" style=\"background: linear-gradient(90deg, #9BE15D, #00E3AE); padding: 0.45em 0.6em; margin: 0 0.25em; line-height: 1; border-radius: 0.35em;\">\n",
       "    Time Series\n",
       "    <span style=\"font-size: 0.8em; font-weight: bold; line-height: 1; border-radius: 0.35em; vertical-align: middle; margin-left: 0.5rem\">SKILL</span>\n",
       "</mark>\n",
       " Technology Management ACHIEVEMENTS \n",
       "<mark class=\"entity\" style=\"background: #674ea7; padding: 0.45em 0.6em; margin: 0 0.25em; line-height: 1; border-radius: 0.35em;\">\n",
       "    98th\n",
       "    <span style=\"font-size: 0.8em; font-weight: bold; line-height: 1; border-radius: 0.35em; vertical-align: middle; margin-left: 0.5rem\">ORDINAL</span>\n",
       "</mark>\n",
       " \n",
       "<mark class=\"entity\" style=\"background: #ffd966; padding: 0.45em 0.6em; margin: 0 0.25em; line-height: 1; border-radius: 0.35em;\">\n",
       "    Hungry Geese Simulation Competition\n",
       "    <span style=\"font-size: 0.8em; font-weight: bold; line-height: 1; border-radius: 0.35em; vertical-align: middle; margin-left: 0.5rem\">ORG</span>\n",
       "</mark>\n",
       " (08/2021) 2nd in Covid-19 vaccinations around the world (07/2021) \n",
       "<mark class=\"entity\" style=\"background: #674ea7; padding: 0.45em 0.6em; margin: 0 0.25em; line-height: 1; border-radius: 0.35em;\">\n",
       "    8th\n",
       "    <span style=\"font-size: 0.8em; font-weight: bold; line-height: 1; border-radius: 0.35em; vertical-align: middle; margin-left: 0.5rem\">ORDINAL</span>\n",
       "</mark>\n",
       " in \n",
       "<mark class=\"entity\" style=\"background: #ffd966; padding: 0.45em 0.6em; margin: 0 0.25em; line-height: 1; border-radius: 0.35em;\">\n",
       "    Automatic Speech Recognition\n",
       "    <span style=\"font-size: 0.8em; font-weight: bold; line-height: 1; border-radius: 0.35em; vertical-align: middle; margin-left: 0.5rem\">ORG</span>\n",
       "</mark>\n",
       " in \n",
       "<mark class=\"entity\" style=\"background: #ffd966; padding: 0.45em 0.6em; margin: 0 0.25em; line-height: 1; border-radius: 0.35em;\">\n",
       "    WOLOF\n",
       "    <span style=\"font-size: 0.8em; font-weight: bold; line-height: 1; border-radius: 0.35em; vertical-align: middle; margin-left: 0.5rem\">ORG</span>\n",
       "</mark>\n",
       " (06/2021) Top 10 in WiDS Datathon. (03/2021) 40th / 622 in \n",
       "<mark class=\"entity\" style=\"background: #f9cb9c; padding: 0.45em 0.6em; margin: 0 0.25em; line-height: 1; border-radius: 0.35em;\">\n",
       "    MagNet\n",
       "    <span style=\"font-size: 0.8em; font-weight: bold; line-height: 1; border-radius: 0.35em; vertical-align: middle; margin-left: 0.5rem\">PRODUCT</span>\n",
       "</mark>\n",
       ": Model \n",
       "<mark class=\"entity\" style=\"background: #ffd966; padding: 0.45em 0.6em; margin: 0 0.25em; line-height: 1; border-radius: 0.35em;\">\n",
       "    the Geomagnetic Field Hosted\n",
       "    <span style=\"font-size: 0.8em; font-weight: bold; line-height: 1; border-radius: 0.35em; vertical-align: middle; margin-left: 0.5rem\">ORG</span>\n",
       "</mark>\n",
       " by \n",
       "<mark class=\"entity\" style=\"background: #ffd966; padding: 0.45em 0.6em; margin: 0 0.25em; line-height: 1; border-radius: 0.35em;\">\n",
       "    NOAA\n",
       "    <span style=\"font-size: 0.8em; font-weight: bold; line-height: 1; border-radius: 0.35em; vertical-align: middle; margin-left: 0.5rem\">ORG</span>\n",
       "</mark>\n",
       " (02/2021) 18th in \n",
       "<mark class=\"entity\" style=\"background: #9fc5e8; padding: 0.45em 0.6em; margin: 0 0.25em; line-height: 1; border-radius: 0.35em;\">\n",
       "    Rock, Paper\n",
       "    <span style=\"font-size: 0.8em; font-weight: bold; line-height: 1; border-radius: 0.35em; vertical-align: middle; margin-left: 0.5rem\">GPE</span>\n",
       "</mark>\n",
       ", Scissors/Designing \n",
       "<mark class=\"entity\" style=\"background: linear-gradient(90deg, #9BE15D, #00E3AE); padding: 0.45em 0.6em; margin: 0 0.25em; line-height: 1; border-radius: 0.35em;\">\n",
       "    AI\n",
       "    <span style=\"font-size: 0.8em; font-weight: bold; line-height: 1; border-radius: 0.35em; vertical-align: middle; margin-left: 0.5rem\">SKILL</span>\n",
       "</mark>\n",
       " Agent Competition. (02/2021) \n",
       "<mark class=\"entity\" style=\"background: #ffd966; padding: 0.45em 0.6em; margin: 0 0.25em; line-height: 1; border-radius: 0.35em;\">\n",
       "    PROJECTS Goodreads Profile Analysis WebApp\n",
       "    <span style=\"font-size: 0.8em; font-weight: bold; line-height: 1; border-radius: 0.35em; vertical-align: middle; margin-left: 0.5rem\">ORG</span>\n",
       "</mark>\n",
       " (09/2021) \n",
       "<mark class=\"entity\" style=\"background: linear-gradient(90deg, #9BE15D, #00E3AE); padding: 0.45em 0.6em; margin: 0 0.25em; line-height: 1; border-radius: 0.35em;\">\n",
       "    Data Analysis\n",
       "    <span style=\"font-size: 0.8em; font-weight: bold; line-height: 1; border-radius: 0.35em; vertical-align: middle; margin-left: 0.5rem\">SKILL</span>\n",
       "</mark>\n",
       " Web Scraping XLM Interactive \n",
       "<mark class=\"entity\" style=\"background: linear-gradient(90deg, #9BE15D, #00E3AE); padding: 0.45em 0.6em; margin: 0 0.25em; line-height: 1; border-radius: 0.35em;\">\n",
       "    Visualization\n",
       "    <span style=\"font-size: 0.8em; font-weight: bold; line-height: 1; border-radius: 0.35em; vertical-align: middle; margin-left: 0.5rem\">SKILL</span>\n",
       "</mark>\n",
       " Contributed in orchest.io (08/2021) \n",
       "<mark class=\"entity\" style=\"background: linear-gradient(90deg, #9BE15D, #00E3AE); padding: 0.45em 0.6em; margin: 0 0.25em; line-height: 1; border-radius: 0.35em;\">\n",
       "    Testing\n",
       "    <span style=\"font-size: 0.8em; font-weight: bold; line-height: 1; border-radius: 0.35em; vertical-align: middle; margin-left: 0.5rem\">SKILL</span>\n",
       "</mark>\n",
       " and Debuging Technical Article Proposing new was to \n",
       "<mark class=\"entity\" style=\"background: #ffd966; padding: 0.45em 0.6em; margin: 0 0.25em; line-height: 1; border-radius: 0.35em;\">\n",
       "    Improve ML\n",
       "    <span style=\"font-size: 0.8em; font-weight: bold; line-height: 1; border-radius: 0.35em; vertical-align: middle; margin-left: 0.5rem\">ORG</span>\n",
       "</mark>\n",
       " pipelines \n",
       "<mark class=\"entity\" style=\"background: #ffd966; padding: 0.45em 0.6em; margin: 0 0.25em; line-height: 1; border-radius: 0.35em;\">\n",
       "    World Vaccine Update System\n",
       "    <span style=\"font-size: 0.8em; font-weight: bold; line-height: 1; border-radius: 0.35em; vertical-align: middle; margin-left: 0.5rem\">ORG</span>\n",
       "</mark>\n",
       " (06/2021) Used \n",
       "<mark class=\"entity\" style=\"background: #9fc5e8; padding: 0.45em 0.6em; margin: 0 0.25em; line-height: 1; border-radius: 0.35em;\">\n",
       "    sqlite3\n",
       "    <span style=\"font-size: 0.8em; font-weight: bold; line-height: 1; border-radius: 0.35em; vertical-align: middle; margin-left: 0.5rem\">GPE</span>\n",
       "</mark>\n",
       " for \n",
       "<mark class=\"entity\" style=\"background: linear-gradient(90deg, #9BE15D, #00E3AE); padding: 0.45em 0.6em; margin: 0 0.25em; line-height: 1; border-radius: 0.35em;\">\n",
       "    database\n",
       "    <span style=\"font-size: 0.8em; font-weight: bold; line-height: 1; border-radius: 0.35em; vertical-align: middle; margin-left: 0.5rem\">SKILL</span>\n",
       "</mark>\n",
       " Automated system for \n",
       "<mark class=\"entity\" style=\"background: #c27ba0; padding: 0.45em 0.6em; margin: 0 0.25em; line-height: 1; border-radius: 0.35em;\">\n",
       "    daily\n",
       "    <span style=\"font-size: 0.8em; font-weight: bold; line-height: 1; border-radius: 0.35em; vertical-align: middle; margin-left: 0.5rem\">DATE</span>\n",
       "</mark>\n",
       " update \n",
       "<mark class=\"entity\" style=\"background: #ffd966; padding: 0.45em 0.6em; margin: 0 0.25em; line-height: 1; border-radius: 0.35em;\">\n",
       "    the Kaggle DB and Analysis Interactive\n",
       "    <span style=\"font-size: 0.8em; font-weight: bold; line-height: 1; border-radius: 0.35em; vertical-align: middle; margin-left: 0.5rem\">ORG</span>\n",
       "</mark>\n",
       " dashboard \n",
       "<mark class=\"entity\" style=\"background: #ffd966; padding: 0.45em 0.6em; margin: 0 0.25em; line-height: 1; border-radius: 0.35em;\">\n",
       "    mRNA-Vaccine-Degradation-Prediction\n",
       "    <span style=\"font-size: 0.8em; font-weight: bold; line-height: 1; border-radius: 0.35em; vertical-align: middle; margin-left: 0.5rem\">ORG</span>\n",
       "</mark>\n",
       " (06/2021) Explore our dataset and then preprocessed sequence, structure, and predicted loop type features Train \n",
       "<mark class=\"entity\" style=\"background: linear-gradient(90deg, #9BE15D, #00E3AE); padding: 0.45em 0.6em; margin: 0 0.25em; line-height: 1; border-radius: 0.35em;\">\n",
       "    deep learning\n",
       "    <span style=\"font-size: 0.8em; font-weight: bold; line-height: 1; border-radius: 0.35em; vertical-align: middle; margin-left: 0.5rem\">SKILL</span>\n",
       "</mark>\n",
       " \n",
       "<mark class=\"entity\" style=\"background: #e06666; padding: 0.45em 0.6em; margin: 0 0.25em; line-height: 1; border-radius: 0.35em;\">\n",
       "    GRU\n",
       "    <span style=\"font-size: 0.8em; font-weight: bold; line-height: 1; border-radius: 0.35em; vertical-align: middle; margin-left: 0.5rem\">PERSON</span>\n",
       "</mark>\n",
       " model \n",
       "<mark class=\"entity\" style=\"background: #ffd966; padding: 0.45em 0.6em; margin: 0 0.25em; line-height: 1; border-radius: 0.35em;\">\n",
       "    Trip Advisor Data Analysis/ML\n",
       "    <span style=\"font-size: 0.8em; font-weight: bold; line-height: 1; border-radius: 0.35em; vertical-align: middle; margin-left: 0.5rem\">ORG</span>\n",
       "</mark>\n",
       " (04/2021) Preprocessing Data, \n",
       "<mark class=\"entity\" style=\"background: #e06666; padding: 0.45em 0.6em; margin: 0 0.25em; line-height: 1; border-radius: 0.35em;\">\n",
       "    Exploratory Data\n",
       "    <span style=\"font-size: 0.8em; font-weight: bold; line-height: 1; border-radius: 0.35em; vertical-align: middle; margin-left: 0.5rem\">PERSON</span>\n",
       "</mark>\n",
       " analysis, Word clouds. \n",
       "<mark class=\"entity\" style=\"background: #ffd966; padding: 0.45em 0.6em; margin: 0 0.25em; line-height: 1; border-radius: 0.35em;\">\n",
       "    Feature Engineering\n",
       "    <span style=\"font-size: 0.8em; font-weight: bold; line-height: 1; border-radius: 0.35em; vertical-align: middle; margin-left: 0.5rem\">ORG</span>\n",
       "</mark>\n",
       ", \n",
       "<mark class=\"entity\" style=\"background: linear-gradient(90deg, #9BE15D, #00E3AE); padding: 0.45em 0.6em; margin: 0 0.25em; line-height: 1; border-radius: 0.35em;\">\n",
       "    Text processing\n",
       "    <span style=\"font-size: 0.8em; font-weight: bold; line-height: 1; border-radius: 0.35em; vertical-align: middle; margin-left: 0.5rem\">SKILL</span>\n",
       "</mark>\n",
       ". BiLSTM Model for predicting rating, evaluation, model performance. \n",
       "<mark class=\"entity\" style=\"background: #ffd966; padding: 0.45em 0.6em; margin: 0 0.25em; line-height: 1; border-radius: 0.35em;\">\n",
       "    Jane Street Market Prediction\n",
       "    <span style=\"font-size: 0.8em; font-weight: bold; line-height: 1; border-radius: 0.35em; vertical-align: middle; margin-left: 0.5rem\">ORG</span>\n",
       "</mark>\n",
       " (03/2021) \n",
       "<mark class=\"entity\" style=\"background: #ffd966; padding: 0.45em 0.6em; margin: 0 0.25em; line-height: 1; border-radius: 0.35em;\">\n",
       "    EDA\n",
       "    <span style=\"font-size: 0.8em; font-weight: bold; line-height: 1; border-radius: 0.35em; vertical-align: middle; margin-left: 0.5rem\">ORG</span>\n",
       "</mark>\n",
       ", \n",
       "<mark class=\"entity\" style=\"background: #ffd966; padding: 0.45em 0.6em; margin: 0 0.25em; line-height: 1; border-radius: 0.35em;\">\n",
       "    Feature Engineering\n",
       "    <span style=\"font-size: 0.8em; font-weight: bold; line-height: 1; border-radius: 0.35em; vertical-align: middle; margin-left: 0.5rem\">ORG</span>\n",
       "</mark>\n",
       ", experimenting with hyperparameters. Ensembling: Resnet, \n",
       "<mark class=\"entity\" style=\"background: #ffd966; padding: 0.45em 0.6em; margin: 0 0.25em; line-height: 1; border-radius: 0.35em;\">\n",
       "    NN Embeddings\n",
       "    <span style=\"font-size: 0.8em; font-weight: bold; line-height: 1; border-radius: 0.35em; vertical-align: middle; margin-left: 0.5rem\">ORG</span>\n",
       "</mark>\n",
       ", \n",
       "<mark class=\"entity\" style=\"background: #ffd966; padding: 0.45em 0.6em; margin: 0 0.25em; line-height: 1; border-radius: 0.35em;\">\n",
       "    TF Simple NN\n",
       "    <span style=\"font-size: 0.8em; font-weight: bold; line-height: 1; border-radius: 0.35em; vertical-align: middle; margin-left: 0.5rem\">ORG</span>\n",
       "</mark>\n",
       " model. Using simple MLP \n",
       "<mark class=\"entity\" style=\"background: linear-gradient(90deg, #9BE15D, #00E3AE); padding: 0.45em 0.6em; margin: 0 0.25em; line-height: 1; border-radius: 0.35em;\">\n",
       "    pytorch\n",
       "    <span style=\"font-size: 0.8em; font-weight: bold; line-height: 1; border-radius: 0.35em; vertical-align: middle; margin-left: 0.5rem\">SKILL</span>\n",
       "</mark>\n",
       " model. Achievements/Tasks Achievements/Tasks Achievements/Tasks Thesis Courses</div></span>"
      ],
      "text/plain": [
       "<IPython.core.display.HTML object>"
      ]
     },
     "metadata": {},
     "output_type": "display_data"
    }
   ],
   "source": [
    "sent2 = nlp(input_resume)\n",
    "displacy.render(sent2, style=\"ent\", jupyter=True, options=options)"
   ]
  },
  {
   "cell_type": "markdown",
   "id": "1c88e250",
   "metadata": {},
   "source": [
    "# Match Score"
   ]
  },
  {
   "cell_type": "code",
   "execution_count": 53,
   "id": "d7dc2dad",
   "metadata": {},
   "outputs": [],
   "source": [
    "input_skills = \"Data Science,Data Analysis,Database,SQL,Machine Learning,tableau\""
   ]
  },
  {
   "cell_type": "code",
   "execution_count": 54,
   "id": "d5d7b986",
   "metadata": {},
   "outputs": [
    {
     "name": "stdout",
     "output_type": "stream",
     "text": [
      "The current Resume is 66.7% matched to your requirements\n"
     ]
    }
   ],
   "source": [
    "req_skills = input_skills.lower().split(\",\")\n",
    "resume_skills = unique_skills(get_skills(input_resume.lower()))\n",
    "score = 0\n",
    "for x in req_skills:\n",
    "    if x in resume_skills:\n",
    "        score += 1\n",
    "\n",
    "req_skills_len = len(req_skills)\n",
    "match = round(score / req_skills_len* 100,1)\n",
    "\n",
    "print(f\"The current Resume is {match}% matched to your requirements\")"
   ]
  },
  {
   "cell_type": "markdown",
   "id": "9f1b8259",
   "metadata": {},
   "source": [
    "We can also see the skills mentioned in your resume"
   ]
  },
  {
   "cell_type": "code",
   "execution_count": 55,
   "id": "c59b1c1d",
   "metadata": {
    "scrolled": false
   },
   "outputs": [
    {
     "name": "stdout",
     "output_type": "stream",
     "text": [
      "['communications', 'database', 'testing', 'pytorch', 'exploratory data analysis', 'ml', 'nlp', 'text processing', 'tableau', 'machine learning', 'visualization', 'time series', 'simulation', 'speech recognition', 'marketing', 'data analysis', 'deep learning', 'engineering', 'ai', 'python']\n"
     ]
    }
   ],
   "source": [
    "print(resume_skills)"
   ]
  },
  {
   "cell_type": "markdown",
   "id": "be1954a2",
   "metadata": {},
   "source": [
    "# Topic Modeling - LDA"
   ]
  },
  {
   "cell_type": "code",
   "execution_count": 56,
   "id": "c0927505",
   "metadata": {},
   "outputs": [
    {
     "data": {
      "text/plain": [
       "[(0,\n",
       "  '0.017*\"system\" + 0.008*\"data\" + 0.006*\"support\" + 0.006*\"server\" + 0.006*\"software\" + 0.006*\"application\" + 0.006*\"state\" + 0.006*\"project\" + 0.006*\"management\" + 0.005*\"company\"'),\n",
       " (1,\n",
       "  '0.012*\"company\" + 0.011*\"business\" + 0.011*\"management\" + 0.010*\"sale\" + 0.010*\"state\" + 0.009*\"city\" + 0.008*\"marketing\" + 0.008*\"development\" + 0.008*\"name\" + 0.007*\"project\"'),\n",
       " (2,\n",
       "  '0.012*\"state\" + 0.012*\"city\" + 0.012*\"customer\" + 0.011*\"company\" + 0.009*\"service\" + 0.009*\"name\" + 0.006*\"skill\" + 0.005*\"management\" + 0.005*\"office\" + 0.005*\"work\"'),\n",
       " (3,\n",
       "  '0.011*\"state\" + 0.009*\"city\" + 0.009*\"company\" + 0.008*\"management\" + 0.007*\"name\" + 0.006*\"employee\" + 0.005*\"training\" + 0.005*\"program\" + 0.004*\"project\" + 0.004*\"developed\"')]"
      ]
     },
     "execution_count": 56,
     "metadata": {},
     "output_type": "execute_result"
    }
   ],
   "source": [
    "docs = data[\"Clean_Resume\"].values\n",
    "dictionary = corpora.Dictionary(d.split() for d in docs)\n",
    "bow = [dictionary.doc2bow(d.split()) for d in docs]\n",
    "lda = gensim.models.ldamodel.LdaModel\n",
    "num_topics = 4\n",
    "ldamodel = lda(\n",
    "    bow,\n",
    "    num_topics=num_topics,\n",
    "    id2word = dictionary,\n",
    "    passes = 50,\n",
    "    minimum_probability=0\n",
    ")\n",
    "ldamodel.print_topics(num_topics=num_topics)"
   ]
  },
  {
   "cell_type": "markdown",
   "id": "968cb6a7",
   "metadata": {},
   "source": [
    "# pyLDAvis"
   ]
  },
  {
   "cell_type": "markdown",
   "id": "cae47ee9",
   "metadata": {},
   "source": [
    "The best way to visualize Topics is to use pyLDAvis from GENSIM.\n",
    "\n",
    "•topic #1 appears to relate to the customer, state, and city.\n",
    "\n",
    "•topic #2 relates to management and marketing.\n",
    "\n",
    "•topic #3 relates to systems and projects.\n",
    "\n",
    "•topic #4 relates to financial and company."
   ]
  },
  {
   "cell_type": "code",
   "execution_count": 57,
   "id": "b58198c2",
   "metadata": {},
   "outputs": [
    {
     "data": {
      "text/html": [
       "\n",
       "<link rel=\"stylesheet\" type=\"text/css\" href=\"https://cdn.jsdelivr.net/gh/bmabey/pyLDAvis@3.4.0/pyLDAvis/js/ldavis.v1.0.0.css\">\n",
       "\n",
       "\n",
       "<div id=\"ldavis_el1367615452664258402063693828\" style=\"background-color:white;\"></div>\n",
       "<script type=\"text/javascript\">\n",
       "\n",
       "var ldavis_el1367615452664258402063693828_data = {\"mdsDat\": {\"x\": [-0.06076675766017826, -0.03969049994470153, 0.14567346677408613, -0.045216209169206274], \"y\": [0.03202691766304434, -0.10224480236342409, 0.005568720144030026, 0.06464916455634982], \"topics\": [1, 2, 3, 4], \"cluster\": [1, 1, 1, 1], \"Freq\": [38.24493656922235, 29.751452346955666, 19.680911257271493, 12.322699826550485]}, \"tinfo\": {\"Term\": [\"system\", \"marketing\", \"sale\", \"server\", \"business\", \"data\", \"application\", \"user\", \"software\", \"employee\", \"network\", \"sql\", \"medium\", \"management\", \"technical\", \"support\", \"state\", \"window\", \"using\", \"development\", \"health\", \"strategy\", \"tibco\", \"mdm\", \"hr\", \"developed\", \"training\", \"patient\", \"student\", \"hardware\", \"chef\", \"payable\", \"reconciliation\", \"culinary\", \"accountant\", \"lesson\", \"receivable\", \"kitchen\", \"safe\", \"cook\", \"reconciled\", \"cleaned\", \"hospitality\", \"merchandise\", \"receipt\", \"menu\", \"00\", \"cashier\", \"invoicing\", \"dance\", \"processed\", \"sou\", \"gl\", \"ordering\", \"cooking\", \"receivables\", \"pressure\", \"meal\", \"reconciling\", \"cuisine\", \"teacher\", \"filing\", \"payment\", \"invoice\", \"student\", \"purchase\", \"ledger\", \"accounting\", \"return\", \"daily\", \"parent\", \"construction\", \"statement\", \"billing\", \"child\", \"customer\", \"transaction\", \"food\", \"cash\", \"entry\", \"record\", \"service\", \"phone\", \"order\", \"school\", \"city\", \"administrative\", \"state\", \"office\", \"skill\", \"company\", \"assisted\", \"work\", \"name\", \"account\", \"inventory\", \"report\", \"financial\", \"education\", \"assistant\", \"procedure\", \"experience\", \"information\", \"management\", \"team\", \"maintained\", \"employee\", \"client\", \"staff\", \"new\", \"project\", \"sale\", \"campaign\", \"buch\", \"territory\", \"grew\", \"press\", \"calling\", \"television\", \"prospect\", \"pr\", \"launch\", \"profitability\", \"chip\", \"logo\", \"branding\", \"digital\", \"fda\", \"hyperion\", \"instagram\", \"presence\", \"bpo\", \"biosensors\", \"photo\", \"multimedia\", \"sem\", \"founder\", \"pitch\", \"spain\", \"manages\", \"audience\", \"marketing\", \"medium\", \"content\", \"forecasting\", \"global\", \"radio\", \"newspaper\", \"acquisition\", \"portfolio\", \"strategy\", \"brand\", \"strategic\", \"news\", \"partner\", \"partnership\", \"sale\", \"business\", \"negotiation\", \"engagement\", \"revenue\", \"01\", \"development\", \"growth\", \"market\", \"key\", \"relationship\", \"advertising\", \"retail\", \"product\", \"relation\", \"planning\", \"management\", \"research\", \"new\", \"finance\", \"manager\", \"company\", \"team\", \"client\", \"project\", \"managed\", \"budget\", \"state\", \"city\", \"name\", \"process\", \"developed\", \"program\", \"including\", \"analysis\", \"account\", \"operation\", \"customer\", \"training\", \"skill\", \"service\", \"aix\", \"unix\", \"configured\", \"java\", \"plc\", \"o\", \"javascript\", \"server\", \"robotics\", \"novell\", \"solaris\", \"allen\", \"bradley\", \"installed\", \"hp\", \"linux\", \"dns\", \"mysql\", \"configuring\", \"sql\", \"version\", \"patch\", \"asp\", \"tuning\", \"php\", \"apache\", \"upgrade\", \"nt\", \"cpac\", \"amazon\", \"migration\", \"configuration\", \"ibm\", \"infrastructure\", \"classification\", \"user\", \"hardware\", \"automation\", \"troubleshooting\", \"window\", \"object\", \"programming\", \"application\", \"system\", \"net\", \"testing\", \"software\", \"network\", \"electrical\", \"test\", \"installation\", \"data\", \"technical\", \"using\", \"support\", \"engineering\", \"analyst\", \"oracle\", \"maintenance\", \"hr\", \"computer\", \"database\", \"issue\", \"5\", \"project\", \"control\", \"training\", \"analysis\", \"experience\", \"management\", \"state\", \"company\", \"business\", \"process\", \"city\", \"name\", \"service\", \"mdm\", \"piping\", \"cim\", \"substance\", \"litigation\", \"justice\", \"inmate\", \"afscme\", \"richmond\", \"serena\", \"refinery\", \"psychiatric\", \"criminal\", \"disorder\", \"exit\", \"tibco\", \"pod\", \"veterinary\", \"pulp\", \"softball\", \"generalist\", \"strut\", \"routing\", \"charlotte\", \"vfd\", \"chase\", \"borrower\", \"surgical\", \"crime\", \"ew\", \"mental\", \"attorney\", \"abuse\", \"interior\", \"underwriting\", \"repository\", \"forensic\", \"athlete\", \"nurse\", \"court\", \"nursing\", \"applicant\", \"rule\", \"counsel\", \"drafted\", \"case\", \"employee\", \"employment\", \"coach\", \"treatment\", \"health\", \"human\", \"state\", \"recruiting\", \"law\", \"adult\", \"city\", \"legal\", \"program\", \"management\", \"developed\", \"company\", \"training\", \"name\", \"design\", \"community\", \"meeting\", \"resource\", \"medical\", \"project\", \"client\", \"member\", \"hr\", \"quality\", \"experience\", \"year\", \"new\", \"service\", \"data\", \"work\", \"staff\", \"skill\", \"office\", \"process\", \"system\", \"team\"], \"Freq\": [705.0, 347.0, 553.0, 172.0, 679.0, 390.0, 214.0, 137.0, 243.0, 320.0, 183.0, 105.0, 179.0, 947.0, 249.0, 363.0, 1354.0, 106.0, 204.0, 512.0, 162.0, 194.0, 60.0, 52.0, 133.0, 323.0, 474.0, 123.0, 239.0, 74.0, 83.69793776526335, 63.51041784588376, 63.369255637362244, 50.11933515793253, 48.16325826030133, 48.139433352347574, 40.52528074740811, 39.567094904136034, 31.863102356568714, 27.096125708104996, 25.166610985110832, 24.21574183787016, 23.25711363805165, 40.922027068182686, 23.24612152319822, 51.862053696061615, 19.418776978161475, 22.134544836406306, 18.431707330592562, 17.502305835615264, 69.96058193536892, 17.49978380953343, 17.493093537873143, 17.43724528167725, 27.51699085158565, 15.5698905599643, 25.575559221360784, 13.663314547413089, 13.650302139741898, 12.701371642332226, 98.4948889344902, 55.81805125963069, 103.28760539005161, 74.29840148173332, 210.3253730142954, 53.7552506497102, 43.6533857680623, 199.90190898572035, 28.795983162604376, 181.49938976510253, 54.64042688096997, 76.6668021820124, 48.29419876688081, 62.92998668024853, 103.15043329695563, 588.943839388715, 53.76270242777424, 131.70203673392595, 104.83173255835608, 90.06361472321606, 137.6469524576539, 466.5019224052962, 83.61557632022246, 131.7508206451404, 141.65026138983993, 608.6211411110708, 94.58759215473088, 637.2800976535374, 235.470890420464, 329.69506737486853, 585.2192091431089, 121.07489868849613, 235.2398912381505, 450.55252852336054, 228.90596301112083, 125.0351238743613, 192.32352788432416, 162.3366348024867, 173.8787324407454, 116.84201561522002, 127.87287971458319, 193.60264488644992, 160.61156302484076, 258.17749727415395, 198.21381702782168, 126.47028289044962, 149.01880517109012, 167.0157932855583, 133.68958922957904, 145.49831208073627, 150.02948003275753, 143.91415312939776, 53.72149478902597, 20.891168928334803, 25.424657550841076, 20.871235521387828, 34.96455839767793, 15.220476090709807, 14.31676941653146, 14.293020694061791, 12.436863918487008, 30.20783686488542, 20.43296154352661, 11.499676233937873, 11.441172804662326, 11.418888313452577, 61.44597982486319, 11.378738584212666, 9.611295400457935, 9.603404371818604, 9.59400234428053, 9.583651684266092, 8.682215838772791, 8.680617078378972, 8.680496983701502, 8.6798716830491, 8.679011966824326, 8.678658033952745, 8.675658553907283, 8.627818723661502, 13.748503343117713, 319.7261383132467, 163.82643370248462, 68.29488690044984, 44.674633402489626, 68.77562127533575, 18.955780844055774, 17.132964198557055, 41.3781684576968, 19.515403564961233, 162.6475289201275, 65.98591891725741, 120.1434820992026, 16.196035179467085, 52.55844250409488, 31.0117460168428, 402.8446992519937, 451.0399496957476, 32.7551535211341, 24.51128440988292, 78.04552157306397, 141.15207821745963, 315.8710622142548, 67.29168525025723, 77.835956360879, 92.3119193556924, 124.8018068294258, 45.96692603648254, 51.356627352497355, 222.8458913310166, 99.8610338292412, 129.88411196137827, 417.175061307453, 108.02615085574149, 246.05725478537423, 96.73553289587886, 209.17189287819076, 460.0617944371618, 249.88058893730562, 232.16865638196182, 261.5474727597335, 152.0771095029997, 113.44722459673228, 383.1015777024453, 360.2960418774148, 300.2901635203536, 173.55820427268384, 143.45338785545033, 152.0636866132794, 132.73516884256554, 125.56927648482318, 147.0790461682663, 132.59499063980184, 180.78116007832864, 145.5129099554857, 147.20589386183084, 151.88250993523792, 38.455048472444936, 32.98583103695774, 27.511104469564675, 24.787187073251253, 23.878710444327886, 22.062510376173215, 21.10586932892921, 166.33361715643042, 18.427187619415754, 17.51333019111012, 16.608946453028626, 16.607456879094013, 16.60744465694891, 29.637259665338107, 22.700570516890945, 45.92575522363947, 13.878184655456675, 13.877772158059397, 13.877669797594146, 100.10801557367836, 13.79492434746841, 12.930193831410394, 12.057677808920799, 12.048537936034824, 13.757020419963018, 12.033869834141262, 36.131970074747485, 12.012331358930822, 11.147425149536929, 11.147405288551134, 28.249645920722937, 48.380881677046155, 33.860704405684366, 33.821437708999824, 22.9370247193874, 122.36710234840825, 67.66700193243597, 55.69017361338157, 66.75291992221403, 87.12463860561378, 30.208174396387882, 62.02379920584965, 156.5020747457743, 439.9692594947125, 43.98519024574189, 70.74980581429409, 159.02682770430516, 122.35420798532299, 41.37949307572008, 73.73035311913524, 53.25866951092564, 203.59450094143827, 141.3550358741468, 118.28763142185696, 170.22905924414297, 84.21950804714005, 64.44510392821586, 60.16209761923899, 87.32579678081652, 74.93453996555806, 87.01295875472123, 88.77375431134898, 96.90241579995512, 71.44943806651212, 150.03730553633474, 86.05246314846488, 119.81707399380124, 94.09179908957465, 112.50686234104671, 145.21619484484117, 154.79658439574453, 144.26014198833033, 117.91049269036678, 103.193978880046, 135.3152673164267, 118.60016389432462, 90.982155377067, 51.91475062798581, 26.489821059746948, 23.09163759428512, 12.025712335852932, 10.38149823910965, 15.166706803775762, 9.526917929086418, 7.837271398080162, 7.833598157790241, 7.8137440070513176, 6.144026239477374, 6.1440257611908775, 14.559612971431976, 6.116865305937782, 6.107641550860811, 53.9849850290936, 5.296274425758726, 5.2962696428937655, 5.295998932736983, 5.291823013339677, 5.290295844557683, 5.28882463529573, 5.286464769724053, 5.28556511282492, 5.2841455585045445, 5.270280511269579, 5.272002820941975, 5.25436791954488, 5.200283282567754, 4.448518307461614, 17.200607692922077, 30.22430689206495, 16.64491148402042, 34.11727773772519, 11.996577035657507, 8.612922000800713, 9.237635907660216, 7.2586820060434665, 8.366515494029423, 13.328717802863215, 18.855400530385733, 20.449749433620337, 28.303102736844814, 9.112331541697277, 10.979660549425573, 32.57259219109791, 93.39048141312398, 19.23100465519808, 17.95371187021725, 16.357803753005413, 53.26984723385754, 37.903236762751696, 179.51394667801026, 18.78728105446753, 29.247198190902047, 16.826392512094355, 152.01059061755868, 27.315211544914202, 77.15816473152302, 127.28095186811439, 67.81447453279422, 147.20825748318677, 81.87202634299535, 120.65556662010265, 63.32995703563189, 39.14214418670285, 47.96354553170842, 43.65897089324862, 32.55051448643869, 69.75273629761068, 63.83676853834184, 46.385678381128855, 36.20969697966732, 48.55756205467629, 57.44592733542552, 48.23206704948562, 56.29871699850351, 61.94213798084411, 50.07805013089371, 50.13559373581051, 43.803482288321284, 52.55809570701375, 47.45256337075262, 47.68793389491328, 48.40457159660106, 44.71292684231025], \"Total\": [705.0, 347.0, 553.0, 172.0, 679.0, 390.0, 214.0, 137.0, 243.0, 320.0, 183.0, 105.0, 179.0, 947.0, 249.0, 363.0, 1354.0, 106.0, 204.0, 512.0, 162.0, 194.0, 60.0, 52.0, 133.0, 323.0, 474.0, 123.0, 239.0, 74.0, 84.37565254950206, 64.22175488950293, 64.21945438714624, 50.79643679075385, 48.87428722867669, 48.87266203237806, 41.202293067437914, 40.24320233257365, 32.56361983598145, 27.771213773605524, 25.850057440425427, 24.892442173806142, 23.933231364917358, 42.12459942401262, 23.931199752854063, 53.64556749739017, 20.095451021631895, 22.952902178344214, 19.131034086040525, 18.177170354989443, 72.66272118584035, 18.176523651426926, 18.174992390811422, 18.168328881910632, 28.7139637475384, 16.255449021465463, 26.743615592839323, 14.339168285030818, 14.33663727682134, 13.37911615187332, 103.89998154497131, 59.0872722779673, 111.07765463343753, 79.47522956465419, 239.51305263078046, 58.20257563951864, 46.89820009523711, 233.08903573342656, 30.580207264988893, 214.22764545730627, 60.16619572953182, 87.26691460675153, 53.56873463603992, 71.71994310346182, 125.23562197285949, 880.4404341258158, 60.943375741607774, 168.7801495284278, 130.75618638050003, 110.25357253313122, 180.33207768723216, 771.3087256984453, 101.4365155878109, 174.52092813384874, 197.55422868206972, 1256.243040922471, 120.2725463906252, 1354.6922064297373, 387.1558483372979, 608.2838445853142, 1336.7494030517878, 166.02940843001983, 410.7710196673726, 990.0984225581414, 422.64918697272947, 178.8811881404776, 353.08673493428375, 284.6907353445795, 329.055558959309, 174.50496647422295, 207.89397348677036, 453.5502472115105, 339.85657838868053, 947.8497052945625, 576.156593567773, 210.3899119918878, 320.8166218111444, 523.4492269250674, 260.31619603555384, 506.9453426861988, 631.3669946264365, 553.0891889332914, 54.43441172606961, 21.57054298876026, 26.25757483871352, 21.567157688976916, 36.56190883186478, 15.929518149485824, 14.996421658247915, 14.991260850017353, 13.117720695499198, 31.863596481790417, 21.56928546614878, 12.179046124413718, 12.169654202081846, 12.174087830658246, 65.529036966175, 12.167243653690285, 10.298238971521544, 10.297345893888759, 10.29457222522176, 10.295585930097689, 9.361577843757898, 9.361148825855754, 9.361133039092872, 9.361045755577493, 9.360796516028865, 9.360797822272897, 9.359894330537863, 9.35109213739201, 14.93706556342534, 347.643684114698, 179.0910683580786, 74.97001203357095, 48.871008689301895, 76.45391846417482, 20.64499839250138, 18.65869223129694, 45.91382510157908, 21.494781390538623, 194.06553156097542, 77.1688986096916, 145.8243014457833, 17.826616752092775, 62.10500070738496, 35.464742961481576, 553.0891889332914, 679.9691094258379, 38.444638180390555, 28.18583822547309, 102.34657153426382, 202.11865274667545, 512.7871932331929, 88.80526277501716, 105.09433664464568, 128.4496003120605, 182.98504447348733, 57.405167818540775, 65.49824388346246, 397.3581188151189, 153.82754346742794, 214.814033340005, 947.8497052945625, 173.62403179146492, 506.9453426861988, 152.61012412119345, 443.51339459082465, 1336.7494030517878, 576.156593567773, 523.4492269250674, 631.3669946264365, 293.48903887920767, 194.5604668895671, 1354.6922064297373, 1256.243040922471, 990.0984225581414, 428.59095303411414, 323.44143844511717, 399.4427875051173, 307.17591869689625, 278.43601317502845, 422.64918697272947, 321.93599937765623, 880.4404341258158, 474.6440881696875, 608.2838445853142, 771.3087256984453, 39.14175515040006, 33.67910227930591, 28.214936585855185, 25.485822491855206, 24.575592465308073, 22.755696594101845, 21.843290812140907, 172.29966257996742, 19.115610464117697, 18.204620853096237, 17.295574453375853, 17.2952956645523, 17.295296570282144, 30.902298115853338, 23.673216438574155, 48.129405246045316, 14.564796495228482, 14.564695654190988, 14.56467973040893, 105.25789187769597, 14.561010081795956, 13.649167327573354, 12.744273106653376, 12.742718886933584, 14.564703783822688, 12.741487394984023, 38.261454527622575, 12.739267022736701, 11.834014116493808, 11.834014518766374, 30.067369916181494, 51.96225305856095, 36.46452858083216, 36.464286097769815, 24.550697197518847, 137.48526046511975, 74.6510062434883, 61.126756103810116, 78.59933983201148, 106.21741535355739, 33.76088409744263, 75.11459024982238, 214.72028473673114, 705.5779490268307, 52.11889161110765, 91.69852062195737, 243.2451050081263, 183.66816628661272, 50.110214713106615, 105.23303874749598, 69.7789323275056, 390.13737023040136, 249.39450477437208, 204.37308801395784, 363.833422052876, 142.0832357128256, 98.94171877739011, 91.97631323955719, 169.3206099282402, 133.95296670868845, 173.81246227543681, 191.37920328012248, 242.75556993795468, 137.59173007684797, 631.3669946264365, 213.53573778119875, 474.6440881696875, 278.43601317502845, 453.5502472115105, 947.8497052945625, 1354.6922064297373, 1336.7494030517878, 679.9691094258379, 428.59095303411414, 1256.243040922471, 990.0984225581414, 771.3087256984453, 52.623423207800464, 27.192040520075487, 23.800260543876238, 12.785119980806929, 11.084711623618453, 16.200563990414196, 10.235998961226851, 8.54127558448814, 8.540700881879605, 8.539871283217801, 6.846234030263635, 6.846236937863289, 16.283323322710114, 6.846711763821577, 6.846891060537479, 60.66102642514692, 5.998482248357767, 5.998479612398128, 5.998425794346886, 5.997618399869454, 5.997452658187034, 5.997634245644626, 5.996933268731507, 5.997037505702389, 5.997233539225574, 5.994807120766748, 5.997597347917334, 5.994138569312392, 6.007522810816135, 5.15072564412484, 20.732403404485368, 39.07978324280268, 20.80430055313255, 46.23715470851391, 14.694015690541072, 10.327796010586844, 11.224298832599105, 8.612151515806064, 10.376719280801588, 18.365748045537526, 28.19136135051319, 33.66147305613758, 51.45808946062001, 12.199676861257725, 15.680449989409858, 70.00526387915576, 320.8166218111444, 34.679789290127296, 31.943993906890434, 28.399438461914045, 162.8520297964453, 104.37587020637088, 1354.6922064297373, 35.62513533391172, 75.32552621532206, 30.29559973469609, 1256.243040922471, 68.6600359787006, 399.4427875051173, 947.8497052945625, 323.44143844511717, 1336.7494030517878, 474.6440881696875, 990.0984225581414, 311.5382895822807, 135.4579239656777, 204.09594242495308, 173.91072181638782, 96.79478690675779, 631.3669946264365, 523.4492269250674, 243.2429003630816, 133.95296670868845, 280.4936305559329, 453.5502472115105, 309.80136878298384, 506.9453426861988, 771.3087256984453, 390.13737023040136, 410.7710196673726, 260.31619603555384, 608.2838445853142, 387.1558483372979, 428.59095303411414, 705.5779490268307, 576.156593567773], \"Category\": [\"Default\", \"Default\", \"Default\", \"Default\", \"Default\", \"Default\", \"Default\", \"Default\", \"Default\", \"Default\", \"Default\", \"Default\", \"Default\", \"Default\", \"Default\", \"Default\", \"Default\", \"Default\", \"Default\", \"Default\", \"Default\", \"Default\", \"Default\", \"Default\", \"Default\", \"Default\", \"Default\", \"Default\", \"Default\", \"Default\", \"Topic1\", \"Topic1\", \"Topic1\", \"Topic1\", \"Topic1\", \"Topic1\", \"Topic1\", \"Topic1\", \"Topic1\", \"Topic1\", \"Topic1\", \"Topic1\", \"Topic1\", \"Topic1\", \"Topic1\", \"Topic1\", \"Topic1\", \"Topic1\", \"Topic1\", \"Topic1\", \"Topic1\", \"Topic1\", \"Topic1\", \"Topic1\", \"Topic1\", \"Topic1\", \"Topic1\", \"Topic1\", \"Topic1\", \"Topic1\", \"Topic1\", \"Topic1\", \"Topic1\", \"Topic1\", \"Topic1\", \"Topic1\", \"Topic1\", \"Topic1\", \"Topic1\", \"Topic1\", \"Topic1\", \"Topic1\", \"Topic1\", \"Topic1\", \"Topic1\", \"Topic1\", \"Topic1\", \"Topic1\", \"Topic1\", \"Topic1\", \"Topic1\", \"Topic1\", \"Topic1\", \"Topic1\", \"Topic1\", \"Topic1\", \"Topic1\", \"Topic1\", \"Topic1\", \"Topic1\", \"Topic1\", \"Topic1\", \"Topic1\", \"Topic1\", \"Topic1\", \"Topic1\", \"Topic1\", \"Topic1\", \"Topic1\", \"Topic1\", \"Topic1\", \"Topic1\", \"Topic1\", \"Topic1\", \"Topic1\", \"Topic1\", \"Topic1\", \"Topic1\", \"Topic1\", \"Topic1\", \"Topic1\", \"Topic1\", \"Topic2\", \"Topic2\", \"Topic2\", \"Topic2\", \"Topic2\", \"Topic2\", \"Topic2\", \"Topic2\", \"Topic2\", \"Topic2\", \"Topic2\", \"Topic2\", \"Topic2\", \"Topic2\", \"Topic2\", \"Topic2\", \"Topic2\", \"Topic2\", \"Topic2\", \"Topic2\", \"Topic2\", \"Topic2\", \"Topic2\", \"Topic2\", \"Topic2\", \"Topic2\", \"Topic2\", \"Topic2\", \"Topic2\", \"Topic2\", \"Topic2\", \"Topic2\", \"Topic2\", \"Topic2\", \"Topic2\", \"Topic2\", \"Topic2\", \"Topic2\", \"Topic2\", \"Topic2\", \"Topic2\", \"Topic2\", \"Topic2\", \"Topic2\", \"Topic2\", \"Topic2\", \"Topic2\", \"Topic2\", \"Topic2\", \"Topic2\", \"Topic2\", \"Topic2\", \"Topic2\", \"Topic2\", \"Topic2\", \"Topic2\", \"Topic2\", \"Topic2\", \"Topic2\", \"Topic2\", \"Topic2\", \"Topic2\", \"Topic2\", \"Topic2\", \"Topic2\", \"Topic2\", \"Topic2\", \"Topic2\", \"Topic2\", \"Topic2\", \"Topic2\", \"Topic2\", \"Topic2\", \"Topic2\", \"Topic2\", \"Topic2\", \"Topic2\", \"Topic2\", \"Topic2\", \"Topic2\", \"Topic2\", \"Topic2\", \"Topic2\", \"Topic2\", \"Topic2\", \"Topic3\", \"Topic3\", \"Topic3\", \"Topic3\", \"Topic3\", \"Topic3\", \"Topic3\", \"Topic3\", \"Topic3\", \"Topic3\", \"Topic3\", \"Topic3\", \"Topic3\", \"Topic3\", \"Topic3\", \"Topic3\", \"Topic3\", \"Topic3\", \"Topic3\", \"Topic3\", \"Topic3\", \"Topic3\", \"Topic3\", \"Topic3\", \"Topic3\", \"Topic3\", \"Topic3\", \"Topic3\", \"Topic3\", \"Topic3\", \"Topic3\", \"Topic3\", \"Topic3\", \"Topic3\", \"Topic3\", \"Topic3\", \"Topic3\", \"Topic3\", \"Topic3\", \"Topic3\", \"Topic3\", \"Topic3\", \"Topic3\", \"Topic3\", \"Topic3\", \"Topic3\", \"Topic3\", \"Topic3\", \"Topic3\", \"Topic3\", \"Topic3\", \"Topic3\", \"Topic3\", \"Topic3\", \"Topic3\", \"Topic3\", \"Topic3\", \"Topic3\", \"Topic3\", \"Topic3\", \"Topic3\", \"Topic3\", \"Topic3\", \"Topic3\", \"Topic3\", \"Topic3\", \"Topic3\", \"Topic3\", \"Topic3\", \"Topic3\", \"Topic3\", \"Topic3\", \"Topic3\", \"Topic3\", \"Topic3\", \"Topic3\", \"Topic3\", \"Topic4\", \"Topic4\", \"Topic4\", \"Topic4\", \"Topic4\", \"Topic4\", \"Topic4\", \"Topic4\", \"Topic4\", \"Topic4\", \"Topic4\", \"Topic4\", \"Topic4\", \"Topic4\", \"Topic4\", \"Topic4\", \"Topic4\", \"Topic4\", \"Topic4\", \"Topic4\", \"Topic4\", \"Topic4\", \"Topic4\", \"Topic4\", \"Topic4\", \"Topic4\", \"Topic4\", \"Topic4\", \"Topic4\", \"Topic4\", \"Topic4\", \"Topic4\", \"Topic4\", \"Topic4\", \"Topic4\", \"Topic4\", \"Topic4\", \"Topic4\", \"Topic4\", \"Topic4\", \"Topic4\", \"Topic4\", \"Topic4\", \"Topic4\", \"Topic4\", \"Topic4\", \"Topic4\", \"Topic4\", \"Topic4\", \"Topic4\", \"Topic4\", \"Topic4\", \"Topic4\", \"Topic4\", \"Topic4\", \"Topic4\", \"Topic4\", \"Topic4\", \"Topic4\", \"Topic4\", \"Topic4\", \"Topic4\", \"Topic4\", \"Topic4\", \"Topic4\", \"Topic4\", \"Topic4\", \"Topic4\", \"Topic4\", \"Topic4\", \"Topic4\", \"Topic4\", \"Topic4\", \"Topic4\", \"Topic4\", \"Topic4\", \"Topic4\", \"Topic4\", \"Topic4\", \"Topic4\", \"Topic4\", \"Topic4\", \"Topic4\", \"Topic4\", \"Topic4\", \"Topic4\"], \"logprob\": [30.0, 29.0, 28.0, 27.0, 26.0, 25.0, 24.0, 23.0, 22.0, 21.0, 20.0, 19.0, 18.0, 17.0, 16.0, 15.0, 14.0, 13.0, 12.0, 11.0, 10.0, 9.0, 8.0, 7.0, 6.0, 5.0, 4.0, 3.0, 2.0, 1.0, -6.4124, -6.6885, -6.6907, -6.9253, -6.9651, -6.9656, -7.1377, -7.1617, -7.3782, -7.5403, -7.6141, -7.6527, -7.6931, -7.128, -7.6935, -6.8911, -7.8734, -7.7425, -7.9256, -7.9773, -6.5917, -7.9775, -7.9779, -7.9811, -7.5249, -8.0943, -7.598, -8.2249, -8.2259, -8.298, -6.2497, -6.8176, -6.2021, -6.5316, -5.491, -6.8552, -7.0634, -5.5418, -7.4794, -5.6384, -6.8389, -6.5002, -6.9624, -6.6976, -6.2035, -4.4613, -6.8551, -5.9591, -6.1873, -6.3391, -5.915, -4.6944, -6.4134, -5.9588, -5.8863, -4.4285, -6.2901, -4.3825, -5.3781, -5.0415, -4.4677, -6.0433, -5.3791, -4.7292, -5.4064, -6.0111, -5.5805, -5.75, -5.6813, -6.0788, -5.9886, -5.5739, -5.7607, -5.286, -5.5503, -5.9997, -5.8356, -5.7216, -5.9441, -5.8595, -5.8288, -5.8704, -6.6047, -7.5492, -7.3528, -7.5502, -7.0342, -7.8659, -7.9271, -7.9288, -8.0679, -7.1804, -7.5714, -8.1462, -8.1513, -8.1533, -6.4704, -8.1568, -8.3256, -8.3264, -8.3274, -8.3285, -8.4273, -8.4274, -8.4275, -8.4275, -8.4276, -8.4277, -8.428, -8.4335, -7.9676, -4.8211, -5.4897, -6.3647, -6.7891, -6.3577, -7.6464, -7.7475, -6.8658, -7.6173, -5.4969, -6.3991, -5.7998, -7.8038, -6.6266, -7.1542, -4.59, -4.477, -7.0995, -7.3894, -6.2312, -5.6387, -4.8332, -6.3795, -6.2339, -6.0634, -5.7618, -6.7606, -6.6497, -5.182, -5.9848, -5.7219, -4.555, -5.9062, -5.083, -6.0165, -5.2454, -4.4572, -5.0675, -5.1411, -5.0219, -5.5641, -5.8572, -4.6402, -4.7016, -4.8838, -5.432, -5.6225, -5.5642, -5.7002, -5.7557, -5.5976, -5.7012, -5.3912, -5.6083, -5.5967, -5.5654, -6.5258, -6.6792, -6.8607, -6.965, -7.0023, -7.0814, -7.1258, -5.0613, -7.2615, -7.3123, -7.3654, -7.3654, -7.3655, -6.7863, -7.0529, -6.3483, -7.545, -7.545, -7.545, -5.5691, -7.551, -7.6157, -7.6856, -7.6864, -7.5538, -7.6876, -6.5881, -7.6894, -7.7641, -7.7641, -6.8342, -6.2962, -6.653, -6.6542, -7.0425, -5.3683, -5.9607, -6.1555, -5.9743, -5.708, -6.7672, -6.0478, -5.1222, -4.0886, -6.3914, -5.9162, -5.1062, -5.3684, -6.4525, -5.8749, -6.2001, -4.8592, -5.224, -5.4022, -5.0382, -5.7419, -6.0095, -6.0783, -5.7057, -5.8587, -5.7092, -5.6892, -5.6016, -5.9063, -5.1644, -5.7203, -5.3893, -5.631, -5.4523, -5.1971, -5.1332, -5.2037, -5.4054, -5.5387, -5.2677, -5.3995, -5.6646, -5.7575, -6.4303, -6.5676, -7.22, -7.3671, -6.988, -7.453, -7.6482, -7.6487, -7.6512, -7.8916, -7.8916, -7.0288, -7.896, -7.8976, -5.7184, -8.0401, -8.0401, -8.0401, -8.0409, -8.0412, -8.0415, -8.0419, -8.0421, -8.0424, -8.045, -8.0447, -8.048, -8.0584, -8.2145, -6.8622, -6.2984, -6.895, -6.1773, -7.2225, -7.5538, -7.4838, -7.7249, -7.5829, -7.1172, -6.7703, -6.6891, -6.3641, -7.4975, -7.3111, -6.2236, -5.1703, -6.7506, -6.8193, -6.9124, -5.7317, -6.0721, -4.5168, -6.7739, -6.3313, -6.8841, -4.6831, -6.3997, -5.3612, -4.8607, -5.4903, -4.7152, -5.3019, -4.9142, -5.5587, -6.0399, -5.8367, -5.9307, -6.2243, -5.4621, -5.5508, -5.8701, -6.1178, -5.8243, -5.6563, -5.8311, -5.6764, -5.5809, -5.7935, -5.7924, -5.9274, -5.7452, -5.8474, -5.8424, -5.8275, -5.9068], \"loglift\": [30.0, 29.0, 28.0, 27.0, 26.0, 25.0, 24.0, 23.0, 22.0, 21.0, 20.0, 19.0, 18.0, 17.0, 16.0, 15.0, 14.0, 13.0, 12.0, 11.0, 10.0, 9.0, 8.0, 7.0, 6.0, 5.0, 4.0, 3.0, 2.0, 1.0, 0.9531, 0.95, 0.9478, 0.9477, 0.9465, 0.946, 0.9446, 0.9442, 0.9394, 0.9365, 0.9344, 0.9336, 0.9325, 0.9322, 0.9321, 0.9273, 0.9269, 0.9249, 0.9239, 0.9233, 0.9233, 0.9232, 0.9229, 0.9201, 0.9186, 0.9181, 0.9165, 0.9129, 0.9121, 0.9092, 0.9077, 0.9042, 0.8884, 0.8938, 0.8312, 0.8817, 0.8895, 0.8076, 0.901, 0.7954, 0.8648, 0.8317, 0.8575, 0.8304, 0.7672, 0.5591, 0.8358, 0.7131, 0.7402, 0.7589, 0.6911, 0.4583, 0.768, 0.68, 0.6285, 0.2365, 0.7209, 0.207, 0.4639, 0.3487, 0.1351, 0.6454, 0.4037, 0.1738, 0.3479, 0.603, 0.3536, 0.3994, 0.3233, 0.56, 0.4752, 0.1099, 0.2116, -0.3394, -0.1059, 0.4522, 0.1944, -0.1812, 0.2948, -0.2871, -0.4759, -0.3851, 1.1991, 1.1803, 1.1801, 1.1795, 1.1676, 1.1668, 1.1659, 1.1646, 1.159, 1.1589, 1.1582, 1.1549, 1.1506, 1.1483, 1.148, 1.1453, 1.1433, 1.1425, 1.1418, 1.1406, 1.137, 1.1368, 1.1368, 1.1367, 1.1367, 1.1366, 1.1364, 1.1318, 1.1294, 1.1286, 1.1232, 1.119, 1.1225, 1.1065, 1.1269, 1.127, 1.1083, 1.1157, 1.0357, 1.0557, 1.0186, 1.1164, 1.0454, 1.0781, 0.8953, 0.8018, 1.0521, 1.0726, 0.9412, 0.8533, 0.7278, 0.9349, 0.912, 0.8819, 0.8296, 0.9901, 0.9691, 0.6339, 0.7802, 0.7092, 0.3916, 0.7378, 0.4895, 0.7564, 0.4607, 0.1457, 0.3769, 0.3993, 0.331, 0.5548, 0.6729, -0.0507, -0.0367, 0.0192, 0.3083, 0.3993, 0.2465, 0.3732, 0.416, 0.1567, 0.3252, -0.3708, 0.03, -0.2065, -0.4127, 1.6078, 1.6047, 1.6003, 1.5977, 1.5968, 1.5946, 1.5912, 1.5903, 1.5888, 1.5868, 1.585, 1.5849, 1.5849, 1.5837, 1.5836, 1.5787, 1.5772, 1.5772, 1.5772, 1.5754, 1.5715, 1.5714, 1.5701, 1.5695, 1.5685, 1.5684, 1.5683, 1.5668, 1.5658, 1.5657, 1.5632, 1.5541, 1.5514, 1.5503, 1.5575, 1.509, 1.5273, 1.5324, 1.4622, 1.4274, 1.5143, 1.434, 1.3093, 1.1532, 1.4558, 1.3662, 1.2005, 1.2193, 1.4341, 1.2698, 1.3553, 0.9752, 1.0578, 1.0787, 0.866, 1.1025, 1.1968, 1.201, 0.9634, 1.0446, 0.9336, 0.8574, 0.7072, 0.9702, 0.1885, 0.7167, 0.2489, 0.5406, 0.2314, -0.2505, -0.5437, -0.6009, -0.1266, 0.2016, -0.6028, -0.4965, -0.5119, 2.0802, 2.0676, 2.0635, 2.0325, 2.0282, 2.0278, 2.0219, 2.0077, 2.0073, 2.0049, 1.9855, 1.9855, 1.9818, 1.981, 1.9795, 1.9771, 1.9692, 1.9692, 1.9692, 1.9685, 1.9683, 1.968, 1.9676, 1.9674, 1.9671, 1.9649, 1.9648, 1.962, 1.9494, 1.9472, 1.907, 1.8368, 1.8707, 1.7897, 1.8909, 1.9122, 1.8989, 1.9228, 1.8784, 1.7732, 1.6915, 1.5953, 1.4959, 1.8019, 1.7374, 1.3286, 0.8596, 1.5041, 1.5175, 1.5421, 0.9763, 1.0808, 0.0727, 1.4539, 1.1477, 1.5057, -0.0182, 1.172, 0.4495, 0.0859, 0.5315, -0.1124, 0.3363, -0.0111, 0.5006, 0.8523, 0.6456, 0.7116, 1.0039, -0.1092, -0.0104, 0.4367, 0.7856, 0.3399, 0.0275, 0.2338, -0.104, -0.4282, 0.0408, -0.0096, 0.3115, -0.355, -0.0054, -0.1021, -0.5857, -0.4624]}, \"token.table\": {\"Topic\": [1, 1, 2, 3, 4, 1, 2, 3, 4, 1, 4, 1, 2, 3, 4, 1, 1, 2, 3, 4, 1, 2, 4, 1, 2, 3, 4, 1, 2, 3, 4, 1, 2, 4, 4, 3, 3, 3, 1, 2, 3, 4, 1, 2, 3, 4, 3, 1, 2, 4, 1, 2, 3, 4, 3, 1, 2, 3, 4, 1, 2, 3, 4, 1, 4, 1, 2, 4, 2, 4, 2, 3, 1, 2, 2, 4, 2, 3, 1, 2, 3, 2, 2, 1, 2, 3, 4, 1, 2, 3, 4, 2, 2, 1, 2, 3, 4, 1, 2, 4, 1, 4, 4, 1, 1, 2, 4, 2, 4, 1, 2, 3, 4, 2, 3, 4, 1, 1, 2, 3, 4, 1, 2, 3, 4, 1, 2, 3, 4, 1, 2, 3, 4, 1, 2, 3, 4, 2, 3, 3, 3, 1, 2, 3, 4, 1, 2, 3, 4, 1, 2, 3, 4, 1, 1, 2, 1, 4, 1, 4, 3, 4, 1, 4, 1, 1, 1, 2, 3, 4, 1, 2, 3, 4, 1, 1, 2, 3, 4, 1, 2, 3, 4, 1, 2, 3, 4, 1, 2, 3, 4, 1, 2, 3, 4, 2, 3, 4, 4, 3, 2, 3, 4, 1, 2, 3, 4, 1, 2, 3, 4, 1, 2, 3, 4, 1, 2, 3, 4, 1, 2, 1, 2, 3, 4, 1, 2, 3, 4, 4, 4, 1, 2, 3, 4, 2, 1, 4, 1, 2, 3, 4, 1, 2, 3, 4, 1, 2, 4, 1, 2, 1, 4, 2, 4, 1, 1, 2, 3, 4, 2, 1, 2, 3, 4, 2, 3, 4, 1, 2, 4, 1, 1, 3, 1, 2, 3, 4, 1, 2, 3, 4, 2, 2, 3, 1, 2, 3, 4, 1, 2, 3, 4, 2, 3, 4, 2, 1, 2, 3, 4, 3, 4, 1, 2, 3, 4, 1, 2, 3, 4, 1, 2, 1, 1, 2, 3, 4, 3, 3, 2, 4, 1, 2, 3, 4, 1, 2, 3, 1, 2, 3, 4, 1, 2, 1, 2, 3, 4, 1, 3, 4, 4, 2, 1, 2, 3, 4, 1, 2, 3, 4, 1, 2, 3, 4, 1, 2, 3, 4, 1, 2, 3, 4, 2, 1, 2, 3, 4, 1, 2, 4, 4, 1, 1, 2, 3, 4, 1, 2, 3, 4, 1, 2, 3, 4, 1, 2, 3, 4, 1, 4, 1, 2, 1, 3, 2, 3, 2, 3, 1, 2, 3, 4, 1, 2, 4, 1, 2, 3, 1, 2, 3, 4, 1, 2, 3, 4, 1, 2, 2, 4, 3, 3, 1, 4, 1, 4, 3, 2, 3, 1, 2, 3, 4, 1, 2, 3, 4, 1, 2, 3, 4, 1, 2, 3, 4, 1, 1, 2, 4, 1, 2, 1, 2, 4, 3, 1, 2, 4, 1, 1, 2, 1, 2, 3, 4, 2, 3, 4, 2, 1, 2, 3, 4, 3, 4, 1, 2, 4, 2, 2, 2, 3, 1, 4, 1, 2, 3, 4, 1, 2, 3, 4, 1, 3, 4, 1, 2, 3, 4, 1, 2, 1, 2, 3, 4, 1, 2, 3, 1, 2, 3, 4, 2, 4, 4, 1, 2, 3, 4, 1, 2, 3, 4, 1, 2, 1, 1, 1, 1, 1, 1, 1, 2, 3, 4, 1, 2, 4, 4, 1, 2, 3, 4, 1, 2, 3, 4, 1, 2, 3, 4, 2, 4, 1, 2, 3, 4, 1, 2, 3, 4, 1, 2, 4, 1, 3, 1, 2, 3, 4, 4, 3, 4, 1, 3, 4, 1, 1, 2, 3, 4, 1, 2, 3, 4, 2, 4, 1, 3, 1, 2, 3, 4, 1, 2, 3, 4, 4, 1, 2, 3, 4, 3, 1, 2, 3, 4, 1, 2, 3, 4, 1, 2, 3, 4, 1, 2, 1, 2, 3, 4, 1, 2, 3, 4, 4, 1, 2, 3, 4, 4, 1, 2, 3, 4, 4, 1, 2, 3, 4, 1, 4, 1, 2, 3, 4, 1, 2, 3, 4, 2, 2, 1, 2, 3, 4, 1, 2, 3, 4, 3, 4, 1, 2, 3, 4, 1, 2, 3, 4, 1, 2, 3, 4, 1, 3, 4, 3, 1, 4, 3, 2, 3, 2, 3, 4, 1, 2, 3, 4, 3, 4, 4, 1, 2, 3, 4, 1, 2, 3, 4, 1, 2, 3, 4], \"Freq\": [0.94548761207436, 0.23253667764601246, 0.6976100329380374, 0.04947588886085372, 0.019790355544341484, 0.16716120937758397, 0.2761793894064431, 0.5160193854699331, 0.03633939334295304, 0.19226793949569773, 0.8171387428567154, 0.5418205146453429, 0.3478061818902419, 0.09464113792931753, 0.014196170689397629, 0.9821115093794409, 0.8580412174716403, 0.11583556435867144, 0.02145103043679101, 0.004290206087358202, 0.06533979674668455, 0.8929772222046888, 0.021779932248894848, 0.7898726920726848, 0.024943348170716365, 0.04988669634143273, 0.1330311902438206, 0.3630890326096509, 0.03300809387360463, 0.03300809387360463, 0.5611375958512786, 0.17420034432457823, 0.8013215838930599, 0.017420034432457824, 0.9366282495941058, 0.9708302515813886, 0.9829262436283455, 0.9295239567736042, 0.16880000350549193, 0.45252766897216984, 0.33760000701098386, 0.04309787323544475, 0.04042784024198768, 0.2627809615729199, 0.6468454438718029, 0.050534800302484605, 0.9418052718652041, 0.26736797837072096, 0.11883021260920933, 0.5941510630460466, 0.13040221157647422, 0.06985832763025404, 0.7311838291966589, 0.06985832763025404, 0.9415994070101327, 0.6704680237125669, 0.09168793486667581, 0.06876595115000686, 0.17191487787501714, 0.7287865513958065, 0.12648361635794989, 0.06023029350378566, 0.08432241090529993, 0.11611500310516819, 0.8128050217361773, 0.1279433913165537, 0.10235471305324294, 0.7676603478993221, 0.9372657528049, 0.06694755377177858, 0.08179724099064932, 0.9161290990952723, 0.8784167593261669, 0.11154498531125928, 0.9613763993856025, 0.8336671686931851, 0.9712900332137887, 0.9829261921539096, 0.12958588473030386, 0.8552668392200053, 0.012958588473030384, 0.903558455714315, 0.9735499014068607, 0.26726909547105115, 0.5807963036197843, 0.025698951487601075, 0.12849475743800537, 0.10441650806747971, 0.6632654244849767, 0.17353729509806487, 0.058826201728157584, 0.9416480686507251, 0.9920195385181032, 0.25712352189789467, 0.22855424168701746, 0.042853920316315776, 0.47139312347947354, 0.8030212788131521, 0.19119554257456003, 0.007647821702982401, 0.9584844578284629, 0.8337449941317961, 0.8340551913137264, 0.9955478560680562, 0.8224497022286654, 0.11178927991457589, 0.06387958852261479, 0.9031906019265137, 0.9663759754898085, 0.4847788048662985, 0.28656875164510254, 0.10746328186691347, 0.1209956951390433, 0.04073204080334885, 0.9368369384770237, 0.04073204080334885, 0.9641480668077943, 0.31903762850318684, 0.4432139509744871, 0.11462429766581564, 0.12226591751020335, 0.18782873605250028, 0.21913352539458364, 0.031304789342083375, 0.5634862081575008, 0.2879122819709079, 0.3912654088322594, 0.02952946481752901, 0.2879122819709079, 0.43762877220251595, 0.3441183507917219, 0.1077240054652347, 0.10996825557909375, 0.39697958993675153, 0.023013309561550812, 0.5005394829637302, 0.07479325607504014, 0.05773421711754934, 0.9237474738807895, 0.9923821701600798, 0.9612295127073779, 0.88235043426232, 0.011459096548861297, 0.04583638619544519, 0.06875457929316779, 0.05335466663936019, 0.9070293328691232, 0.026677333319680096, 0.026677333319680096, 0.33718009335643584, 0.2060545014955997, 0.4027428892868539, 0.056196682226072645, 0.9722297419229654, 0.9751353120796634, 0.03482626114570227, 0.24590815265993163, 0.7377244579797948, 0.27224592146220206, 0.7078393958017253, 0.9295239883708276, 0.832289806873116, 0.0614125249607563, 0.9211878744113444, 0.9716635876712799, 0.984321010663905, 0.6689833601120496, 0.2055789273009864, 0.08404884320592815, 0.042024421602964074, 0.84489562312849, 0.07468690591191071, 0.056015179433933034, 0.0233396580974721, 0.9902531388808373, 0.23581437467953414, 0.11534398761498953, 0.5228927438546193, 0.12815998623887725, 0.3030632326079087, 0.12018024741348103, 0.4650453052086875, 0.1149550192650688, 0.2086420904703362, 0.35629649295703564, 0.2311112386748339, 0.2022223338404797, 0.1638627389699581, 0.4421202202396982, 0.1824132377212741, 0.2102389858482481, 0.16186051659495188, 0.6162400390843951, 0.15015975635917223, 0.07215468812064119, 0.9308850369873005, 0.04578123132724429, 0.015260410442414763, 0.8763330788517123, 0.9612218066065316, 0.19132104002283842, 0.06377368000761281, 0.701510480083741, 0.5287860826612469, 0.2735100427558174, 0.07597501187661594, 0.12459901947765015, 0.07982404431713155, 0.03991202215856578, 0.8181964542505984, 0.059868033237848665, 0.4644397760902553, 0.15273522837867454, 0.09351136431347422, 0.2898852293717701, 0.31718762498743036, 0.05767047727044188, 0.08650571590566282, 0.5478695340691979, 0.10643643009661267, 0.8869702508051056, 0.15483881606177483, 0.23225822409266225, 0.5912027522358676, 0.02111438400842384, 0.816300079282737, 0.0997700096901123, 0.05442000528551579, 0.0362800035236772, 0.7765896062747174, 0.8763101306783464, 0.4277365103265598, 0.19843446355355865, 0.249145493128357, 0.12567516025058714, 0.9040667149509853, 0.9477506380148387, 0.05077235560793779, 0.3014216800156041, 0.6356065861198609, 0.04586851652411367, 0.013105290435461048, 0.5690385386230465, 0.3723338586052033, 0.017562917858736003, 0.038638419289219204, 0.7820824923357892, 0.20737035781630775, 0.011849734732360442, 0.08184811624065413, 0.9207913077073591, 0.17818484965772055, 0.8018318234597426, 0.9614566436295182, 0.8336872810783381, 0.9353511481300287, 0.013079774327964436, 0.902504428629546, 0.03923932298389331, 0.05231909731185774, 0.9737027151581131, 0.14638772065721742, 0.7544597910795051, 0.0337817816901271, 0.056302969483545164, 0.06697833360332156, 0.9109053370051733, 0.026791333441328627, 0.4236975129278132, 0.24562174662481925, 0.3254488142778855, 0.9610068799031735, 0.042241830661023196, 0.9715621052035335, 0.11197960275580124, 0.05972245480309399, 0.5598980137790062, 0.26875104661392296, 0.3544880624884275, 0.19161516891266353, 0.08622682601069859, 0.3640688209340607, 0.9710398086171543, 0.05484782274276581, 0.9324129866270188, 0.3515900610248301, 0.43297664922502227, 0.13347400464831513, 0.08464205172819984, 0.4737292441515452, 0.18831473059440307, 0.23539341324300384, 0.10298461829381417, 0.05484818747410831, 0.9324191870598412, 0.9769442179389821, 0.971124025845803, 0.1863026499027649, 0.02866194613888691, 0.759541572680503, 0.014330973069443455, 0.970801585290822, 0.0323600528430274, 0.19464865553984398, 0.043255256786631995, 0.021627628393315997, 0.7353393653727439, 0.6987878451580719, 0.2683345325406996, 0.027951513806322877, 0.005590302761264576, 0.9311077225615308, 0.06291268395686019, 0.9408796157618152, 0.34602707580085335, 0.17713290785043684, 0.39957888515098544, 0.07414865910018287, 0.9809375392137937, 0.9613936004701182, 0.06172624611042527, 0.9258936916563791, 0.20241402026035563, 0.7162342255366431, 0.031140618501593175, 0.04671092775238976, 0.993956685390894, 0.9415133039719658, 0.031383776799065524, 0.1460328331269258, 0.21241139363916478, 0.2522385299465082, 0.3849956509709862, 0.9382023171603244, 0.06396833980638575, 0.2039031847338824, 0.3786773430772101, 0.014564513195277313, 0.3932418562724874, 0.9821441682100328, 0.9557566681915255, 0.04155463774745763, 0.9021434512281553, 0.9038876386576576, 0.5988880303579304, 0.1663577862105362, 0.10456775133233705, 0.12833314936241366, 0.3661692455884504, 0.05905955574007265, 0.513818134938632, 0.05905955574007265, 0.26576801742876244, 0.517906905758614, 0.08858933914292082, 0.1294767264396535, 0.2721950521890193, 0.4399431657473684, 0.15297783940855736, 0.1339874869302537, 0.2683120768196566, 0.4712371769353632, 0.16008535675794636, 0.09920782672323436, 0.9624544243353025, 0.11418312711345681, 0.7421903262374693, 0.03806104237115227, 0.10466786652066874, 0.07191271161351448, 0.9204827086529853, 0.008629525393621737, 0.9881531232710066, 0.9763467253965568, 0.46490106996514596, 0.14463588843360098, 0.05165567444057177, 0.3409274513077737, 0.05025376241547235, 0.9157352262374963, 0.011167502758993857, 0.022335005517987713, 0.4703670188607478, 0.24988247876977226, 0.0440969080181951, 0.2351835094303739, 0.3946672229968628, 0.320667118684951, 0.0986668057492157, 0.18911137768599676, 0.14470102387410438, 0.8199724686199248, 0.969325191732379, 0.01864086907177652, 0.9733030239007672, 0.02373909814392115, 0.03325864559446636, 0.9312420766450581, 0.9614220802562308, 0.9612284617819324, 0.45551027021610674, 0.3030001797446386, 0.12019007129870665, 0.12221007249700425, 0.10404571844924473, 0.858377177206269, 0.026011429612311184, 0.019186900739594368, 0.13430830517716058, 0.8442236325421522, 0.027223008216881416, 0.288563887098943, 0.6642414004919065, 0.01633380493012885, 0.28602689045662183, 0.48525941415399293, 0.11638335542717716, 0.11046555769359188, 0.05609589379221965, 0.8975343006755144, 0.9111035108604905, 0.053594324168264144, 0.9887599497541067, 0.9419694224622753, 0.19273914479890436, 0.7709565791956174, 0.3192467326462106, 0.6739653244753335, 0.966790882846552, 0.0888602321947857, 0.888602321947857, 0.6069907015721051, 0.14722753187068083, 0.12139814031442103, 0.12139814031442103, 0.35100144195878547, 0.4131255909780395, 0.19569106941065031, 0.04348690431347785, 0.10872364468397934, 0.21744728936795868, 0.6523418681038761, 0.021744728936795868, 0.7563562800832841, 0.14324929547031898, 0.06302969000694035, 0.03437983091287655, 0.9356942022844004, 0.91413457894603, 0.06648251483243854, 0.016620628708109635, 0.14491586663696474, 0.8533934368621258, 0.05639403624529887, 0.8741075618021324, 0.05639403624529887, 0.952439052728005, 0.6988277895840841, 0.02437771359014247, 0.2762807540216146, 0.9965470440680969, 0.9272792114661204, 0.06301897553653245, 0.8281041547339373, 0.019716765588903267, 0.10844221073896798, 0.039433531177806534, 0.9614204589015559, 0.9612279252496768, 0.9561621527006985, 0.9614565094639239, 0.1862075739562531, 0.6051746153578226, 0.11637973372265818, 0.09310378697812655, 0.9765786942422404, 0.833544185509405, 0.04652292023031092, 0.9304584046062184, 0.04652292023031092, 0.9147930710338499, 0.9713856759875795, 0.9572804352462165, 0.02735086957846333, 0.9721946499620482, 0.03739210192161724, 0.6156984632752978, 0.091392740642427, 0.1443043273301479, 0.1443043273301479, 0.24265561198563612, 0.4059815046682758, 0.2403223849473127, 0.11199489783952438, 0.9633550582418976, 0.013762215117741394, 0.013762215117741394, 0.2516621537724955, 0.561206602912665, 0.17113026456529695, 0.017616350764074685, 0.04636222194608244, 0.9272444389216488, 0.2653696682372617, 0.38053009030248847, 0.16022319591683726, 0.19276853258744484, 0.0665649640551933, 0.10650394248830927, 0.8254055542843969, 0.23757972981902722, 0.4149725947505676, 0.23757972981902722, 0.11087054058221271, 0.9338774196557186, 0.8763938575974265, 0.8335520303863998, 0.9277939920468887, 0.03436274044618107, 0.017181370223090534, 0.017181370223090534, 0.2709508941410523, 0.299472040892742, 0.2566903207652074, 0.1746920238540995, 0.048437882192483836, 0.920319761657193, 0.9610884634923911, 0.9950902473533012, 0.9842853297298562, 0.9671158393986362, 0.9810111375317084, 0.9765190908913071, 0.7652548662992011, 0.12754247771653351, 0.011090650236220306, 0.09427052700787261, 0.14035034402354896, 0.3368408256565175, 0.5333313072894861, 0.8763942298024177, 0.23402830981060802, 0.6500786383628001, 0.006500786383628001, 0.11051336852167601, 0.20766724466111117, 0.683115936385234, 0.027324637455409362, 0.08743883985730996, 0.5437757383769597, 0.18125857945898657, 0.2010837365873132, 0.0736362979052133, 0.09682607973423539, 0.8714347176081185, 0.23038285418946444, 0.622033706311554, 0.06335528490210272, 0.08063399896631256, 0.2760036845265793, 0.32775437537531293, 0.14950199578523046, 0.2530033774826977, 0.15267584910814505, 0.7786468304515398, 0.061070339643258024, 0.948325815737748, 0.03270089019785338, 0.1563315679279348, 0.7621163936486821, 0.0781657839639674, 0.009770722995495924, 0.9366912751824872, 0.9416387739114148, 0.8337594860477109, 0.2914993571900729, 0.15546632383470557, 0.5441321334214695, 0.9826917327121393, 0.2603558393135903, 0.7286347447456728, 0.009040133309499663, 0.0018080266618999326, 0.718789979578342, 0.11136182782199665, 0.07086661770490696, 0.10629992655736044, 0.9614310446712244, 0.9367822692739253, 0.029019209469893236, 0.9634377544004555, 0.6054644326461057, 0.19706765259573464, 0.11798129201455165, 0.0803828582956286, 0.5425098873453907, 0.2416634952720377, 0.12987357909177535, 0.08713037584638093, 0.8336642424781195, 0.164443185809078, 0.12744346900203543, 0.653661663591085, 0.053444035387950346, 0.9829103997573113, 0.9352723505336201, 0.9615493169229848, 0.950047528181494, 0.0475023764090747, 0.5147585975852934, 0.2304889242919224, 0.08835408764523692, 0.16902521114740976, 0.4702175128613163, 0.2827210477643393, 0.11441713421272218, 0.1328715106986451, 0.8960450592332381, 0.09333802700346229, 0.061718108098368994, 0.8229081079782532, 0.08914837836431076, 0.027430270265941775, 0.05668188426621138, 0.8399224668538595, 0.0515289856965558, 0.05668188426621138, 0.8336620399336472, 0.8767789383225135, 0.012525413404607336, 0.06680220482457246, 0.04175137801535779, 0.9385911135769117, 0.22812637588840748, 0.21438382312404558, 0.4672467939883045, 0.08795233769191614, 0.8341482169928491, 0.17290789794135242, 0.13464139593793836, 0.6236022548704514, 0.06802933689495833, 0.9432147969880282, 0.04812320392796063, 0.343656572207065, 0.43390981339275886, 0.14405805804639593, 0.07810376641069659, 0.1684078806708172, 0.20850499511624984, 0.5653693136806005, 0.05613596022360573, 0.9335560388367787, 0.9521062075824541, 0.19005438062080005, 0.028508157093120007, 0.7032012082969601, 0.07602175224832002, 0.06543180805212782, 0.054526506710106525, 0.7742763952835127, 0.09814771207819174, 0.09891029469149751, 0.8901926522234777, 0.26756890724107557, 0.3075989012377719, 0.2528210147159769, 0.1727610267225842, 0.8860684092878804, 0.04922602273821558, 0.03281734849214372, 0.03281734849214372, 0.3169076744974987, 0.07042392766611082, 0.07042392766611082, 0.5633914213288865, 0.11450477852912617, 0.8524244623834949, 0.02544550633980582, 0.9417142531728319, 0.1361098315205593, 0.8166589891233558, 0.9798360932048007, 0.0522719280981886, 0.9408947057673949, 0.0800085766487726, 0.887367850104569, 0.029094027872280947, 0.25932964322768526, 0.09296723059105697, 0.5773754320918275, 0.06850216990919987, 0.9614717606371741, 0.8335445518003608, 0.833717741238013, 0.14121977973264274, 0.009414651982176184, 0.819074722449328, 0.018829303964352367, 0.5720948868065094, 0.15093567226384505, 0.15337011859068125, 0.12172231634181052, 0.4034843373708998, 0.30664809640188384, 0.13234286265765513, 0.15493798555042554], \"Term\": [\"00\", \"01\", \"01\", \"01\", \"01\", \"5\", \"5\", \"5\", \"5\", \"abuse\", \"abuse\", \"account\", \"account\", \"account\", \"account\", \"accountant\", \"accounting\", \"accounting\", \"accounting\", \"accounting\", \"acquisition\", \"acquisition\", \"acquisition\", \"administrative\", \"administrative\", \"administrative\", \"administrative\", \"adult\", \"adult\", \"adult\", \"adult\", \"advertising\", \"advertising\", \"advertising\", \"afscme\", \"aix\", \"allen\", \"amazon\", \"analysis\", \"analysis\", \"analysis\", \"analysis\", \"analyst\", \"analyst\", \"analyst\", \"analyst\", \"apache\", \"applicant\", \"applicant\", \"applicant\", \"application\", \"application\", \"application\", \"application\", \"asp\", \"assistant\", \"assistant\", \"assistant\", \"assistant\", \"assisted\", \"assisted\", \"assisted\", \"assisted\", \"athlete\", \"athlete\", \"attorney\", \"attorney\", \"attorney\", \"audience\", \"audience\", \"automation\", \"automation\", \"billing\", \"billing\", \"biosensors\", \"borrower\", \"bpo\", \"bradley\", \"brand\", \"brand\", \"brand\", \"branding\", \"buch\", \"budget\", \"budget\", \"budget\", \"budget\", \"business\", \"business\", \"business\", \"business\", \"calling\", \"campaign\", \"case\", \"case\", \"case\", \"case\", \"cash\", \"cash\", \"cash\", \"cashier\", \"charlotte\", \"chase\", \"chef\", \"child\", \"child\", \"child\", \"chip\", \"cim\", \"city\", \"city\", \"city\", \"city\", \"classification\", \"classification\", \"classification\", \"cleaned\", \"client\", \"client\", \"client\", \"client\", \"coach\", \"coach\", \"coach\", \"coach\", \"community\", \"community\", \"community\", \"community\", \"company\", \"company\", \"company\", \"company\", \"computer\", \"computer\", \"computer\", \"computer\", \"configuration\", \"configuration\", \"configured\", \"configuring\", \"construction\", \"construction\", \"construction\", \"construction\", \"content\", \"content\", \"content\", \"content\", \"control\", \"control\", \"control\", \"control\", \"cook\", \"cooking\", \"cooking\", \"counsel\", \"counsel\", \"court\", \"court\", \"cpac\", \"crime\", \"criminal\", \"criminal\", \"cuisine\", \"culinary\", \"customer\", \"customer\", \"customer\", \"customer\", \"daily\", \"daily\", \"daily\", \"daily\", \"dance\", \"data\", \"data\", \"data\", \"data\", \"database\", \"database\", \"database\", \"database\", \"design\", \"design\", \"design\", \"design\", \"developed\", \"developed\", \"developed\", \"developed\", \"development\", \"development\", \"development\", \"development\", \"digital\", \"digital\", \"digital\", \"disorder\", \"dns\", \"drafted\", \"drafted\", \"drafted\", \"education\", \"education\", \"education\", \"education\", \"electrical\", \"electrical\", \"electrical\", \"electrical\", \"employee\", \"employee\", \"employee\", \"employee\", \"employment\", \"employment\", \"employment\", \"employment\", \"engagement\", \"engagement\", \"engineering\", \"engineering\", \"engineering\", \"engineering\", \"entry\", \"entry\", \"entry\", \"entry\", \"ew\", \"exit\", \"experience\", \"experience\", \"experience\", \"experience\", \"fda\", \"filing\", \"filing\", \"finance\", \"finance\", \"finance\", \"finance\", \"financial\", \"financial\", \"financial\", \"financial\", \"food\", \"food\", \"food\", \"forecasting\", \"forecasting\", \"forensic\", \"forensic\", \"founder\", \"generalist\", \"gl\", \"global\", \"global\", \"global\", \"global\", \"grew\", \"growth\", \"growth\", \"growth\", \"growth\", \"hardware\", \"hardware\", \"hardware\", \"health\", \"health\", \"health\", \"hospitality\", \"hp\", \"hp\", \"hr\", \"hr\", \"hr\", \"hr\", \"human\", \"human\", \"human\", \"human\", \"hyperion\", \"ibm\", \"ibm\", \"including\", \"including\", \"including\", \"including\", \"information\", \"information\", \"information\", \"information\", \"infrastructure\", \"infrastructure\", \"inmate\", \"instagram\", \"installation\", \"installation\", \"installation\", \"installation\", \"installed\", \"installed\", \"interior\", \"interior\", \"interior\", \"interior\", \"inventory\", \"inventory\", \"inventory\", \"inventory\", \"invoice\", \"invoice\", \"invoicing\", \"issue\", \"issue\", \"issue\", \"issue\", \"java\", \"javascript\", \"justice\", \"justice\", \"key\", \"key\", \"key\", \"key\", \"kitchen\", \"launch\", \"launch\", \"law\", \"law\", \"law\", \"law\", \"ledger\", \"ledger\", \"legal\", \"legal\", \"legal\", \"legal\", \"lesson\", \"linux\", \"linux\", \"litigation\", \"logo\", \"maintained\", \"maintained\", \"maintained\", \"maintained\", \"maintenance\", \"maintenance\", \"maintenance\", \"maintenance\", \"managed\", \"managed\", \"managed\", \"managed\", \"management\", \"management\", \"management\", \"management\", \"manager\", \"manager\", \"manager\", \"manager\", \"manages\", \"market\", \"market\", \"market\", \"market\", \"marketing\", \"marketing\", \"marketing\", \"mdm\", \"meal\", \"medical\", \"medical\", \"medical\", \"medical\", \"medium\", \"medium\", \"medium\", \"medium\", \"meeting\", \"meeting\", \"meeting\", \"meeting\", \"member\", \"member\", \"member\", \"member\", \"mental\", \"mental\", \"menu\", \"menu\", \"merchandise\", \"merchandise\", \"migration\", \"migration\", \"multimedia\", \"mysql\", \"name\", \"name\", \"name\", \"name\", \"negotiation\", \"negotiation\", \"negotiation\", \"net\", \"net\", \"net\", \"network\", \"network\", \"network\", \"network\", \"new\", \"new\", \"new\", \"new\", \"news\", \"news\", \"newspaper\", \"newspaper\", \"novell\", \"nt\", \"nurse\", \"nurse\", \"nursing\", \"nursing\", \"o\", \"object\", \"object\", \"office\", \"office\", \"office\", \"office\", \"operation\", \"operation\", \"operation\", \"operation\", \"oracle\", \"oracle\", \"oracle\", \"oracle\", \"order\", \"order\", \"order\", \"order\", \"ordering\", \"parent\", \"parent\", \"parent\", \"partner\", \"partner\", \"partnership\", \"partnership\", \"partnership\", \"patch\", \"patient\", \"patient\", \"patient\", \"payable\", \"payment\", \"payment\", \"phone\", \"phone\", \"phone\", \"phone\", \"photo\", \"php\", \"piping\", \"pitch\", \"planning\", \"planning\", \"planning\", \"planning\", \"plc\", \"pod\", \"portfolio\", \"portfolio\", \"portfolio\", \"pr\", \"presence\", \"press\", \"press\", \"pressure\", \"pressure\", \"procedure\", \"procedure\", \"procedure\", \"procedure\", \"process\", \"process\", \"process\", \"process\", \"processed\", \"processed\", \"processed\", \"product\", \"product\", \"product\", \"product\", \"profitability\", \"profitability\", \"program\", \"program\", \"program\", \"program\", \"programming\", \"programming\", \"programming\", \"project\", \"project\", \"project\", \"project\", \"prospect\", \"psychiatric\", \"pulp\", \"purchase\", \"purchase\", \"purchase\", \"purchase\", \"quality\", \"quality\", \"quality\", \"quality\", \"radio\", \"radio\", \"receipt\", \"receivable\", \"receivables\", \"reconciled\", \"reconciliation\", \"reconciling\", \"record\", \"record\", \"record\", \"record\", \"recruiting\", \"recruiting\", \"recruiting\", \"refinery\", \"relation\", \"relation\", \"relation\", \"relation\", \"relationship\", \"relationship\", \"relationship\", \"relationship\", \"report\", \"report\", \"report\", \"report\", \"repository\", \"repository\", \"research\", \"research\", \"research\", \"research\", \"resource\", \"resource\", \"resource\", \"resource\", \"retail\", \"retail\", \"retail\", \"return\", \"return\", \"revenue\", \"revenue\", \"revenue\", \"revenue\", \"richmond\", \"robotics\", \"routing\", \"rule\", \"rule\", \"rule\", \"safe\", \"sale\", \"sale\", \"sale\", \"sale\", \"school\", \"school\", \"school\", \"school\", \"sem\", \"serena\", \"server\", \"server\", \"service\", \"service\", \"service\", \"service\", \"skill\", \"skill\", \"skill\", \"skill\", \"softball\", \"software\", \"software\", \"software\", \"software\", \"solaris\", \"sou\", \"spain\", \"sql\", \"sql\", \"staff\", \"staff\", \"staff\", \"staff\", \"state\", \"state\", \"state\", \"state\", \"statement\", \"statement\", \"strategic\", \"strategic\", \"strategic\", \"strategic\", \"strategy\", \"strategy\", \"strategy\", \"strategy\", \"strut\", \"student\", \"student\", \"student\", \"student\", \"substance\", \"support\", \"support\", \"support\", \"support\", \"surgical\", \"system\", \"system\", \"system\", \"system\", \"teacher\", \"teacher\", \"team\", \"team\", \"team\", \"team\", \"technical\", \"technical\", \"technical\", \"technical\", \"television\", \"territory\", \"test\", \"test\", \"test\", \"test\", \"testing\", \"testing\", \"testing\", \"testing\", \"tibco\", \"tibco\", \"training\", \"training\", \"training\", \"training\", \"transaction\", \"transaction\", \"transaction\", \"transaction\", \"treatment\", \"treatment\", \"treatment\", \"treatment\", \"troubleshooting\", \"troubleshooting\", \"troubleshooting\", \"tuning\", \"underwriting\", \"underwriting\", \"unix\", \"upgrade\", \"upgrade\", \"user\", \"user\", \"user\", \"using\", \"using\", \"using\", \"using\", \"version\", \"veterinary\", \"vfd\", \"window\", \"window\", \"window\", \"window\", \"work\", \"work\", \"work\", \"work\", \"year\", \"year\", \"year\", \"year\"]}, \"R\": 30, \"lambda.step\": 0.01, \"plot.opts\": {\"xlab\": \"PC1\", \"ylab\": \"PC2\"}, \"topic.order\": [3, 2, 1, 4]};\n",
       "\n",
       "function LDAvis_load_lib(url, callback){\n",
       "  var s = document.createElement('script');\n",
       "  s.src = url;\n",
       "  s.async = true;\n",
       "  s.onreadystatechange = s.onload = callback;\n",
       "  s.onerror = function(){console.warn(\"failed to load library \" + url);};\n",
       "  document.getElementsByTagName(\"head\")[0].appendChild(s);\n",
       "}\n",
       "\n",
       "if(typeof(LDAvis) !== \"undefined\"){\n",
       "   // already loaded: just create the visualization\n",
       "   !function(LDAvis){\n",
       "       new LDAvis(\"#\" + \"ldavis_el1367615452664258402063693828\", ldavis_el1367615452664258402063693828_data);\n",
       "   }(LDAvis);\n",
       "}else if(typeof define === \"function\" && define.amd){\n",
       "   // require.js is available: use it to load d3/LDAvis\n",
       "   require.config({paths: {d3: \"https://d3js.org/d3.v5\"}});\n",
       "   require([\"d3\"], function(d3){\n",
       "      window.d3 = d3;\n",
       "      LDAvis_load_lib(\"https://cdn.jsdelivr.net/gh/bmabey/pyLDAvis@3.4.0/pyLDAvis/js/ldavis.v3.0.0.js\", function(){\n",
       "        new LDAvis(\"#\" + \"ldavis_el1367615452664258402063693828\", ldavis_el1367615452664258402063693828_data);\n",
       "      });\n",
       "    });\n",
       "}else{\n",
       "    // require.js not available: dynamically load d3 & LDAvis\n",
       "    LDAvis_load_lib(\"https://d3js.org/d3.v5.js\", function(){\n",
       "         LDAvis_load_lib(\"https://cdn.jsdelivr.net/gh/bmabey/pyLDAvis@3.4.0/pyLDAvis/js/ldavis.v3.0.0.js\", function(){\n",
       "                 new LDAvis(\"#\" + \"ldavis_el1367615452664258402063693828\", ldavis_el1367615452664258402063693828_data);\n",
       "            })\n",
       "         });\n",
       "}\n",
       "</script>"
      ],
      "text/plain": [
       "PreparedData(topic_coordinates=              x         y  topics  cluster       Freq\n",
       "topic                                                \n",
       "2     -0.060767  0.032027       1        1  38.244937\n",
       "1     -0.039690 -0.102245       2        1  29.751452\n",
       "0      0.145673  0.005569       3        1  19.680911\n",
       "3     -0.045216  0.064649       4        1  12.322700, topic_info=           Term        Freq       Total Category  logprob  loglift\n",
       "644      system  705.000000  705.000000  Default  30.0000  30.0000\n",
       "238   marketing  347.000000  347.000000  Default  29.0000  29.0000\n",
       "347        sale  553.000000  553.000000  Default  28.0000  28.0000\n",
       "1045     server  172.000000  172.000000  Default  27.0000  27.0000\n",
       "71     business  679.000000  679.000000  Default  26.0000  26.0000\n",
       "...         ...         ...         ...      ...      ...      ...\n",
       "358       skill   52.558096  608.283845   Topic4  -5.7452  -0.3550\n",
       "573      office   47.452563  387.155848   Topic4  -5.8474  -0.0054\n",
       "305     process   47.687934  428.590953   Topic4  -5.8424  -0.1021\n",
       "644      system   48.404572  705.577949   Topic4  -5.8275  -0.5857\n",
       "383        team   44.712927  576.156594   Topic4  -5.9068  -0.4624\n",
       "\n",
       "[360 rows x 6 columns], token_table=      Topic      Freq  Term\n",
       "term                       \n",
       "2634      1  0.945488    00\n",
       "2         1  0.232537    01\n",
       "2         2  0.697610    01\n",
       "2         3  0.049476    01\n",
       "2         4  0.019790    01\n",
       "...     ...       ...   ...\n",
       "403       4  0.121722  work\n",
       "406       1  0.403484  year\n",
       "406       2  0.306648  year\n",
       "406       3  0.132343  year\n",
       "406       4  0.154938  year\n",
       "\n",
       "[707 rows x 3 columns], R=30, lambda_step=0.01, plot_opts={'xlab': 'PC1', 'ylab': 'PC2'}, topic_order=[3, 2, 1, 4])"
      ]
     },
     "execution_count": 57,
     "metadata": {},
     "output_type": "execute_result"
    }
   ],
   "source": [
    "pyLDAvis.enable_notebook()\n",
    "pyLDAvis.gensim_models.prepare(ldamodel, bow , dictionary)"
   ]
  },
  {
   "cell_type": "markdown",
   "id": "634618b0",
   "metadata": {},
   "source": [
    "# Conclusion"
   ]
  },
  {
   "cell_type": "markdown",
   "id": "67a8083e",
   "metadata": {},
   "source": [
    "In this project, we have used an entity ruler to create additional entities and then displayed them using custom colors. We have also visualized categories and skills distributions and allowed the user to add resumes directly which includes skills match percentage. Finally, we have used LDA for topic modeling and used pyLDAvis to visualize various topics.\n",
    "\n",
    "Overall, it was a learning experience for me as I have never used spaCy in depth. I have also discovered various ways on how my project can be used to improve the hiring process in filtering out the perfect candidate for the job. I hope you like my project and don't forget to give ♥."
   ]
  }
 ],
 "metadata": {
  "kernelspec": {
   "display_name": "Python 3 (ipykernel)",
   "language": "python",
   "name": "python3"
  },
  "language_info": {
   "codemirror_mode": {
    "name": "ipython",
    "version": 3
   },
   "file_extension": ".py",
   "mimetype": "text/x-python",
   "name": "python",
   "nbconvert_exporter": "python",
   "pygments_lexer": "ipython3",
   "version": "3.11.5"
  }
 },
 "nbformat": 4,
 "nbformat_minor": 5
}
